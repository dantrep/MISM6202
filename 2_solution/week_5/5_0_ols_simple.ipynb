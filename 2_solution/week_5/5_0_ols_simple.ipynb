{
 "cells": [
  {
   "cell_type": "markdown",
   "metadata": {},
   "source": [
    "# Simple OLS Regression"
   ]
  },
  {
   "cell_type": "markdown",
   "metadata": {},
   "source": [
    "### Figure Out the Beta and Alpha of AAPL Stock\n",
    "\n",
    "In finance, people often compare the peformance of a stock to a benchmark.  A common benchmark is the S&P 500.  Let's take a well known stock Apple and compare it to the S&P 500 and compute the beta and alpha.\n",
    "\n",
    "### What Is Beta?\n",
    "\n",
    "Beta is the slope of the returns of the stock vs the benchmark\n",
    "\n",
    "### What is Alpha?\n",
    "\n",
    "Alpha is the excess returns of the stocks relative to the benchmark"
   ]
  },
  {
   "cell_type": "markdown",
   "metadata": {},
   "source": [
    "### How Can We Compute this?\n",
    "\n",
    "Run a regression of daily returns of the stock vs the daily returns of the S&P 500 (the SPY will be the proxy)"
   ]
  },
  {
   "cell_type": "code",
   "execution_count": 1,
   "metadata": {},
   "outputs": [],
   "source": [
    "import os\n",
    "import pandas as pd\n",
    "import numpy as np\n",
    "import statsmodels.api as sm\n",
    "import plotly.express as px\n",
    "import plotly.graph_objects as go"
   ]
  },
  {
   "cell_type": "code",
   "execution_count": 2,
   "metadata": {},
   "outputs": [],
   "source": [
    "import pandas_datareader.data as web"
   ]
  },
  {
   "cell_type": "code",
   "execution_count": 8,
   "metadata": {},
   "outputs": [],
   "source": [
    "from datetime import datetime\n",
    "\n",
    "start = datetime(2016, 9, 1)\n",
    "\n",
    "end = datetime(2018, 9, 1)\n",
    "\n",
    "aapl = web.DataReader('AAPL', 'yahoo', start, end)\n",
    "spy = web.DataReader('SPY', 'yahoo', start, end)"
   ]
  },
  {
   "cell_type": "code",
   "execution_count": 10,
   "metadata": {},
   "outputs": [
    {
     "data": {
      "text/html": [
       "<div>\n",
       "<style scoped>\n",
       "    .dataframe tbody tr th:only-of-type {\n",
       "        vertical-align: middle;\n",
       "    }\n",
       "\n",
       "    .dataframe tbody tr th {\n",
       "        vertical-align: top;\n",
       "    }\n",
       "\n",
       "    .dataframe thead th {\n",
       "        text-align: right;\n",
       "    }\n",
       "</style>\n",
       "<table border=\"1\" class=\"dataframe\">\n",
       "  <thead>\n",
       "    <tr style=\"text-align: right;\">\n",
       "      <th></th>\n",
       "      <th>High</th>\n",
       "      <th>Low</th>\n",
       "      <th>Open</th>\n",
       "      <th>Close</th>\n",
       "      <th>Volume</th>\n",
       "      <th>Adj Close</th>\n",
       "    </tr>\n",
       "    <tr>\n",
       "      <th>Date</th>\n",
       "      <th></th>\n",
       "      <th></th>\n",
       "      <th></th>\n",
       "      <th></th>\n",
       "      <th></th>\n",
       "      <th></th>\n",
       "    </tr>\n",
       "  </thead>\n",
       "  <tbody>\n",
       "    <tr>\n",
       "      <th>2016-09-01</th>\n",
       "      <td>26.700001</td>\n",
       "      <td>26.405001</td>\n",
       "      <td>26.535000</td>\n",
       "      <td>26.682501</td>\n",
       "      <td>106806000.0</td>\n",
       "      <td>25.103992</td>\n",
       "    </tr>\n",
       "    <tr>\n",
       "      <th>2016-09-02</th>\n",
       "      <td>27.000000</td>\n",
       "      <td>26.705000</td>\n",
       "      <td>26.924999</td>\n",
       "      <td>26.932501</td>\n",
       "      <td>107210000.0</td>\n",
       "      <td>25.339201</td>\n",
       "    </tr>\n",
       "    <tr>\n",
       "      <th>2016-09-06</th>\n",
       "      <td>27.075001</td>\n",
       "      <td>26.877501</td>\n",
       "      <td>26.975000</td>\n",
       "      <td>26.924999</td>\n",
       "      <td>107521600.0</td>\n",
       "      <td>25.332144</td>\n",
       "    </tr>\n",
       "    <tr>\n",
       "      <th>2016-09-07</th>\n",
       "      <td>27.190001</td>\n",
       "      <td>26.767500</td>\n",
       "      <td>26.957500</td>\n",
       "      <td>27.090000</td>\n",
       "      <td>169457200.0</td>\n",
       "      <td>25.487383</td>\n",
       "    </tr>\n",
       "    <tr>\n",
       "      <th>2016-09-08</th>\n",
       "      <td>26.817499</td>\n",
       "      <td>26.309999</td>\n",
       "      <td>26.812500</td>\n",
       "      <td>26.379999</td>\n",
       "      <td>212008000.0</td>\n",
       "      <td>24.819384</td>\n",
       "    </tr>\n",
       "    <tr>\n",
       "      <th>...</th>\n",
       "      <td>...</td>\n",
       "      <td>...</td>\n",
       "      <td>...</td>\n",
       "      <td>...</td>\n",
       "      <td>...</td>\n",
       "      <td>...</td>\n",
       "    </tr>\n",
       "    <tr>\n",
       "      <th>2018-08-27</th>\n",
       "      <td>54.685001</td>\n",
       "      <td>54.082500</td>\n",
       "      <td>54.287498</td>\n",
       "      <td>54.485001</td>\n",
       "      <td>82100400.0</td>\n",
       "      <td>52.954708</td>\n",
       "    </tr>\n",
       "    <tr>\n",
       "      <th>2018-08-28</th>\n",
       "      <td>55.134998</td>\n",
       "      <td>54.730000</td>\n",
       "      <td>54.752499</td>\n",
       "      <td>54.924999</td>\n",
       "      <td>91107200.0</td>\n",
       "      <td>53.382347</td>\n",
       "    </tr>\n",
       "    <tr>\n",
       "      <th>2018-08-29</th>\n",
       "      <td>55.872501</td>\n",
       "      <td>54.852501</td>\n",
       "      <td>55.037498</td>\n",
       "      <td>55.744999</td>\n",
       "      <td>109019200.0</td>\n",
       "      <td>54.179314</td>\n",
       "    </tr>\n",
       "    <tr>\n",
       "      <th>2018-08-30</th>\n",
       "      <td>57.064999</td>\n",
       "      <td>55.599998</td>\n",
       "      <td>55.812500</td>\n",
       "      <td>56.257500</td>\n",
       "      <td>195175200.0</td>\n",
       "      <td>54.677422</td>\n",
       "    </tr>\n",
       "    <tr>\n",
       "      <th>2018-08-31</th>\n",
       "      <td>57.217499</td>\n",
       "      <td>56.500000</td>\n",
       "      <td>56.627499</td>\n",
       "      <td>56.907501</td>\n",
       "      <td>173360400.0</td>\n",
       "      <td>55.309166</td>\n",
       "    </tr>\n",
       "  </tbody>\n",
       "</table>\n",
       "<p>504 rows × 6 columns</p>\n",
       "</div>"
      ],
      "text/plain": [
       "                 High        Low       Open      Close       Volume  Adj Close\n",
       "Date                                                                          \n",
       "2016-09-01  26.700001  26.405001  26.535000  26.682501  106806000.0  25.103992\n",
       "2016-09-02  27.000000  26.705000  26.924999  26.932501  107210000.0  25.339201\n",
       "2016-09-06  27.075001  26.877501  26.975000  26.924999  107521600.0  25.332144\n",
       "2016-09-07  27.190001  26.767500  26.957500  27.090000  169457200.0  25.487383\n",
       "2016-09-08  26.817499  26.309999  26.812500  26.379999  212008000.0  24.819384\n",
       "...               ...        ...        ...        ...          ...        ...\n",
       "2018-08-27  54.685001  54.082500  54.287498  54.485001   82100400.0  52.954708\n",
       "2018-08-28  55.134998  54.730000  54.752499  54.924999   91107200.0  53.382347\n",
       "2018-08-29  55.872501  54.852501  55.037498  55.744999  109019200.0  54.179314\n",
       "2018-08-30  57.064999  55.599998  55.812500  56.257500  195175200.0  54.677422\n",
       "2018-08-31  57.217499  56.500000  56.627499  56.907501  173360400.0  55.309166\n",
       "\n",
       "[504 rows x 6 columns]"
      ]
     },
     "execution_count": 10,
     "metadata": {},
     "output_type": "execute_result"
    }
   ],
   "source": [
    "aapl"
   ]
  },
  {
   "cell_type": "code",
   "execution_count": 12,
   "metadata": {},
   "outputs": [],
   "source": [
    "aapl['aapl_ret'] = aapl['Adj Close'].pct_change()"
   ]
  },
  {
   "cell_type": "code",
   "execution_count": 13,
   "metadata": {},
   "outputs": [],
   "source": [
    "spy['spy_ret'] = spy['Adj Close'].pct_change()"
   ]
  },
  {
   "cell_type": "code",
   "execution_count": null,
   "metadata": {},
   "outputs": [],
   "source": []
  },
  {
   "cell_type": "code",
   "execution_count": 18,
   "metadata": {},
   "outputs": [
    {
     "data": {
      "text/html": [
       "<div>\n",
       "<style scoped>\n",
       "    .dataframe tbody tr th:only-of-type {\n",
       "        vertical-align: middle;\n",
       "    }\n",
       "\n",
       "    .dataframe tbody tr th {\n",
       "        vertical-align: top;\n",
       "    }\n",
       "\n",
       "    .dataframe thead th {\n",
       "        text-align: right;\n",
       "    }\n",
       "</style>\n",
       "<table border=\"1\" class=\"dataframe\">\n",
       "  <thead>\n",
       "    <tr style=\"text-align: right;\">\n",
       "      <th></th>\n",
       "      <th>High_x</th>\n",
       "      <th>Low_x</th>\n",
       "      <th>Open_x</th>\n",
       "      <th>Close_x</th>\n",
       "      <th>Volume_x</th>\n",
       "      <th>Adj Close_x</th>\n",
       "      <th>aapl_ret</th>\n",
       "      <th>High_y</th>\n",
       "      <th>Low_y</th>\n",
       "      <th>Open_y</th>\n",
       "      <th>Close_y</th>\n",
       "      <th>Volume_y</th>\n",
       "      <th>Adj Close_y</th>\n",
       "      <th>spy_ret</th>\n",
       "    </tr>\n",
       "    <tr>\n",
       "      <th>Date</th>\n",
       "      <th></th>\n",
       "      <th></th>\n",
       "      <th></th>\n",
       "      <th></th>\n",
       "      <th></th>\n",
       "      <th></th>\n",
       "      <th></th>\n",
       "      <th></th>\n",
       "      <th></th>\n",
       "      <th></th>\n",
       "      <th></th>\n",
       "      <th></th>\n",
       "      <th></th>\n",
       "      <th></th>\n",
       "    </tr>\n",
       "  </thead>\n",
       "  <tbody>\n",
       "    <tr>\n",
       "      <th>2016-09-01</th>\n",
       "      <td>26.700001</td>\n",
       "      <td>26.405001</td>\n",
       "      <td>26.535000</td>\n",
       "      <td>26.682501</td>\n",
       "      <td>106806000.0</td>\n",
       "      <td>25.103992</td>\n",
       "      <td>NaN</td>\n",
       "      <td>217.729996</td>\n",
       "      <td>216.029999</td>\n",
       "      <td>217.369995</td>\n",
       "      <td>217.389999</td>\n",
       "      <td>97844200.0</td>\n",
       "      <td>198.775284</td>\n",
       "      <td>NaN</td>\n",
       "    </tr>\n",
       "    <tr>\n",
       "      <th>2016-09-02</th>\n",
       "      <td>27.000000</td>\n",
       "      <td>26.705000</td>\n",
       "      <td>26.924999</td>\n",
       "      <td>26.932501</td>\n",
       "      <td>107210000.0</td>\n",
       "      <td>25.339201</td>\n",
       "      <td>0.009369</td>\n",
       "      <td>218.869995</td>\n",
       "      <td>217.699997</td>\n",
       "      <td>218.389999</td>\n",
       "      <td>218.369995</td>\n",
       "      <td>79293900.0</td>\n",
       "      <td>199.671371</td>\n",
       "      <td>0.004508</td>\n",
       "    </tr>\n",
       "    <tr>\n",
       "      <th>2016-09-06</th>\n",
       "      <td>27.075001</td>\n",
       "      <td>26.877501</td>\n",
       "      <td>26.975000</td>\n",
       "      <td>26.924999</td>\n",
       "      <td>107521600.0</td>\n",
       "      <td>25.332144</td>\n",
       "      <td>-0.000279</td>\n",
       "      <td>219.119995</td>\n",
       "      <td>217.860001</td>\n",
       "      <td>218.699997</td>\n",
       "      <td>219.029999</td>\n",
       "      <td>56702100.0</td>\n",
       "      <td>200.274857</td>\n",
       "      <td>0.003022</td>\n",
       "    </tr>\n",
       "    <tr>\n",
       "      <th>2016-09-07</th>\n",
       "      <td>27.190001</td>\n",
       "      <td>26.767500</td>\n",
       "      <td>26.957500</td>\n",
       "      <td>27.090000</td>\n",
       "      <td>169457200.0</td>\n",
       "      <td>25.487383</td>\n",
       "      <td>0.006128</td>\n",
       "      <td>219.220001</td>\n",
       "      <td>218.300003</td>\n",
       "      <td>218.839996</td>\n",
       "      <td>219.009995</td>\n",
       "      <td>76554900.0</td>\n",
       "      <td>200.256561</td>\n",
       "      <td>-0.000091</td>\n",
       "    </tr>\n",
       "    <tr>\n",
       "      <th>2016-09-08</th>\n",
       "      <td>26.817499</td>\n",
       "      <td>26.309999</td>\n",
       "      <td>26.812500</td>\n",
       "      <td>26.379999</td>\n",
       "      <td>212008000.0</td>\n",
       "      <td>24.819384</td>\n",
       "      <td>-0.026209</td>\n",
       "      <td>218.940002</td>\n",
       "      <td>218.149994</td>\n",
       "      <td>218.619995</td>\n",
       "      <td>218.509995</td>\n",
       "      <td>74102900.0</td>\n",
       "      <td>199.799377</td>\n",
       "      <td>-0.002283</td>\n",
       "    </tr>\n",
       "  </tbody>\n",
       "</table>\n",
       "</div>"
      ],
      "text/plain": [
       "               High_x      Low_x     Open_x    Close_x     Volume_x  \\\n",
       "Date                                                                  \n",
       "2016-09-01  26.700001  26.405001  26.535000  26.682501  106806000.0   \n",
       "2016-09-02  27.000000  26.705000  26.924999  26.932501  107210000.0   \n",
       "2016-09-06  27.075001  26.877501  26.975000  26.924999  107521600.0   \n",
       "2016-09-07  27.190001  26.767500  26.957500  27.090000  169457200.0   \n",
       "2016-09-08  26.817499  26.309999  26.812500  26.379999  212008000.0   \n",
       "\n",
       "            Adj Close_x  aapl_ret      High_y       Low_y      Open_y  \\\n",
       "Date                                                                    \n",
       "2016-09-01    25.103992       NaN  217.729996  216.029999  217.369995   \n",
       "2016-09-02    25.339201  0.009369  218.869995  217.699997  218.389999   \n",
       "2016-09-06    25.332144 -0.000279  219.119995  217.860001  218.699997   \n",
       "2016-09-07    25.487383  0.006128  219.220001  218.300003  218.839996   \n",
       "2016-09-08    24.819384 -0.026209  218.940002  218.149994  218.619995   \n",
       "\n",
       "               Close_y    Volume_y  Adj Close_y   spy_ret  \n",
       "Date                                                       \n",
       "2016-09-01  217.389999  97844200.0   198.775284       NaN  \n",
       "2016-09-02  218.369995  79293900.0   199.671371  0.004508  \n",
       "2016-09-06  219.029999  56702100.0   200.274857  0.003022  \n",
       "2016-09-07  219.009995  76554900.0   200.256561 -0.000091  \n",
       "2016-09-08  218.509995  74102900.0   199.799377 -0.002283  "
      ]
     },
     "execution_count": 18,
     "metadata": {},
     "output_type": "execute_result"
    }
   ],
   "source": [
    "df = pd.merge(aapl, spy, left_index=True, right_index=True)\n",
    "df.head()"
   ]
  },
  {
   "cell_type": "code",
   "execution_count": 19,
   "metadata": {},
   "outputs": [
    {
     "data": {
      "text/html": [
       "<div>\n",
       "<style scoped>\n",
       "    .dataframe tbody tr th:only-of-type {\n",
       "        vertical-align: middle;\n",
       "    }\n",
       "\n",
       "    .dataframe tbody tr th {\n",
       "        vertical-align: top;\n",
       "    }\n",
       "\n",
       "    .dataframe thead th {\n",
       "        text-align: right;\n",
       "    }\n",
       "</style>\n",
       "<table border=\"1\" class=\"dataframe\">\n",
       "  <thead>\n",
       "    <tr style=\"text-align: right;\">\n",
       "      <th></th>\n",
       "      <th>Adj Close_x</th>\n",
       "      <th>Adj Close_y</th>\n",
       "      <th>aapl_ret</th>\n",
       "      <th>spy_ret</th>\n",
       "    </tr>\n",
       "    <tr>\n",
       "      <th>Date</th>\n",
       "      <th></th>\n",
       "      <th></th>\n",
       "      <th></th>\n",
       "      <th></th>\n",
       "    </tr>\n",
       "  </thead>\n",
       "  <tbody>\n",
       "    <tr>\n",
       "      <th>2016-09-01</th>\n",
       "      <td>25.103992</td>\n",
       "      <td>198.775284</td>\n",
       "      <td>NaN</td>\n",
       "      <td>NaN</td>\n",
       "    </tr>\n",
       "    <tr>\n",
       "      <th>2016-09-02</th>\n",
       "      <td>25.339201</td>\n",
       "      <td>199.671371</td>\n",
       "      <td>0.009369</td>\n",
       "      <td>0.004508</td>\n",
       "    </tr>\n",
       "    <tr>\n",
       "      <th>2016-09-06</th>\n",
       "      <td>25.332144</td>\n",
       "      <td>200.274857</td>\n",
       "      <td>-0.000279</td>\n",
       "      <td>0.003022</td>\n",
       "    </tr>\n",
       "    <tr>\n",
       "      <th>2016-09-07</th>\n",
       "      <td>25.487383</td>\n",
       "      <td>200.256561</td>\n",
       "      <td>0.006128</td>\n",
       "      <td>-0.000091</td>\n",
       "    </tr>\n",
       "    <tr>\n",
       "      <th>2016-09-08</th>\n",
       "      <td>24.819384</td>\n",
       "      <td>199.799377</td>\n",
       "      <td>-0.026209</td>\n",
       "      <td>-0.002283</td>\n",
       "    </tr>\n",
       "  </tbody>\n",
       "</table>\n",
       "</div>"
      ],
      "text/plain": [
       "            Adj Close_x  Adj Close_y  aapl_ret   spy_ret\n",
       "Date                                                    \n",
       "2016-09-01    25.103992   198.775284       NaN       NaN\n",
       "2016-09-02    25.339201   199.671371  0.009369  0.004508\n",
       "2016-09-06    25.332144   200.274857 -0.000279  0.003022\n",
       "2016-09-07    25.487383   200.256561  0.006128 -0.000091\n",
       "2016-09-08    24.819384   199.799377 -0.026209 -0.002283"
      ]
     },
     "execution_count": 19,
     "metadata": {},
     "output_type": "execute_result"
    }
   ],
   "source": [
    "df = df[['Adj Close_x','Adj Close_y','aapl_ret', 'spy_ret']]\n",
    "df.head()"
   ]
  },
  {
   "cell_type": "code",
   "execution_count": 20,
   "metadata": {},
   "outputs": [],
   "source": [
    "X = df['spy_ret'].values[1:]\n",
    "Y = df['aapl_ret'].values[1:]"
   ]
  },
  {
   "cell_type": "code",
   "execution_count": 23,
   "metadata": {},
   "outputs": [],
   "source": [
    "X = sm.add_constant(X)\n",
    "model = sm.OLS(Y,X)\n",
    "results = model.fit()"
   ]
  },
  {
   "cell_type": "code",
   "execution_count": 25,
   "metadata": {},
   "outputs": [
    {
     "data": {
      "text/html": [
       "<table class=\"simpletable\">\n",
       "<caption>OLS Regression Results</caption>\n",
       "<tr>\n",
       "  <th>Dep. Variable:</th>            <td>y</td>        <th>  R-squared:         </th> <td>   0.324</td>\n",
       "</tr>\n",
       "<tr>\n",
       "  <th>Model:</th>                   <td>OLS</td>       <th>  Adj. R-squared:    </th> <td>   0.323</td>\n",
       "</tr>\n",
       "<tr>\n",
       "  <th>Method:</th>             <td>Least Squares</td>  <th>  F-statistic:       </th> <td>   240.4</td>\n",
       "</tr>\n",
       "<tr>\n",
       "  <th>Date:</th>             <td>Sun, 21 Mar 2021</td> <th>  Prob (F-statistic):</th> <td>1.45e-44</td>\n",
       "</tr>\n",
       "<tr>\n",
       "  <th>Time:</th>                 <td>20:59:20</td>     <th>  Log-Likelihood:    </th> <td>  1589.6</td>\n",
       "</tr>\n",
       "<tr>\n",
       "  <th>No. Observations:</th>      <td>   503</td>      <th>  AIC:               </th> <td>  -3175.</td>\n",
       "</tr>\n",
       "<tr>\n",
       "  <th>Df Residuals:</th>          <td>   501</td>      <th>  BIC:               </th> <td>  -3167.</td>\n",
       "</tr>\n",
       "<tr>\n",
       "  <th>Df Model:</th>              <td>     1</td>      <th>                     </th>     <td> </td>   \n",
       "</tr>\n",
       "<tr>\n",
       "  <th>Covariance Type:</th>      <td>nonrobust</td>    <th>                     </th>     <td> </td>   \n",
       "</tr>\n",
       "</table>\n",
       "<table class=\"simpletable\">\n",
       "<tr>\n",
       "    <td></td>       <th>coef</th>     <th>std err</th>      <th>t</th>      <th>P>|t|</th>  <th>[0.025</th>    <th>0.975]</th>  \n",
       "</tr>\n",
       "<tr>\n",
       "  <th>const</th> <td>    0.0009</td> <td>    0.000</td> <td>    2.018</td> <td> 0.044</td> <td> 2.44e-05</td> <td>    0.002</td>\n",
       "</tr>\n",
       "<tr>\n",
       "  <th>x1</th>    <td>    1.0665</td> <td>    0.069</td> <td>   15.504</td> <td> 0.000</td> <td>    0.931</td> <td>    1.202</td>\n",
       "</tr>\n",
       "</table>\n",
       "<table class=\"simpletable\">\n",
       "<tr>\n",
       "  <th>Omnibus:</th>       <td>155.934</td> <th>  Durbin-Watson:     </th> <td>   1.692</td> \n",
       "</tr>\n",
       "<tr>\n",
       "  <th>Prob(Omnibus):</th> <td> 0.000</td>  <th>  Jarque-Bera (JB):  </th> <td>1090.395</td> \n",
       "</tr>\n",
       "<tr>\n",
       "  <th>Skew:</th>          <td> 1.159</td>  <th>  Prob(JB):          </th> <td>1.67e-237</td>\n",
       "</tr>\n",
       "<tr>\n",
       "  <th>Kurtosis:</th>      <td> 9.830</td>  <th>  Cond. No.          </th> <td>    150.</td> \n",
       "</tr>\n",
       "</table><br/><br/>Warnings:<br/>[1] Standard Errors assume that the covariance matrix of the errors is correctly specified."
      ],
      "text/plain": [
       "<class 'statsmodels.iolib.summary.Summary'>\n",
       "\"\"\"\n",
       "                            OLS Regression Results                            \n",
       "==============================================================================\n",
       "Dep. Variable:                      y   R-squared:                       0.324\n",
       "Model:                            OLS   Adj. R-squared:                  0.323\n",
       "Method:                 Least Squares   F-statistic:                     240.4\n",
       "Date:                Sun, 21 Mar 2021   Prob (F-statistic):           1.45e-44\n",
       "Time:                        20:59:20   Log-Likelihood:                 1589.6\n",
       "No. Observations:                 503   AIC:                            -3175.\n",
       "Df Residuals:                     501   BIC:                            -3167.\n",
       "Df Model:                           1                                         \n",
       "Covariance Type:            nonrobust                                         \n",
       "==============================================================================\n",
       "                 coef    std err          t      P>|t|      [0.025      0.975]\n",
       "------------------------------------------------------------------------------\n",
       "const          0.0009      0.000      2.018      0.044    2.44e-05       0.002\n",
       "x1             1.0665      0.069     15.504      0.000       0.931       1.202\n",
       "==============================================================================\n",
       "Omnibus:                      155.934   Durbin-Watson:                   1.692\n",
       "Prob(Omnibus):                  0.000   Jarque-Bera (JB):             1090.395\n",
       "Skew:                           1.159   Prob(JB):                    1.67e-237\n",
       "Kurtosis:                       9.830   Cond. No.                         150.\n",
       "==============================================================================\n",
       "\n",
       "Warnings:\n",
       "[1] Standard Errors assume that the covariance matrix of the errors is correctly specified.\n",
       "\"\"\""
      ]
     },
     "execution_count": 25,
     "metadata": {},
     "output_type": "execute_result"
    }
   ],
   "source": [
    "results.summary()"
   ]
  },
  {
   "cell_type": "markdown",
   "metadata": {},
   "source": [
    "### Beta\n",
    "\n",
    "$\\beta = 1.07$ (0.93 to 1.20)  \n",
    "$\\alpha = 9$ bps (P value = 0.04)\n",
    "\n",
    "$R^2 = 0.32$"
   ]
  },
  {
   "cell_type": "code",
   "execution_count": 26,
   "metadata": {},
   "outputs": [],
   "source": [
    "import seaborn as sns"
   ]
  },
  {
   "cell_type": "code",
   "execution_count": 34,
   "metadata": {},
   "outputs": [
    {
     "data": {
      "image/png": "[encoded data removed]",
      "text/plain": [
       "<Figure size 432x288 with 1 Axes>"
      ]
     },
     "metadata": {},
     "output_type": "display_data"
    }
   ],
   "source": [
    "import seaborn as sns; sns.set(color_codes=True)\n",
    "ax = sns.regplot(x='spy_ret', y='aapl_ret',data=df)"
   ]
  },
  {
   "cell_type": "code",
   "execution_count": 36,
   "metadata": {},
   "outputs": [
    {
     "data": {
      "text/plain": [
       "array([ 3.63176567e-03, -4.43171262e-03,  5.29564405e-03, -2.47042115e-02,\n",
       "        1.94593189e-03,  6.16844434e-03,  3.82060568e-02,  3.48568205e-02,\n",
       "        2.24114539e-02, -2.43182431e-03, -1.27901320e-02, -1.06821562e-03,\n",
       "       -1.30988122e-02,  1.77296559e-03, -1.17503251e-02,  9.21918095e-03,\n",
       "       -5.69020866e-03,  1.38132820e-03, -6.81454208e-03, -1.22212058e-03,\n",
       "       -3.05421587e-03,  8.77241769e-03, -5.20663308e-03,  5.75855338e-03,\n",
       "        4.21979556e-03,  1.09629232e-02,  1.46931313e-02,  6.61335022e-03,\n",
       "       -5.04787446e-04,  4.07564842e-03,  2.09325044e-03, -8.28914550e-03,\n",
       "       -6.75400869e-03,  5.48647155e-04, -5.35800549e-03,  3.53985545e-03,\n",
       "        7.74336939e-03, -2.12837481e-02, -7.68882969e-03, -4.41684649e-03,\n",
       "       -2.56297093e-03, -1.12580823e-02,  6.38557342e-03, -6.76726265e-03,\n",
       "       -8.76895090e-03, -1.00281326e-02,  1.53681742e-04, -1.38573616e-02,\n",
       "       -3.14591924e-02,  7.46573814e-03, -2.68530138e-02,  3.99249141e-03,\n",
       "        2.79616358e-02, -6.77609899e-03,  2.45666611e-03,  6.19052823e-03,\n",
       "       -2.38683895e-03, -6.60822763e-03,  1.42178905e-04,  2.10883421e-03,\n",
       "       -3.99591242e-03, -6.80468753e-03, -6.32953498e-03,  2.28052782e-03,\n",
       "       -1.45264855e-02,  3.39077313e-03, -5.05750315e-03,  6.27591246e-03,\n",
       "        8.94999931e-03, -5.41025131e-03,  8.63398620e-03,  7.87287564e-03,\n",
       "        1.48494335e-04,  2.45104537e-03,  2.52517547e-03, -2.38620499e-03,\n",
       "        2.97812599e-03, -5.66503917e-03, -5.13985472e-04,  2.77510375e-03,\n",
       "        3.61984006e-03, -9.49207840e-04, -4.82787837e-03, -6.23910792e-03,\n",
       "       -8.39399342e-03,  5.00286310e-03,  6.40275221e-03,  1.17497898e-02,\n",
       "        7.86216527e-05,  1.42922430e-03, -2.42827021e-03, -5.13916354e-03,\n",
       "        1.08924194e-02, -3.37018140e-03,  1.27064661e-03, -3.01139927e-03,\n",
       "        2.51163403e-03, -8.68378535e-03,  5.75996378e-03,  6.77137726e-04,\n",
       "        8.26367442e-04,  3.05992915e-03, -3.13827351e-03,  5.96286886e-02,\n",
       "       -3.34129488e-03, -4.00178572e-03,  1.03507894e-02,  8.54060976e-03,\n",
       "        1.54981507e-03, -3.07684784e-05, -7.40411184e-03,  2.12139393e-03,\n",
       "        7.78864842e-03, -2.86822873e-03, -1.20280577e-03,  1.22751432e-04,\n",
       "       -6.02208488e-05,  3.01635007e-03, -5.88223484e-03, -1.33086666e-03,\n",
       "       -6.21156396e-04,  2.38675950e-03,  4.58165372e-03, -1.51413716e-04,\n",
       "        4.29954732e-03, -9.01821135e-04,  3.54722461e-03, -2.67686866e-03,\n",
       "       -4.58453170e-03, -1.35032858e-03, -1.03709281e-03,  1.64243966e-03,\n",
       "        4.17816286e-04,  2.80542809e-03, -4.03235494e-03,  1.07404999e-02,\n",
       "        1.31062867e-03,  7.85925408e-03, -3.32733455e-03, -2.14223563e-03,\n",
       "        1.87122866e-03,  1.20362456e-02,  2.98223344e-04, -5.64384245e-03,\n",
       "       -3.23674520e-04,  1.20336263e-03,  5.83643722e-03, -2.94040676e-03,\n",
       "       -6.42757226e-03, -2.07026338e-03, -2.75037139e-03, -1.04175259e-02,\n",
       "        4.94340082e-03,  7.07638329e-04, -4.84906375e-03, -2.18884873e-03,\n",
       "       -2.65226877e-03,  2.90098273e-03,  1.27503602e-03, -3.02931891e-03,\n",
       "       -9.39137844e-04, -6.14075560e-03, -1.05896376e-03,  4.21047603e-04,\n",
       "        1.67788635e-02,  5.01273564e-03, -2.68530682e-03, -5.78604398e-03,\n",
       "        1.14549933e-02,  2.64367294e-02,  6.45375459e-03, -7.58574624e-03,\n",
       "        9.89688017e-03,  1.48176948e-02, -9.38303313e-03, -1.43047747e-03,\n",
       "       -1.55823098e-02,  1.00151427e-02, -4.45737120e-03, -2.68701768e-04,\n",
       "       -4.52382306e-03, -6.40866597e-03, -2.57061004e-03, -2.39923490e-03,\n",
       "        3.87150627e-04, -6.58669082e-03, -6.66123503e-03,  1.03394295e-02,\n",
       "       -9.92173761e-03,  5.85740494e-03,  3.05345241e-03, -3.90077394e-03,\n",
       "       -3.80882291e-02, -2.46063032e-02,  1.90071738e-03, -9.33318326e-03,\n",
       "       -4.87113985e-03, -1.51622882e-02,  1.87992419e-02, -2.82567626e-03,\n",
       "        5.26364429e-03, -2.09227109e-03,  2.25947451e-03, -4.77603950e-03,\n",
       "       -6.67138138e-03,  4.13577459e-03, -6.30011158e-03, -5.52037836e-04,\n",
       "       -6.34886933e-03,  7.15900450e-04, -6.16321332e-04,  2.31270302e-03,\n",
       "        4.02846952e-03,  3.10225981e-03, -7.50105015e-03,  1.12071064e-02,\n",
       "        2.69022201e-03,  2.68949044e-03,  1.98243133e-03, -4.40749781e-04,\n",
       "       -5.90754720e-03, -4.46151155e-04,  1.14411023e-02,  7.51414911e-04,\n",
       "        3.74066555e-03, -1.88357530e-02, -6.71947157e-03, -5.47577489e-03,\n",
       "        5.56856604e-03,  4.58029534e-02, -8.85205558e-03,  2.39789263e-03,\n",
       "        1.25614234e-02,  9.69176232e-03,  5.23504280e-03, -1.77284635e-02,\n",
       "        1.14019803e-02,  3.54764353e-03,  1.01474268e-02, -6.81238461e-03,\n",
       "       -3.50138721e-03, -1.54349024e-03, -3.60582786e-03,  4.26546522e-03,\n",
       "        4.14545699e-03, -2.88222066e-03,  2.83266783e-04,  9.09716500e-03,\n",
       "        6.76749968e-03, -3.28138534e-03, -3.36675033e-03, -2.13336022e-03,\n",
       "       -5.27900852e-03, -5.61942422e-03, -4.81491049e-03, -1.59859329e-02,\n",
       "        5.78744952e-03, -8.48765405e-03, -8.96354519e-03, -9.17034309e-03,\n",
       "        7.74323954e-03, -1.07666462e-02, -1.61925558e-03, -1.80719179e-02,\n",
       "       -1.52444936e-02, -1.09224184e-02, -7.57163467e-03,  1.56310559e-02,\n",
       "        2.03454578e-03, -8.36905441e-03,  8.01250355e-04, -7.56820369e-03,\n",
       "        1.14377015e-03, -8.66856853e-03,  5.19569931e-03, -2.94784433e-04,\n",
       "        4.30824114e-03, -3.35876575e-03,  1.56436005e-03, -2.85425891e-03,\n",
       "        4.11811011e-03,  1.60565573e-02,  2.00846352e-03, -6.39812295e-03,\n",
       "       -2.48823238e-02, -4.70262478e-03,  2.70620353e-03,  3.15121746e-03,\n",
       "       -4.30298259e-05,  4.08507798e-03,  2.61804900e-02,  2.55511275e-02,\n",
       "        1.13243196e-02, -1.50590535e-02,  5.96602058e-03,  2.16235443e-02,\n",
       "        7.56432114e-03,  3.02542772e-03,  5.43649186e-03,  8.96207662e-04,\n",
       "       -3.90882621e-03, -5.92926628e-03, -1.35705373e-02, -8.78205262e-03,\n",
       "        1.95107257e-03, -3.34807416e-03, -3.74896642e-03,  1.06829217e-02,\n",
       "        1.05249841e-02, -3.33586656e-03, -5.42719578e-03, -1.76077849e-02,\n",
       "       -2.10240544e-02,  3.71718448e-03, -3.37168711e-03, -6.94734176e-03,\n",
       "        1.96334931e-03, -4.84630854e-03, -2.45815238e-03, -6.45047036e-03,\n",
       "        1.53410247e-02, -8.42964735e-03,  2.50967091e-03,  3.13762877e-03,\n",
       "        3.50555319e-04,  6.39030472e-03, -7.49072940e-03, -1.45971155e-03,\n",
       "        6.58995364e-04, -6.51010258e-04, -2.50241155e-02, -1.27286604e-03,\n",
       "       -3.10605233e-04, -7.72264817e-03,  9.34181777e-03, -7.84948198e-03,\n",
       "       -7.79853236e-04,  3.34819347e-03, -6.59430015e-03, -3.45844274e-03,\n",
       "        4.72002467e-04, -3.03060793e-03,  2.44379412e-03, -2.36645232e-03,\n",
       "        5.42131733e-03,  1.75579305e-03, -1.02446508e-02, -1.77821572e-02,\n",
       "       -2.96789847e-03, -1.64440820e-02, -1.92329805e-02, -1.09396039e-02,\n",
       "       -1.45579015e-02,  4.11458792e-03,  1.29535253e-03,  2.37137830e-03,\n",
       "       -2.11034799e-02,  1.86880648e-02,  1.98497566e-02, -1.65514119e-02,\n",
       "        1.15553869e-02, -4.71834321e-03,  2.36882498e-02,  6.43498733e-03,\n",
       "        3.11444936e-03,  1.90401983e-02, -4.47961540e-03,  2.38394847e-03,\n",
       "       -1.63998216e-04,  6.04698855e-03, -5.37439217e-04,  6.45797936e-03,\n",
       "        9.14587882e-03,  8.35970538e-03, -2.93890570e-03,  4.86668742e-04,\n",
       "       -9.79432421e-03, -4.48163461e-03, -9.82214345e-03,  4.82144992e-03,\n",
       "       -2.30767495e-03,  1.00764398e-02, -3.66780148e-03, -3.95884965e-03,\n",
       "        1.40930295e-03, -5.61308510e-03, -1.77940495e-03, -3.08563669e-03,\n",
       "       -2.15378159e-02,  1.15988105e-02, -1.35522380e-03,  1.73643381e-02,\n",
       "       -8.42859199e-03, -8.82751578e-03, -6.74813539e-03,  1.55330588e-02,\n",
       "       -4.33954882e-03,  6.78182847e-03, -2.41220062e-03, -2.74126128e-03,\n",
       "        3.73207671e-03,  9.31220036e-04, -1.50492593e-05,  1.54967125e-04,\n",
       "        5.58629756e-03, -3.46004046e-03,  1.42452701e-03, -3.96381636e-03,\n",
       "       -2.33534742e-02, -3.28591618e-02, -3.66653012e-03, -4.86426052e-04,\n",
       "        7.91249693e-04, -8.28788061e-03, -1.35010734e-02,  2.53841163e-02,\n",
       "        2.04112392e-02,  5.04092199e-02,  3.23229273e-03,  2.44965604e-02,\n",
       "        2.69682735e-03,  3.87700850e-03, -4.19701922e-03,  3.40180629e-03,\n",
       "       -7.98723987e-03, -3.77134402e-03, -2.67339771e-03,  3.91791372e-03,\n",
       "       -6.35255176e-03, -1.90030492e-03, -1.86296383e-03, -4.70029512e-04,\n",
       "        2.54759168e-03,  1.39535137e-04,  3.89690960e-03,  7.72930544e-03,\n",
       "       -1.72903213e-02,  2.24316213e-03,  6.63392449e-03,  2.36065016e-03,\n",
       "        6.00900748e-03, -6.38011168e-03, -3.49526506e-03, -1.31800194e-02,\n",
       "       -4.80017125e-03,  3.18242566e-03, -5.74392731e-03, -3.09072607e-03,\n",
       "       -9.84177844e-03,  7.33591484e-04, -1.30019401e-02,  1.61290973e-03,\n",
       "        1.79389556e-04, -5.78631654e-03, -1.28334368e-03,  9.11460339e-03,\n",
       "        6.44096991e-03,  2.49008576e-04, -4.56758340e-03,  7.97247072e-03,\n",
       "       -1.45802960e-02, -1.58349906e-03,  3.91188088e-03,  3.35204188e-03,\n",
       "       -5.97399692e-03, -6.10547082e-03,  6.16747592e-03, -1.99171213e-04,\n",
       "       -2.17160998e-03, -2.41526621e-03, -8.65829025e-03,  1.08655268e-02,\n",
       "       -2.00404678e-03, -2.02493052e-03,  9.57554125e-04, -5.88698941e-04,\n",
       "       -1.54528232e-03, -1.03343248e-02, -9.62114696e-04, -4.18579333e-03,\n",
       "        5.97616952e-02,  2.24910782e-02, -2.60643423e-03,  3.51999487e-04,\n",
       "       -1.38270945e-02,  1.94532345e-04,  8.39167691e-03,  3.23717634e-03,\n",
       "        9.51906721e-03, -3.52139237e-03,  9.36980328e-03,  5.09103520e-03,\n",
       "        1.52855018e-02, -1.29559669e-02, -5.38036568e-03, -2.50218024e-04,\n",
       "        2.53222537e-03, -4.23881429e-03, -1.11547741e-03,  6.63027961e-03,\n",
       "        8.26112682e-03,  1.25809742e-02,  1.05875326e-02])"
      ]
     },
     "execution_count": 36,
     "metadata": {},
     "output_type": "execute_result"
    }
   ],
   "source": [
    "results.resid"
   ]
  },
  {
   "cell_type": "code",
   "execution_count": 38,
   "metadata": {},
   "outputs": [
    {
     "data": {
      "application/vnd.plotly.v1+json": {
       "config": {
        "plotlyServerURL": "https://plot.ly"
       },
       "data": [
        {
         "hovertemplate": "y=%{y}<extra></extra>",
         "legendgroup": "",
         "marker": {
          "color": "#636efa",
          "symbol": "circle"
         },
         "mode": "markers",
         "name": "",
         "showlegend": false,
         "type": "scatter",
         "xaxis": "x",
         "y": [
          0.003631765671117662,
          -0.0044317126193755855,
          0.005295644054111662,
          -0.024704211537896686,
          0.0019459318903703067,
          0.006168444342214051,
          0.03820605681746647,
          0.03485682052246006,
          0.022411453872248473,
          -0.0024318243148419875,
          -0.012790132043164057,
          -0.0010682156210418592,
          -0.013098812202539348,
          0.0017729655945053838,
          -0.01175032508035355,
          0.009219180952859937,
          -0.005690208659106704,
          0.0013813281964472164,
          -0.0068145420823804235,
          -0.0012221205837374821,
          -0.003054215874555344,
          0.00877241768897242,
          -0.005206633082275159,
          0.005758553377516049,
          0.004219795560303686,
          0.010962923152825127,
          0.014693131328460304,
          0.006613350217283508,
          -0.0005047874463950256,
          0.0040756484185264525,
          0.002093250436829573,
          -0.008289145500264742,
          -0.006754008694354579,
          0.0005486471552867465,
          -0.005358005487868566,
          0.0035398554508451335,
          0.007743369389845895,
          -0.02128374810762847,
          -0.007688829686827907,
          -0.004416846494031235,
          -0.0025629709265986306,
          -0.01125808227124259,
          0.006385573424624463,
          -0.0067672626481488805,
          -0.008768950901343508,
          -0.010028132614490877,
          0.00015368174210634092,
          -0.013857361598985578,
          -0.03145919237706807,
          0.007465738143707141,
          -0.026853013810775574,
          0.0039924914067315,
          0.02796163583512956,
          -0.006776098988533527,
          0.002456666114610217,
          0.006190528228393345,
          -0.0023868389519287334,
          -0.00660822762946565,
          0.00014217890534999264,
          0.002108834210161687,
          -0.003995912422377813,
          -0.006804687531822709,
          -0.006329534977184405,
          0.0022805278217022966,
          -0.01452648547574038,
          0.003390773126321794,
          -0.0050575031502872875,
          0.006275912461797254,
          0.008949999314790551,
          -0.0054102513050690755,
          0.008633986201476155,
          0.007872875639989667,
          0.0001484943354504364,
          0.002451045365001377,
          0.002525175471558618,
          -0.002386204988590818,
          0.002978125993865018,
          -0.005665039167702819,
          -0.0005139854719784275,
          0.0027751037497075635,
          0.003619840062265822,
          -0.0009492078401913319,
          -0.004827878371882963,
          -0.006239107915708822,
          -0.008393993419921992,
          0.0050028631022589875,
          0.006402752207932843,
          0.01174978984237561,
          7.862165273137271e-05,
          0.001429224304042344,
          -0.0024282702136039407,
          -0.0051391635376692325,
          0.01089241935348544,
          -0.003370181404388886,
          0.0012706466119230932,
          -0.003011399266851931,
          0.002511634034213393,
          -0.008683785353162457,
          0.005759963783928722,
          0.0006771377262502964,
          0.000826367442341385,
          0.0030599291524753157,
          -0.0031382735093392045,
          0.059628688554024686,
          -0.00334129488494522,
          -0.004001785724799183,
          0.010350789367142506,
          0.008540609763239998,
          0.0015498150665904202,
          -3.0768478418660185e-05,
          -0.007404111842717433,
          0.002121393925641966,
          0.007788648421154864,
          -0.0028682287265905035,
          -0.001202805771401792,
          0.00012275143211517518,
          -6.022084884775309e-05,
          0.003016350073586492,
          -0.005882234843535432,
          -0.0013308666559672783,
          -0.0006211563963120594,
          0.0023867594987858343,
          0.0045816537226122354,
          -0.00015141371574745304,
          0.0042995473201456694,
          -0.00090182113495192,
          0.0035472246085412077,
          -0.0026768686558431877,
          -0.004584531695710368,
          -0.001350328576090052,
          -0.001037092808998275,
          0.0016424396609254132,
          0.00041781628596917683,
          0.0028054280850791794,
          -0.004032354937696296,
          0.010740499880330706,
          0.0013106286721939302,
          0.007859254080887852,
          -0.0033273345542433478,
          -0.0021422356323165994,
          0.001871228663391942,
          0.0120362456128307,
          0.0002982233438200536,
          -0.005643842454031715,
          -0.0003236745197582145,
          0.0012033626322491748,
          0.005836437215603686,
          -0.002940406755284686,
          -0.006427572262629885,
          -0.0020702633776979876,
          -0.0027503713869837455,
          -0.010417525938600545,
          0.004943400823228259,
          0.0007076383287594329,
          -0.004849063754271878,
          -0.002188848726165517,
          -0.0026522687746923313,
          0.002900982726712081,
          0.001275036015288917,
          -0.003029318912550663,
          -0.0009391378441761166,
          -0.006140755603885495,
          -0.0010589637557315156,
          0.00042104760256948706,
          0.016778863453975154,
          0.005012735639970552,
          -0.0026853068196227062,
          -0.00578604398025125,
          0.011454993302905222,
          0.02643672941060896,
          0.006453754590633471,
          -0.0075857462380327645,
          0.009896880173950007,
          0.014817694834313258,
          -0.009383033129424803,
          -0.0014304774669078666,
          -0.015582309770644634,
          0.010015142689360663,
          -0.004457371200805707,
          -0.0002687017681220708,
          -0.004523823064250169,
          -0.006408665973819862,
          -0.0025706100396009693,
          -0.0023992349026644034,
          0.00038715062720197434,
          -0.006586690815026509,
          -0.006661235029373127,
          0.010339429470148362,
          -0.009921737609588938,
          0.005857404943275099,
          0.0030534524063444406,
          -0.0039007739368664123,
          -0.03808822909765682,
          -0.02460630317983312,
          0.0019007173769418802,
          -0.00933318326423046,
          -0.004871139851942619,
          -0.01516228822261482,
          0.01879924190859421,
          -0.0028256762558485663,
          0.005263644288604971,
          -0.0020922710872824314,
          0.002259474512742937,
          -0.004776039499455816,
          -0.006671381378806543,
          0.004135774586117153,
          -0.00630011157716555,
          -0.0005520378356110569,
          -0.006348869330863924,
          0.0007159004503279583,
          -0.0006163213316809323,
          0.0023127030190620117,
          0.004028469516700389,
          0.003102259814587277,
          -0.007501050154469726,
          0.011207106426033201,
          0.002690222006215666,
          0.0026894904379829287,
          0.0019824313348517177,
          -0.0004407497810746848,
          -0.005907547204183733,
          -0.0004461511554075269,
          0.011441102267897787,
          0.0007514149107397325,
          0.0037406655462634874,
          -0.018835752956134336,
          -0.006719471566310149,
          -0.0054757748861492105,
          0.005568566041615408,
          0.04580295344516799,
          -0.008852055579684853,
          0.0023978926317638817,
          0.012561423420459263,
          0.009691762318183547,
          0.00523504279594459,
          -0.017728463479538062,
          0.011401980290673786,
          0.0035476435341224456,
          0.010147426800939347,
          -0.006812384613161318,
          -0.0035013872096877133,
          -0.001543490235816629,
          -0.003605827857797437,
          0.004265465222897126,
          0.004145456988113935,
          -0.0028822206616725514,
          0.0002832667825266042,
          0.009097165001082394,
          0.006767499675833545,
          -0.0032813853370465135,
          -0.0033667503297415795,
          -0.0021333602165138224,
          -0.00527900851926887,
          -0.005619424222188265,
          -0.004814910487988874,
          -0.015985932894692006,
          0.005787449520874061,
          -0.00848765405427515,
          -0.008963545193312163,
          -0.009170343087936827,
          0.007743239542444798,
          -0.010766646169955478,
          -0.0016192555765044588,
          -0.018071917898562825,
          -0.015244493632553029,
          -0.010922418383262252,
          -0.007571634667225714,
          0.0156310559073226,
          0.002034545781543623,
          -0.00836905441165176,
          0.0008012503546232777,
          -0.007568203685516249,
          0.001143770154847278,
          -0.00866856852536889,
          0.005195699308645818,
          -0.0002947844329258917,
          0.004308241138379691,
          -0.003358765747337634,
          0.0015643600469489038,
          -0.002854258910351415,
          0.00411811011402512,
          0.01605655729933426,
          0.00200846351894431,
          -0.006398122954926186,
          -0.0248823237528521,
          -0.004702624783208932,
          0.002706203530860908,
          0.003151217457254431,
          -4.302982594444043e-05,
          0.004085077980774066,
          0.026180490044239918,
          0.02555112754271156,
          0.011324319644020281,
          -0.01505905346390159,
          0.005966020584113203,
          0.021623544342035533,
          0.007564321144913676,
          0.003025427718835929,
          0.005436491861788935,
          0.0008962076623244978,
          -0.003908826205269129,
          -0.00592926627937639,
          -0.013570537263261772,
          -0.008782052617770725,
          0.0019510725666162503,
          -0.0033480741558321366,
          -0.0037489664235144608,
          0.010682921687450659,
          0.010524984076769807,
          -0.0033358665569642324,
          -0.005427195775023382,
          -0.017607784860747912,
          -0.021024054410746694,
          0.0037171844840643876,
          -0.0033716871065622633,
          -0.0069473417618935215,
          0.0019633493086193355,
          -0.004846308542303739,
          -0.002458152377147204,
          -0.006450470361047206,
          0.01534102468130654,
          -0.008429647350248046,
          0.0025096709070108495,
          0.0031376287657464298,
          0.000350555318525873,
          0.006390304722888632,
          -0.007490729397074189,
          -0.001459711552458138,
          0.000658995364445805,
          -0.0006510102579071192,
          -0.02502411550418855,
          -0.0012728660446875836,
          -0.0003106052334000591,
          -0.007722648174826754,
          0.009341817769720174,
          -0.007849481983464232,
          -0.0007798532363098975,
          0.0033481934738208968,
          -0.006594300152319798,
          -0.003458442742441974,
          0.00047200246735712415,
          -0.003030607931648161,
          0.0024437941159621696,
          -0.002366452315596325,
          0.005421317334607389,
          0.0017557930520463337,
          -0.010244650752881772,
          -0.01778215724931221,
          -0.0029678984690814847,
          -0.016444081951471262,
          -0.019232980488565053,
          -0.010939603876606623,
          -0.014557901507609657,
          0.004114587919857807,
          0.0012953525306624476,
          0.002371378303060917,
          -0.021103479887547058,
          0.018688064829625678,
          0.019849756622623144,
          -0.01655141191078943,
          0.011555386882460474,
          -0.00471834320658247,
          0.023688249763145635,
          0.006434987329842902,
          0.0031144493594357538,
          0.01904019832044032,
          -0.004479615402594051,
          0.002383948466655892,
          -0.00016399821572362586,
          0.006046988549652724,
          -0.0005374392168070521,
          0.0064579793560537325,
          0.009145878821353889,
          0.008359705376175539,
          -0.0029389056964281256,
          0.00048666874186139,
          -0.009794324211811855,
          -0.004481634614886353,
          -0.009822143445574343,
          0.0048214499234273634,
          -0.002307674949456516,
          0.010076439790961665,
          -0.0036678014767605573,
          -0.003958849653062003,
          0.001409302946606317,
          -0.005613085101230906,
          -0.0017794049532522862,
          -0.0030856366892452547,
          -0.02153781592956132,
          0.011598810505362604,
          -0.0013552238013288184,
          0.01736433813085377,
          -0.008428591993156109,
          -0.008827515780058734,
          -0.006748135393449267,
          0.015533058810258953,
          -0.004339548822324088,
          0.006781828469799309,
          -0.0024122006223758,
          -0.0027412612844264876,
          0.0037320767055019017,
          0.0009312200358580387,
          -1.5049259270209087e-05,
          0.00015496712515309513,
          0.005586297562078034,
          -0.0034600404625436086,
          0.0014245270054787304,
          -0.003963816362226228,
          -0.023353474214193346,
          -0.0328591618120322,
          -0.0036665301174572643,
          -0.000486426051927797,
          0.0007912496931912639,
          -0.008287880611104304,
          -0.013501073376017171,
          0.025384116268150892,
          0.020411239232525885,
          0.05040921990765176,
          0.0032322927313826163,
          0.024496560432370765,
          0.002696827349727215,
          0.0038770085000792735,
          -0.004197019216209933,
          0.003401806288078176,
          -0.007987239868601094,
          -0.0037713440184204685,
          -0.0026733977116407343,
          0.003917913723277268,
          -0.006352551759466452,
          -0.0019003049198046647,
          -0.0018629638265861975,
          -0.0004700295120337143,
          0.0025475916773195096,
          0.0001395351374803061,
          0.0038969096011038148,
          0.007729305443770309,
          -0.017290321320939196,
          0.0022431621281756393,
          0.00663392449255581,
          0.0023606501641599657,
          0.006009007480976717,
          -0.006380111682718103,
          -0.0034952650562519085,
          -0.013180019436447733,
          -0.004800171254507523,
          0.003182425655841303,
          -0.005743927314340332,
          -0.003090726067693692,
          -0.009841778442188708,
          0.0007335914840136246,
          -0.013001940081027693,
          0.0016129097302054092,
          0.0001793895559505463,
          -0.005786316541299641,
          -0.0012833436757025002,
          0.009114603386034894,
          0.006440969912816499,
          0.00024900857604295487,
          -0.004567583402752933,
          0.007972470724767065,
          -0.0145802960369672,
          -0.0015834990563716976,
          0.0039118808787076565,
          0.003352041877201596,
          -0.005973996915459062,
          -0.0061054708183945015,
          0.006167475918437823,
          -0.00019917121344329466,
          -0.0021716099839429997,
          -0.002415266205162113,
          -0.008658290250763612,
          0.010865526813726871,
          -0.0020040467752284827,
          -0.0020249305179240477,
          0.0009575541247887429,
          -0.0005886989411393855,
          -0.001545282318780443,
          -0.01033432481998614,
          -0.0009621146957730139,
          -0.004185793326352638,
          0.05976169524764527,
          0.02249107817905071,
          -0.00260643423169665,
          0.00035199948683807113,
          -0.013827094515718438,
          0.00019453234467169876,
          0.008391676909676783,
          0.0032371763405725854,
          0.009519067205862168,
          -0.0035213923700988196,
          0.009369803279629295,
          0.00509103520478027,
          0.015285501768404031,
          -0.012955966878293552,
          -0.005380365683833466,
          -0.00025021802354568425,
          0.0025322253743931752,
          -0.004238814286645862,
          -0.0011154774096074557,
          0.006630279606322996,
          0.00826112681675556,
          0.012580974167280927,
          0.010587532611209377
         ],
         "yaxis": "y"
        }
       ],
       "layout": {
        "legend": {
         "tracegroupgap": 0
        },
        "template": {
         "data": {
          "bar": [
           {
            "error_x": {
             "color": "#2a3f5f"
            },
            "error_y": {
             "color": "#2a3f5f"
            },
            "marker": {
             "line": {
              "color": "#E5ECF6",
              "width": 0.5
             }
            },
            "type": "bar"
           }
          ],
          "barpolar": [
           {
            "marker": {
             "line": {
              "color": "#E5ECF6",
              "width": 0.5
             }
            },
            "type": "barpolar"
           }
          ],
          "carpet": [
           {
            "aaxis": {
             "endlinecolor": "#2a3f5f",
             "gridcolor": "white",
             "linecolor": "white",
             "minorgridcolor": "white",
             "startlinecolor": "#2a3f5f"
            },
            "baxis": {
             "endlinecolor": "#2a3f5f",
             "gridcolor": "white",
             "linecolor": "white",
             "minorgridcolor": "white",
             "startlinecolor": "#2a3f5f"
            },
            "type": "carpet"
           }
          ],
          "choropleth": [
           {
            "colorbar": {
             "outlinewidth": 0,
             "ticks": ""
            },
            "type": "choropleth"
           }
          ],
          "contour": [
           {
            "colorbar": {
             "outlinewidth": 0,
             "ticks": ""
            },
            "colorscale": [
             [
              0,
              "#0d0887"
             ],
             [
              0.1111111111111111,
              "#46039f"
             ],
             [
              0.2222222222222222,
              "#7201a8"
             ],
             [
              0.3333333333333333,
              "#9c179e"
             ],
             [
              0.4444444444444444,
              "#bd3786"
             ],
             [
              0.5555555555555556,
              "#d8576b"
             ],
             [
              0.6666666666666666,
              "#ed7953"
             ],
             [
              0.7777777777777778,
              "#fb9f3a"
             ],
             [
              0.8888888888888888,
              "#fdca26"
             ],
             [
              1,
              "#f0f921"
             ]
            ],
            "type": "contour"
           }
          ],
          "contourcarpet": [
           {
            "colorbar": {
             "outlinewidth": 0,
             "ticks": ""
            },
            "type": "contourcarpet"
           }
          ],
          "heatmap": [
           {
            "colorbar": {
             "outlinewidth": 0,
             "ticks": ""
            },
            "colorscale": [
             [
              0,
              "#0d0887"
             ],
             [
              0.1111111111111111,
              "#46039f"
             ],
             [
              0.2222222222222222,
              "#7201a8"
             ],
             [
              0.3333333333333333,
              "#9c179e"
             ],
             [
              0.4444444444444444,
              "#bd3786"
             ],
             [
              0.5555555555555556,
              "#d8576b"
             ],
             [
              0.6666666666666666,
              "#ed7953"
             ],
             [
              0.7777777777777778,
              "#fb9f3a"
             ],
             [
              0.8888888888888888,
              "#fdca26"
             ],
             [
              1,
              "#f0f921"
             ]
            ],
            "type": "heatmap"
           }
          ],
          "heatmapgl": [
           {
            "colorbar": {
             "outlinewidth": 0,
             "ticks": ""
            },
            "colorscale": [
             [
              0,
              "#0d0887"
             ],
             [
              0.1111111111111111,
              "#46039f"
             ],
             [
              0.2222222222222222,
              "#7201a8"
             ],
             [
              0.3333333333333333,
              "#9c179e"
             ],
             [
              0.4444444444444444,
              "#bd3786"
             ],
             [
              0.5555555555555556,
              "#d8576b"
             ],
             [
              0.6666666666666666,
              "#ed7953"
             ],
             [
              0.7777777777777778,
              "#fb9f3a"
             ],
             [
              0.8888888888888888,
              "#fdca26"
             ],
             [
              1,
              "#f0f921"
             ]
            ],
            "type": "heatmapgl"
           }
          ],
          "histogram": [
           {
            "marker": {
             "colorbar": {
              "outlinewidth": 0,
              "ticks": ""
             }
            },
            "type": "histogram"
           }
          ],
          "histogram2d": [
           {
            "colorbar": {
             "outlinewidth": 0,
             "ticks": ""
            },
            "colorscale": [
             [
              0,
              "#0d0887"
             ],
             [
              0.1111111111111111,
              "#46039f"
             ],
             [
              0.2222222222222222,
              "#7201a8"
             ],
             [
              0.3333333333333333,
              "#9c179e"
             ],
             [
              0.4444444444444444,
              "#bd3786"
             ],
             [
              0.5555555555555556,
              "#d8576b"
             ],
             [
              0.6666666666666666,
              "#ed7953"
             ],
             [
              0.7777777777777778,
              "#fb9f3a"
             ],
             [
              0.8888888888888888,
              "#fdca26"
             ],
             [
              1,
              "#f0f921"
             ]
            ],
            "type": "histogram2d"
           }
          ],
          "histogram2dcontour": [
           {
            "colorbar": {
             "outlinewidth": 0,
             "ticks": ""
            },
            "colorscale": [
             [
              0,
              "#0d0887"
             ],
             [
              0.1111111111111111,
              "#46039f"
             ],
             [
              0.2222222222222222,
              "#7201a8"
             ],
             [
              0.3333333333333333,
              "#9c179e"
             ],
             [
              0.4444444444444444,
              "#bd3786"
             ],
             [
              0.5555555555555556,
              "#d8576b"
             ],
             [
              0.6666666666666666,
              "#ed7953"
             ],
             [
              0.7777777777777778,
              "#fb9f3a"
             ],
             [
              0.8888888888888888,
              "#fdca26"
             ],
             [
              1,
              "#f0f921"
             ]
            ],
            "type": "histogram2dcontour"
           }
          ],
          "mesh3d": [
           {
            "colorbar": {
             "outlinewidth": 0,
             "ticks": ""
            },
            "type": "mesh3d"
           }
          ],
          "parcoords": [
           {
            "line": {
             "colorbar": {
              "outlinewidth": 0,
              "ticks": ""
             }
            },
            "type": "parcoords"
           }
          ],
          "pie": [
           {
            "automargin": true,
            "type": "pie"
           }
          ],
          "scatter": [
           {
            "marker": {
             "colorbar": {
              "outlinewidth": 0,
              "ticks": ""
             }
            },
            "type": "scatter"
           }
          ],
          "scatter3d": [
           {
            "line": {
             "colorbar": {
              "outlinewidth": 0,
              "ticks": ""
             }
            },
            "marker": {
             "colorbar": {
              "outlinewidth": 0,
              "ticks": ""
             }
            },
            "type": "scatter3d"
           }
          ],
          "scattercarpet": [
           {
            "marker": {
             "colorbar": {
              "outlinewidth": 0,
              "ticks": ""
             }
            },
            "type": "scattercarpet"
           }
          ],
          "scattergeo": [
           {
            "marker": {
             "colorbar": {
              "outlinewidth": 0,
              "ticks": ""
             }
            },
            "type": "scattergeo"
           }
          ],
          "scattergl": [
           {
            "marker": {
             "colorbar": {
              "outlinewidth": 0,
              "ticks": ""
             }
            },
            "type": "scattergl"
           }
          ],
          "scattermapbox": [
           {
            "marker": {
             "colorbar": {
              "outlinewidth": 0,
              "ticks": ""
             }
            },
            "type": "scattermapbox"
           }
          ],
          "scatterpolar": [
           {
            "marker": {
             "colorbar": {
              "outlinewidth": 0,
              "ticks": ""
             }
            },
            "type": "scatterpolar"
           }
          ],
          "scatterpolargl": [
           {
            "marker": {
             "colorbar": {
              "outlinewidth": 0,
              "ticks": ""
             }
            },
            "type": "scatterpolargl"
           }
          ],
          "scatterternary": [
           {
            "marker": {
             "colorbar": {
              "outlinewidth": 0,
              "ticks": ""
             }
            },
            "type": "scatterternary"
           }
          ],
          "surface": [
           {
            "colorbar": {
             "outlinewidth": 0,
             "ticks": ""
            },
            "colorscale": [
             [
              0,
              "#0d0887"
             ],
             [
              0.1111111111111111,
              "#46039f"
             ],
             [
              0.2222222222222222,
              "#7201a8"
             ],
             [
              0.3333333333333333,
              "#9c179e"
             ],
             [
              0.4444444444444444,
              "#bd3786"
             ],
             [
              0.5555555555555556,
              "#d8576b"
             ],
             [
              0.6666666666666666,
              "#ed7953"
             ],
             [
              0.7777777777777778,
              "#fb9f3a"
             ],
             [
              0.8888888888888888,
              "#fdca26"
             ],
             [
              1,
              "#f0f921"
             ]
            ],
            "type": "surface"
           }
          ],
          "table": [
           {
            "cells": {
             "fill": {
              "color": "#EBF0F8"
             },
             "line": {
              "color": "white"
             }
            },
            "header": {
             "fill": {
              "color": "#C8D4E3"
             },
             "line": {
              "color": "white"
             }
            },
            "type": "table"
           }
          ]
         },
         "layout": {
          "annotationdefaults": {
           "arrowcolor": "#2a3f5f",
           "arrowhead": 0,
           "arrowwidth": 1
          },
          "coloraxis": {
           "colorbar": {
            "outlinewidth": 0,
            "ticks": ""
           }
          },
          "colorscale": {
           "diverging": [
            [
             0,
             "#8e0152"
            ],
            [
             0.1,
             "#c51b7d"
            ],
            [
             0.2,
             "#de77ae"
            ],
            [
             0.3,
             "#f1b6da"
            ],
            [
             0.4,
             "#fde0ef"
            ],
            [
             0.5,
             "#f7f7f7"
            ],
            [
             0.6,
             "#e6f5d0"
            ],
            [
             0.7,
             "#b8e186"
            ],
            [
             0.8,
             "#7fbc41"
            ],
            [
             0.9,
             "#4d9221"
            ],
            [
             1,
             "#276419"
            ]
           ],
           "sequential": [
            [
             0,
             "#0d0887"
            ],
            [
             0.1111111111111111,
             "#46039f"
            ],
            [
             0.2222222222222222,
             "#7201a8"
            ],
            [
             0.3333333333333333,
             "#9c179e"
            ],
            [
             0.4444444444444444,
             "#bd3786"
            ],
            [
             0.5555555555555556,
             "#d8576b"
            ],
            [
             0.6666666666666666,
             "#ed7953"
            ],
            [
             0.7777777777777778,
             "#fb9f3a"
            ],
            [
             0.8888888888888888,
             "#fdca26"
            ],
            [
             1,
             "#f0f921"
            ]
           ],
           "sequentialminus": [
            [
             0,
             "#0d0887"
            ],
            [
             0.1111111111111111,
             "#46039f"
            ],
            [
             0.2222222222222222,
             "#7201a8"
            ],
            [
             0.3333333333333333,
             "#9c179e"
            ],
            [
             0.4444444444444444,
             "#bd3786"
            ],
            [
             0.5555555555555556,
             "#d8576b"
            ],
            [
             0.6666666666666666,
             "#ed7953"
            ],
            [
             0.7777777777777778,
             "#fb9f3a"
            ],
            [
             0.8888888888888888,
             "#fdca26"
            ],
            [
             1,
             "#f0f921"
            ]
           ]
          },
          "colorway": [
           "#636efa",
           "#EF553B",
           "#00cc96",
           "#ab63fa",
           "#FFA15A",
           "#19d3f3",
           "#FF6692",
           "#B6E880",
           "#FF97FF",
           "#FECB52"
          ],
          "font": {
           "color": "#2a3f5f"
          },
          "geo": {
           "bgcolor": "white",
           "lakecolor": "white",
           "landcolor": "#E5ECF6",
           "showlakes": true,
           "showland": true,
           "subunitcolor": "white"
          },
          "hoverlabel": {
           "align": "left"
          },
          "hovermode": "closest",
          "mapbox": {
           "style": "light"
          },
          "paper_bgcolor": "white",
          "plot_bgcolor": "#E5ECF6",
          "polar": {
           "angularaxis": {
            "gridcolor": "white",
            "linecolor": "white",
            "ticks": ""
           },
           "bgcolor": "#E5ECF6",
           "radialaxis": {
            "gridcolor": "white",
            "linecolor": "white",
            "ticks": ""
           }
          },
          "scene": {
           "xaxis": {
            "backgroundcolor": "#E5ECF6",
            "gridcolor": "white",
            "gridwidth": 2,
            "linecolor": "white",
            "showbackground": true,
            "ticks": "",
            "zerolinecolor": "white"
           },
           "yaxis": {
            "backgroundcolor": "#E5ECF6",
            "gridcolor": "white",
            "gridwidth": 2,
            "linecolor": "white",
            "showbackground": true,
            "ticks": "",
            "zerolinecolor": "white"
           },
           "zaxis": {
            "backgroundcolor": "#E5ECF6",
            "gridcolor": "white",
            "gridwidth": 2,
            "linecolor": "white",
            "showbackground": true,
            "ticks": "",
            "zerolinecolor": "white"
           }
          },
          "shapedefaults": {
           "line": {
            "color": "#2a3f5f"
           }
          },
          "ternary": {
           "aaxis": {
            "gridcolor": "white",
            "linecolor": "white",
            "ticks": ""
           },
           "baxis": {
            "gridcolor": "white",
            "linecolor": "white",
            "ticks": ""
           },
           "bgcolor": "#E5ECF6",
           "caxis": {
            "gridcolor": "white",
            "linecolor": "white",
            "ticks": ""
           }
          },
          "title": {
           "x": 0.05
          },
          "xaxis": {
           "automargin": true,
           "gridcolor": "white",
           "linecolor": "white",
           "ticks": "",
           "title": {
            "standoff": 15
           },
           "zerolinecolor": "white",
           "zerolinewidth": 2
          },
          "yaxis": {
           "automargin": true,
           "gridcolor": "white",
           "linecolor": "white",
           "ticks": "",
           "title": {
            "standoff": 15
           },
           "zerolinecolor": "white",
           "zerolinewidth": 2
          }
         }
        },
        "title": {
         "text": "Residuals vs Time"
        },
        "xaxis": {
         "anchor": "y",
         "domain": [
          0,
          1
         ]
        },
        "yaxis": {
         "anchor": "x",
         "domain": [
          0,
          1
         ],
         "title": {
          "text": "y"
         }
        }
       }
      },
      "text/html": [
       "<div>\n",
       "        \n",
       "        \n",
       "            <div id=\"d134b3c9-734f-4ebc-94b6-e87a352d1042\" class=\"plotly-graph-div\" style=\"height:525px; width:100%;\"></div>\n",
       "            <script type=\"text/javascript\">\n",
       "                require([\"plotly\"], function(Plotly) {\n",
       "                    window.PLOTLYENV=window.PLOTLYENV || {};\n",
       "                    \n",
       "                if (document.getElementById(\"d134b3c9-734f-4ebc-94b6-e87a352d1042\")) {\n",
       "                    Plotly.newPlot(\n",
       "                        'd134b3c9-734f-4ebc-94b6-e87a352d1042',\n",
       "                        [{\"hovertemplate\": \"y=%{y}<extra></extra>\", \"legendgroup\": \"\", \"marker\": {\"color\": \"#636efa\", \"symbol\": \"circle\"}, \"mode\": \"markers\", \"name\": \"\", \"showlegend\": false, \"type\": \"scatter\", \"xaxis\": \"x\", \"y\": [0.003631765671117662, -0.0044317126193755855, 0.005295644054111662, -0.024704211537896686, 0.0019459318903703067, 0.006168444342214051, 0.03820605681746647, 0.03485682052246006, 0.022411453872248473, -0.0024318243148419875, -0.012790132043164057, -0.0010682156210418592, -0.013098812202539348, 0.0017729655945053838, -0.01175032508035355, 0.009219180952859937, -0.005690208659106704, 0.0013813281964472164, -0.0068145420823804235, -0.0012221205837374821, -0.003054215874555344, 0.00877241768897242, -0.005206633082275159, 0.005758553377516049, 0.004219795560303686, 0.010962923152825127, 0.014693131328460304, 0.006613350217283508, -0.0005047874463950256, 0.0040756484185264525, 0.002093250436829573, -0.008289145500264742, -0.006754008694354579, 0.0005486471552867465, -0.005358005487868566, 0.0035398554508451335, 0.007743369389845895, -0.02128374810762847, -0.007688829686827907, -0.004416846494031235, -0.0025629709265986306, -0.01125808227124259, 0.006385573424624463, -0.0067672626481488805, -0.008768950901343508, -0.010028132614490877, 0.00015368174210634092, -0.013857361598985578, -0.03145919237706807, 0.007465738143707141, -0.026853013810775574, 0.0039924914067315, 0.02796163583512956, -0.006776098988533527, 0.002456666114610217, 0.006190528228393345, -0.0023868389519287334, -0.00660822762946565, 0.00014217890534999264, 0.002108834210161687, -0.003995912422377813, -0.006804687531822709, -0.006329534977184405, 0.0022805278217022966, -0.01452648547574038, 0.003390773126321794, -0.0050575031502872875, 0.006275912461797254, 0.008949999314790551, -0.0054102513050690755, 0.008633986201476155, 0.007872875639989667, 0.0001484943354504364, 0.002451045365001377, 0.002525175471558618, -0.002386204988590818, 0.002978125993865018, -0.005665039167702819, -0.0005139854719784275, 0.0027751037497075635, 0.003619840062265822, -0.0009492078401913319, -0.004827878371882963, -0.006239107915708822, -0.008393993419921992, 0.0050028631022589875, 0.006402752207932843, 0.01174978984237561, 7.862165273137271e-05, 0.001429224304042344, -0.0024282702136039407, -0.0051391635376692325, 0.01089241935348544, -0.003370181404388886, 0.0012706466119230932, -0.003011399266851931, 0.002511634034213393, -0.008683785353162457, 0.005759963783928722, 0.0006771377262502964, 0.000826367442341385, 0.0030599291524753157, -0.0031382735093392045, 0.059628688554024686, -0.00334129488494522, -0.004001785724799183, 0.010350789367142506, 0.008540609763239998, 0.0015498150665904202, -3.0768478418660185e-05, -0.007404111842717433, 0.002121393925641966, 0.007788648421154864, -0.0028682287265905035, -0.001202805771401792, 0.00012275143211517518, -6.022084884775309e-05, 0.003016350073586492, -0.005882234843535432, -0.0013308666559672783, -0.0006211563963120594, 0.0023867594987858343, 0.0045816537226122354, -0.00015141371574745304, 0.0042995473201456694, -0.00090182113495192, 0.0035472246085412077, -0.0026768686558431877, -0.004584531695710368, -0.001350328576090052, -0.001037092808998275, 0.0016424396609254132, 0.00041781628596917683, 0.0028054280850791794, -0.004032354937696296, 0.010740499880330706, 0.0013106286721939302, 0.007859254080887852, -0.0033273345542433478, -0.0021422356323165994, 0.001871228663391942, 0.0120362456128307, 0.0002982233438200536, -0.005643842454031715, -0.0003236745197582145, 0.0012033626322491748, 0.005836437215603686, -0.002940406755284686, -0.006427572262629885, -0.0020702633776979876, -0.0027503713869837455, -0.010417525938600545, 0.004943400823228259, 0.0007076383287594329, -0.004849063754271878, -0.002188848726165517, -0.0026522687746923313, 0.002900982726712081, 0.001275036015288917, -0.003029318912550663, -0.0009391378441761166, -0.006140755603885495, -0.0010589637557315156, 0.00042104760256948706, 0.016778863453975154, 0.005012735639970552, -0.0026853068196227062, -0.00578604398025125, 0.011454993302905222, 0.02643672941060896, 0.006453754590633471, -0.0075857462380327645, 0.009896880173950007, 0.014817694834313258, -0.009383033129424803, -0.0014304774669078666, -0.015582309770644634, 0.010015142689360663, -0.004457371200805707, -0.0002687017681220708, -0.004523823064250169, -0.006408665973819862, -0.0025706100396009693, -0.0023992349026644034, 0.00038715062720197434, -0.006586690815026509, -0.006661235029373127, 0.010339429470148362, -0.009921737609588938, 0.005857404943275099, 0.0030534524063444406, -0.0039007739368664123, -0.03808822909765682, -0.02460630317983312, 0.0019007173769418802, -0.00933318326423046, -0.004871139851942619, -0.01516228822261482, 0.01879924190859421, -0.0028256762558485663, 0.005263644288604971, -0.0020922710872824314, 0.002259474512742937, -0.004776039499455816, -0.006671381378806543, 0.004135774586117153, -0.00630011157716555, -0.0005520378356110569, -0.006348869330863924, 0.0007159004503279583, -0.0006163213316809323, 0.0023127030190620117, 0.004028469516700389, 0.003102259814587277, -0.007501050154469726, 0.011207106426033201, 0.002690222006215666, 0.0026894904379829287, 0.0019824313348517177, -0.0004407497810746848, -0.005907547204183733, -0.0004461511554075269, 0.011441102267897787, 0.0007514149107397325, 0.0037406655462634874, -0.018835752956134336, -0.006719471566310149, -0.0054757748861492105, 0.005568566041615408, 0.04580295344516799, -0.008852055579684853, 0.0023978926317638817, 0.012561423420459263, 0.009691762318183547, 0.00523504279594459, -0.017728463479538062, 0.011401980290673786, 0.0035476435341224456, 0.010147426800939347, -0.006812384613161318, -0.0035013872096877133, -0.001543490235816629, -0.003605827857797437, 0.004265465222897126, 0.004145456988113935, -0.0028822206616725514, 0.0002832667825266042, 0.009097165001082394, 0.006767499675833545, -0.0032813853370465135, -0.0033667503297415795, -0.0021333602165138224, -0.00527900851926887, -0.005619424222188265, -0.004814910487988874, -0.015985932894692006, 0.005787449520874061, -0.00848765405427515, -0.008963545193312163, -0.009170343087936827, 0.007743239542444798, -0.010766646169955478, -0.0016192555765044588, -0.018071917898562825, -0.015244493632553029, -0.010922418383262252, -0.007571634667225714, 0.0156310559073226, 0.002034545781543623, -0.00836905441165176, 0.0008012503546232777, -0.007568203685516249, 0.001143770154847278, -0.00866856852536889, 0.005195699308645818, -0.0002947844329258917, 0.004308241138379691, -0.003358765747337634, 0.0015643600469489038, -0.002854258910351415, 0.00411811011402512, 0.01605655729933426, 0.00200846351894431, -0.006398122954926186, -0.0248823237528521, -0.004702624783208932, 0.002706203530860908, 0.003151217457254431, -4.302982594444043e-05, 0.004085077980774066, 0.026180490044239918, 0.02555112754271156, 0.011324319644020281, -0.01505905346390159, 0.005966020584113203, 0.021623544342035533, 0.007564321144913676, 0.003025427718835929, 0.005436491861788935, 0.0008962076623244978, -0.003908826205269129, -0.00592926627937639, -0.013570537263261772, -0.008782052617770725, 0.0019510725666162503, -0.0033480741558321366, -0.0037489664235144608, 0.010682921687450659, 0.010524984076769807, -0.0033358665569642324, -0.005427195775023382, -0.017607784860747912, -0.021024054410746694, 0.0037171844840643876, -0.0033716871065622633, -0.0069473417618935215, 0.0019633493086193355, -0.004846308542303739, -0.002458152377147204, -0.006450470361047206, 0.01534102468130654, -0.008429647350248046, 0.0025096709070108495, 0.0031376287657464298, 0.000350555318525873, 0.006390304722888632, -0.007490729397074189, -0.001459711552458138, 0.000658995364445805, -0.0006510102579071192, -0.02502411550418855, -0.0012728660446875836, -0.0003106052334000591, -0.007722648174826754, 0.009341817769720174, -0.007849481983464232, -0.0007798532363098975, 0.0033481934738208968, -0.006594300152319798, -0.003458442742441974, 0.00047200246735712415, -0.003030607931648161, 0.0024437941159621696, -0.002366452315596325, 0.005421317334607389, 0.0017557930520463337, -0.010244650752881772, -0.01778215724931221, -0.0029678984690814847, -0.016444081951471262, -0.019232980488565053, -0.010939603876606623, -0.014557901507609657, 0.004114587919857807, 0.0012953525306624476, 0.002371378303060917, -0.021103479887547058, 0.018688064829625678, 0.019849756622623144, -0.01655141191078943, 0.011555386882460474, -0.00471834320658247, 0.023688249763145635, 0.006434987329842902, 0.0031144493594357538, 0.01904019832044032, -0.004479615402594051, 0.002383948466655892, -0.00016399821572362586, 0.006046988549652724, -0.0005374392168070521, 0.0064579793560537325, 0.009145878821353889, 0.008359705376175539, -0.0029389056964281256, 0.00048666874186139, -0.009794324211811855, -0.004481634614886353, -0.009822143445574343, 0.0048214499234273634, -0.002307674949456516, 0.010076439790961665, -0.0036678014767605573, -0.003958849653062003, 0.001409302946606317, -0.005613085101230906, -0.0017794049532522862, -0.0030856366892452547, -0.02153781592956132, 0.011598810505362604, -0.0013552238013288184, 0.01736433813085377, -0.008428591993156109, -0.008827515780058734, -0.006748135393449267, 0.015533058810258953, -0.004339548822324088, 0.006781828469799309, -0.0024122006223758, -0.0027412612844264876, 0.0037320767055019017, 0.0009312200358580387, -1.5049259270209087e-05, 0.00015496712515309513, 0.005586297562078034, -0.0034600404625436086, 0.0014245270054787304, -0.003963816362226228, -0.023353474214193346, -0.0328591618120322, -0.0036665301174572643, -0.000486426051927797, 0.0007912496931912639, -0.008287880611104304, -0.013501073376017171, 0.025384116268150892, 0.020411239232525885, 0.05040921990765176, 0.0032322927313826163, 0.024496560432370765, 0.002696827349727215, 0.0038770085000792735, -0.004197019216209933, 0.003401806288078176, -0.007987239868601094, -0.0037713440184204685, -0.0026733977116407343, 0.003917913723277268, -0.006352551759466452, -0.0019003049198046647, -0.0018629638265861975, -0.0004700295120337143, 0.0025475916773195096, 0.0001395351374803061, 0.0038969096011038148, 0.007729305443770309, -0.017290321320939196, 0.0022431621281756393, 0.00663392449255581, 0.0023606501641599657, 0.006009007480976717, -0.006380111682718103, -0.0034952650562519085, -0.013180019436447733, -0.004800171254507523, 0.003182425655841303, -0.005743927314340332, -0.003090726067693692, -0.009841778442188708, 0.0007335914840136246, -0.013001940081027693, 0.0016129097302054092, 0.0001793895559505463, -0.005786316541299641, -0.0012833436757025002, 0.009114603386034894, 0.006440969912816499, 0.00024900857604295487, -0.004567583402752933, 0.007972470724767065, -0.0145802960369672, -0.0015834990563716976, 0.0039118808787076565, 0.003352041877201596, -0.005973996915459062, -0.0061054708183945015, 0.006167475918437823, -0.00019917121344329466, -0.0021716099839429997, -0.002415266205162113, -0.008658290250763612, 0.010865526813726871, -0.0020040467752284827, -0.0020249305179240477, 0.0009575541247887429, -0.0005886989411393855, -0.001545282318780443, -0.01033432481998614, -0.0009621146957730139, -0.004185793326352638, 0.05976169524764527, 0.02249107817905071, -0.00260643423169665, 0.00035199948683807113, -0.013827094515718438, 0.00019453234467169876, 0.008391676909676783, 0.0032371763405725854, 0.009519067205862168, -0.0035213923700988196, 0.009369803279629295, 0.00509103520478027, 0.015285501768404031, -0.012955966878293552, -0.005380365683833466, -0.00025021802354568425, 0.0025322253743931752, -0.004238814286645862, -0.0011154774096074557, 0.006630279606322996, 0.00826112681675556, 0.012580974167280927, 0.010587532611209377], \"yaxis\": \"y\"}],\n",
       "                        {\"legend\": {\"tracegroupgap\": 0}, \"template\": {\"data\": {\"bar\": [{\"error_x\": {\"color\": \"#2a3f5f\"}, \"error_y\": {\"color\": \"#2a3f5f\"}, \"marker\": {\"line\": {\"color\": \"#E5ECF6\", \"width\": 0.5}}, \"type\": \"bar\"}], \"barpolar\": [{\"marker\": {\"line\": {\"color\": \"#E5ECF6\", \"width\": 0.5}}, \"type\": \"barpolar\"}], \"carpet\": [{\"aaxis\": {\"endlinecolor\": \"#2a3f5f\", \"gridcolor\": \"white\", \"linecolor\": \"white\", \"minorgridcolor\": \"white\", \"startlinecolor\": \"#2a3f5f\"}, \"baxis\": {\"endlinecolor\": \"#2a3f5f\", \"gridcolor\": \"white\", \"linecolor\": \"white\", \"minorgridcolor\": \"white\", \"startlinecolor\": \"#2a3f5f\"}, \"type\": \"carpet\"}], \"choropleth\": [{\"colorbar\": {\"outlinewidth\": 0, \"ticks\": \"\"}, \"type\": \"choropleth\"}], \"contour\": [{\"colorbar\": {\"outlinewidth\": 0, \"ticks\": \"\"}, \"colorscale\": [[0.0, \"#0d0887\"], [0.1111111111111111, \"#46039f\"], [0.2222222222222222, \"#7201a8\"], [0.3333333333333333, \"#9c179e\"], [0.4444444444444444, \"#bd3786\"], [0.5555555555555556, \"#d8576b\"], [0.6666666666666666, \"#ed7953\"], [0.7777777777777778, \"#fb9f3a\"], [0.8888888888888888, \"#fdca26\"], [1.0, \"#f0f921\"]], \"type\": \"contour\"}], \"contourcarpet\": [{\"colorbar\": {\"outlinewidth\": 0, \"ticks\": \"\"}, \"type\": \"contourcarpet\"}], \"heatmap\": [{\"colorbar\": {\"outlinewidth\": 0, \"ticks\": \"\"}, \"colorscale\": [[0.0, \"#0d0887\"], [0.1111111111111111, \"#46039f\"], [0.2222222222222222, \"#7201a8\"], [0.3333333333333333, \"#9c179e\"], [0.4444444444444444, \"#bd3786\"], [0.5555555555555556, \"#d8576b\"], [0.6666666666666666, \"#ed7953\"], [0.7777777777777778, \"#fb9f3a\"], [0.8888888888888888, \"#fdca26\"], [1.0, \"#f0f921\"]], \"type\": \"heatmap\"}], \"heatmapgl\": [{\"colorbar\": {\"outlinewidth\": 0, \"ticks\": \"\"}, \"colorscale\": [[0.0, \"#0d0887\"], [0.1111111111111111, \"#46039f\"], [0.2222222222222222, \"#7201a8\"], [0.3333333333333333, \"#9c179e\"], [0.4444444444444444, \"#bd3786\"], [0.5555555555555556, \"#d8576b\"], [0.6666666666666666, \"#ed7953\"], [0.7777777777777778, \"#fb9f3a\"], [0.8888888888888888, \"#fdca26\"], [1.0, \"#f0f921\"]], \"type\": \"heatmapgl\"}], \"histogram\": [{\"marker\": {\"colorbar\": {\"outlinewidth\": 0, \"ticks\": \"\"}}, \"type\": \"histogram\"}], \"histogram2d\": [{\"colorbar\": {\"outlinewidth\": 0, \"ticks\": \"\"}, \"colorscale\": [[0.0, \"#0d0887\"], [0.1111111111111111, \"#46039f\"], [0.2222222222222222, \"#7201a8\"], [0.3333333333333333, \"#9c179e\"], [0.4444444444444444, \"#bd3786\"], [0.5555555555555556, \"#d8576b\"], [0.6666666666666666, \"#ed7953\"], [0.7777777777777778, \"#fb9f3a\"], [0.8888888888888888, \"#fdca26\"], [1.0, \"#f0f921\"]], \"type\": \"histogram2d\"}], \"histogram2dcontour\": [{\"colorbar\": {\"outlinewidth\": 0, \"ticks\": \"\"}, \"colorscale\": [[0.0, \"#0d0887\"], [0.1111111111111111, \"#46039f\"], [0.2222222222222222, \"#7201a8\"], [0.3333333333333333, \"#9c179e\"], [0.4444444444444444, \"#bd3786\"], [0.5555555555555556, \"#d8576b\"], [0.6666666666666666, \"#ed7953\"], [0.7777777777777778, \"#fb9f3a\"], [0.8888888888888888, \"#fdca26\"], [1.0, \"#f0f921\"]], \"type\": \"histogram2dcontour\"}], \"mesh3d\": [{\"colorbar\": {\"outlinewidth\": 0, \"ticks\": \"\"}, \"type\": \"mesh3d\"}], \"parcoords\": [{\"line\": {\"colorbar\": {\"outlinewidth\": 0, \"ticks\": \"\"}}, \"type\": \"parcoords\"}], \"pie\": [{\"automargin\": true, \"type\": \"pie\"}], \"scatter\": [{\"marker\": {\"colorbar\": {\"outlinewidth\": 0, \"ticks\": \"\"}}, \"type\": \"scatter\"}], \"scatter3d\": [{\"line\": {\"colorbar\": {\"outlinewidth\": 0, \"ticks\": \"\"}}, \"marker\": {\"colorbar\": {\"outlinewidth\": 0, \"ticks\": \"\"}}, \"type\": \"scatter3d\"}], \"scattercarpet\": [{\"marker\": {\"colorbar\": {\"outlinewidth\": 0, \"ticks\": \"\"}}, \"type\": \"scattercarpet\"}], \"scattergeo\": [{\"marker\": {\"colorbar\": {\"outlinewidth\": 0, \"ticks\": \"\"}}, \"type\": \"scattergeo\"}], \"scattergl\": [{\"marker\": {\"colorbar\": {\"outlinewidth\": 0, \"ticks\": \"\"}}, \"type\": \"scattergl\"}], \"scattermapbox\": [{\"marker\": {\"colorbar\": {\"outlinewidth\": 0, \"ticks\": \"\"}}, \"type\": \"scattermapbox\"}], \"scatterpolar\": [{\"marker\": {\"colorbar\": {\"outlinewidth\": 0, \"ticks\": \"\"}}, \"type\": \"scatterpolar\"}], \"scatterpolargl\": [{\"marker\": {\"colorbar\": {\"outlinewidth\": 0, \"ticks\": \"\"}}, \"type\": \"scatterpolargl\"}], \"scatterternary\": [{\"marker\": {\"colorbar\": {\"outlinewidth\": 0, \"ticks\": \"\"}}, \"type\": \"scatterternary\"}], \"surface\": [{\"colorbar\": {\"outlinewidth\": 0, \"ticks\": \"\"}, \"colorscale\": [[0.0, \"#0d0887\"], [0.1111111111111111, \"#46039f\"], [0.2222222222222222, \"#7201a8\"], [0.3333333333333333, \"#9c179e\"], [0.4444444444444444, \"#bd3786\"], [0.5555555555555556, \"#d8576b\"], [0.6666666666666666, \"#ed7953\"], [0.7777777777777778, \"#fb9f3a\"], [0.8888888888888888, \"#fdca26\"], [1.0, \"#f0f921\"]], \"type\": \"surface\"}], \"table\": [{\"cells\": {\"fill\": {\"color\": \"#EBF0F8\"}, \"line\": {\"color\": \"white\"}}, \"header\": {\"fill\": {\"color\": \"#C8D4E3\"}, \"line\": {\"color\": \"white\"}}, \"type\": \"table\"}]}, \"layout\": {\"annotationdefaults\": {\"arrowcolor\": \"#2a3f5f\", \"arrowhead\": 0, \"arrowwidth\": 1}, \"coloraxis\": {\"colorbar\": {\"outlinewidth\": 0, \"ticks\": \"\"}}, \"colorscale\": {\"diverging\": [[0, \"#8e0152\"], [0.1, \"#c51b7d\"], [0.2, \"#de77ae\"], [0.3, \"#f1b6da\"], [0.4, \"#fde0ef\"], [0.5, \"#f7f7f7\"], [0.6, \"#e6f5d0\"], [0.7, \"#b8e186\"], [0.8, \"#7fbc41\"], [0.9, \"#4d9221\"], [1, \"#276419\"]], \"sequential\": [[0.0, \"#0d0887\"], [0.1111111111111111, \"#46039f\"], [0.2222222222222222, \"#7201a8\"], [0.3333333333333333, \"#9c179e\"], [0.4444444444444444, \"#bd3786\"], [0.5555555555555556, \"#d8576b\"], [0.6666666666666666, \"#ed7953\"], [0.7777777777777778, \"#fb9f3a\"], [0.8888888888888888, \"#fdca26\"], [1.0, \"#f0f921\"]], \"sequentialminus\": [[0.0, \"#0d0887\"], [0.1111111111111111, \"#46039f\"], [0.2222222222222222, \"#7201a8\"], [0.3333333333333333, \"#9c179e\"], [0.4444444444444444, \"#bd3786\"], [0.5555555555555556, \"#d8576b\"], [0.6666666666666666, \"#ed7953\"], [0.7777777777777778, \"#fb9f3a\"], [0.8888888888888888, \"#fdca26\"], [1.0, \"#f0f921\"]]}, \"colorway\": [\"#636efa\", \"#EF553B\", \"#00cc96\", \"#ab63fa\", \"#FFA15A\", \"#19d3f3\", \"#FF6692\", \"#B6E880\", \"#FF97FF\", \"#FECB52\"], \"font\": {\"color\": \"#2a3f5f\"}, \"geo\": {\"bgcolor\": \"white\", \"lakecolor\": \"white\", \"landcolor\": \"#E5ECF6\", \"showlakes\": true, \"showland\": true, \"subunitcolor\": \"white\"}, \"hoverlabel\": {\"align\": \"left\"}, \"hovermode\": \"closest\", \"mapbox\": {\"style\": \"light\"}, \"paper_bgcolor\": \"white\", \"plot_bgcolor\": \"#E5ECF6\", \"polar\": {\"angularaxis\": {\"gridcolor\": \"white\", \"linecolor\": \"white\", \"ticks\": \"\"}, \"bgcolor\": \"#E5ECF6\", \"radialaxis\": {\"gridcolor\": \"white\", \"linecolor\": \"white\", \"ticks\": \"\"}}, \"scene\": {\"xaxis\": {\"backgroundcolor\": \"#E5ECF6\", \"gridcolor\": \"white\", \"gridwidth\": 2, \"linecolor\": \"white\", \"showbackground\": true, \"ticks\": \"\", \"zerolinecolor\": \"white\"}, \"yaxis\": {\"backgroundcolor\": \"#E5ECF6\", \"gridcolor\": \"white\", \"gridwidth\": 2, \"linecolor\": \"white\", \"showbackground\": true, \"ticks\": \"\", \"zerolinecolor\": \"white\"}, \"zaxis\": {\"backgroundcolor\": \"#E5ECF6\", \"gridcolor\": \"white\", \"gridwidth\": 2, \"linecolor\": \"white\", \"showbackground\": true, \"ticks\": \"\", \"zerolinecolor\": \"white\"}}, \"shapedefaults\": {\"line\": {\"color\": \"#2a3f5f\"}}, \"ternary\": {\"aaxis\": {\"gridcolor\": \"white\", \"linecolor\": \"white\", \"ticks\": \"\"}, \"baxis\": {\"gridcolor\": \"white\", \"linecolor\": \"white\", \"ticks\": \"\"}, \"bgcolor\": \"#E5ECF6\", \"caxis\": {\"gridcolor\": \"white\", \"linecolor\": \"white\", \"ticks\": \"\"}}, \"title\": {\"x\": 0.05}, \"xaxis\": {\"automargin\": true, \"gridcolor\": \"white\", \"linecolor\": \"white\", \"ticks\": \"\", \"title\": {\"standoff\": 15}, \"zerolinecolor\": \"white\", \"zerolinewidth\": 2}, \"yaxis\": {\"automargin\": true, \"gridcolor\": \"white\", \"linecolor\": \"white\", \"ticks\": \"\", \"title\": {\"standoff\": 15}, \"zerolinecolor\": \"white\", \"zerolinewidth\": 2}}}, \"title\": {\"text\": \"Residuals vs Time\"}, \"xaxis\": {\"anchor\": \"y\", \"domain\": [0.0, 1.0]}, \"yaxis\": {\"anchor\": \"x\", \"domain\": [0.0, 1.0], \"title\": {\"text\": \"y\"}}},\n",
       "                        {\"responsive\": true}\n",
       "                    ).then(function(){\n",
       "                            \n",
       "var gd = document.getElementById('d134b3c9-734f-4ebc-94b6-e87a352d1042');\n",
       "var x = new MutationObserver(function (mutations, observer) {{\n",
       "        var display = window.getComputedStyle(gd).display;\n",
       "        if (!display || display === 'none') {{\n",
       "            console.log([gd, 'removed!']);\n",
       "            Plotly.purge(gd);\n",
       "            observer.disconnect();\n",
       "        }}\n",
       "}});\n",
       "\n",
       "// Listen for the removal of the full notebook cells\n",
       "var notebookContainer = gd.closest('#notebook-container');\n",
       "if (notebookContainer) {{\n",
       "    x.observe(notebookContainer, {childList: true});\n",
       "}}\n",
       "\n",
       "// Listen for the clearing of the current output cell\n",
       "var outputEl = gd.closest('.output');\n",
       "if (outputEl) {{\n",
       "    x.observe(outputEl, {childList: true});\n",
       "}}\n",
       "\n",
       "                        })\n",
       "                };\n",
       "                });\n",
       "            </script>\n",
       "        </div>"
      ]
     },
     "metadata": {},
     "output_type": "display_data"
    }
   ],
   "source": [
    "fig = px.scatter(y=results.resid,\n",
    "                title='Residuals vs Time')\n",
    "fig.show()"
   ]
  },
  {
   "cell_type": "markdown",
   "metadata": {},
   "source": [
    "# Problem\n",
    "\n",
    "The residuals seem to have a dependence -- they are heteroschedastic..."
   ]
  },
  {
   "cell_type": "code",
   "execution_count": 40,
   "metadata": {},
   "outputs": [
    {
     "data": {
      "application/vnd.plotly.v1+json": {
       "config": {
        "plotlyServerURL": "https://plot.ly"
       },
       "data": [
        {
         "hovertemplate": "x=%{x}<br>y=%{y}<extra></extra>",
         "legendgroup": "",
         "marker": {
          "color": "#636efa",
          "symbol": "circle"
         },
         "mode": "markers",
         "name": "",
         "showlegend": false,
         "type": "scatter",
         "x": [
          0.004508043602268197,
          0.003022391758063847,
          -9.13508984577982e-05,
          -0.0022829905545665996,
          -0.023934760607335348,
          0.01434708049645983,
          -0.014375563000780467,
          -0.00037495160494704916,
          0.009992751817956558,
          -0.0038654333702259347,
          0.00018746165557037564,
          4.699278466246959e-05,
          0.011245373976136452,
          0.00630149517028733,
          -0.005479165935593833,
          -0.008102287555949328,
          0.006207923148575878,
          0.00496351880686996,
          -0.009047201892766199,
          0.007546061626698464,
          -0.0024041434263193384,
          -0.005097657130694988,
          0.004425142886135269,
          0.0006955555670202784,
          -0.003429268622246018,
          0.005208317247317851,
          -0.012629485272756868,
          0.0013119403453007994,
          -0.003275475839024544,
          0.000516488179701069,
          -0.0034723807443282073,
          0.006262448201876936,
          0.0026671365563195604,
          -0.0018666552606203535,
          0.00046742009724765055,
          0.0042528469934937085,
          -0.0033508278168081773,
          -0.0020075498449159124,
          -0.0026667623715005417,
          -0.0029553882266144527,
          4.7028894881062655e-05,
          -0.007245390154690501,
          -0.006018652250900258,
          -0.004577103951431294,
          -0.001101780973990607,
          0.022057138134793153,
          0.004503879218949569,
          0.010602165333508662,
          0.0024954893422017843,
          -0.0023050367126505877,
          0.0007856949959799131,
          0.007802638969605757,
          -0.0018783931014123567,
          0.005140817285998134,
          -0.002237604447003827,
          0.007551449349535444,
          0.0019534704325006036,
          0.0005437765734668254,
          0.0037154422343752547,
          -0.004694682253345572,
          0.001950395682033701,
          -0.00239921958657896,
          -0.003675555959388288,
          0.0005007547997635253,
          0.006008846573704263,
          0.00316750512390529,
          0.013080648157024477,
          0.0024488102552402413,
          0.006040293797199947,
          -0.001147704857840215,
          0.006673979947090736,
          -0.008254178994778427,
          0.004117077030409089,
          -0.00195577214127185,
          0.0021773792847281648,
          0.0038577046540204663,
          -0.002782639380770502,
          -0.00172771677815442,
          0.0014644837782569198,
          0.0024809941586756423,
          -0.00826451707080289,
          -0.00022280922043249607,
          -0.003654988562388106,
          0.007650043376534521,
          0.005949369314967257,
          -0.0007945850200142823,
          0.0035776375416445294,
          -0.0033008047686766684,
          0,
          0.002826146060429746,
          -0.0025101461583206808,
          0.0022958214839399194,
          -0.0035236295390775885,
          0.002209873487113878,
          -0.0037043866410879644,
          0.003674027679238856,
          -0.0026021462902124926,
          0.006411685787106158,
          0.008655430743390813,
          -0.0010452409504365656,
          -0.001569969786071157,
          -0.006201659249873592,
          -8.791895613213807e-05,
          0.0003956700894958143,
          0.0006589717734259981,
          0.006892869731987439,
          -0.0017878394528808572,
          4.376659498417368e-05,
          0.0013104168877733358,
          0.005932686132519072,
          0.003946114153420499,
          0.005442725150008876,
          0.003995273465264404,
          0.005220227739745509,
          -0.0008512560259826829,
          0.0015763939229507251,
          0.005955184489600418,
          -0.0008881116787173848,
          0.0006770850107056248,
          0.0012689197392208307,
          0.0015629432949864075,
          -0.0026990682015430867,
          0.013997527261274234,
          -0.00629745602850329,
          0.0006295175783794793,
          -0.0029779250135869573,
          -0.002986819538200902,
          -0.0018566054535460452,
          0.0012680665289397375,
          0.0035043179385396694,
          0.0005048707527399721,
          -0.0038266133916198264,
          0.008653509491623579,
          -0.0019670408914470583,
          -0.0017562105885662316,
          -0.0010967805144439513,
          -0.012839646953960004,
          0.0023532811772664086,
          -0.0010672129494958549,
          -0.0007264211245285868,
          -0.0010261902703782022,
          0.0072768891532781765,
          0.0009348962056385801,
          0.0031840931684095075,
          -0.0023275764812390465,
          -0.001739227795965359,
          0.0006374148626540066,
          -0.00297266131496432,
          0.0028111395552494756,
          -0.0010193733286758544,
          0.0005950723453822526,
          -0.0011896463960279213,
          -0.004381938459606549,
          -0.006494881835075739,
          0.0088599226319801,
          -0.002984333823879304,
          -0.0018385182001495748,
          0.008139032888155873,
          -0.003186799764598791,
          0.010998022383469364,
          0.005818485563898301,
          -0.0006286731737268347,
          0.0008387811827608171,
          -0.002179402879429304,
          0.0025202093759133515,
          0.00037713616963785945,
          -0.0012145442726338995,
          0.0011740513966567168,
          0.003937091885347632,
          -0.00016695612584993746,
          -0.0009178977022383794,
          0.001795817789324472,
          -0.002042821064976108,
          -0.0016708320751973593,
          0.005523468966282641,
          -0.0009156580954010618,
          -0.01774395716258248,
          0.004028479453381806,
          0.006504126327804505,
          0.005077346395133686,
          0.0022128879141050106,
          0.002332745400064562,
          0.0047794274850925245,
          -0.0002066620081605519,
          -0.0008688397996895469,
          -0.0002483974789765364,
          0.007952123750922357,
          0.0033286145094582054,
          -0.0007371783006263621,
          -0.0031969530836475357,
          0.0018503555524891357,
          0.0004923909079277422,
          -0.0015176378971664128,
          -0.0002056661774610946,
          0.004890067521817754,
          -0.001267627035389185,
          -0.0019243775734041346,
          0.00021850944198775757,
          0.008325001995207248,
          -0.006744141242048807,
          -0.00024686751506175497,
          -0.00045272464163059745,
          0.0011943873895212676,
          0.0006578985871525944,
          -0.00805611022250119,
          0.008950316411773462,
          -0.008788903888773403,
          0.0018645119087448148,
          0.0016957978965503884,
          0.002311931546622681,
          -0.009144406642638159,
          0.006485077780342463,
          0.0010738257935172246,
          -0.0007426256029235967,
          0.007514838057198325,
          0.0016801707477627215,
          0.004664227043416513,
          -0.0001223517538994079,
          0.0005295674845831044,
          0.005413975485414557,
          0.00044538563005569465,
          -0.0008903085109945863,
          -0.00024313016506682938,
          0.002430898955511962,
          4.052139734711524e-05,
          -0.0009297730503701196,
          -0.001172858362416651,
          -0.0005670802026677135,
          0.002228780899663274,
          0.00048532912675081086,
          -0.0019398460020849662,
          0.0018220244020936693,
          0.0018592336982390378,
          -0.0024609831857779207,
          -4.054761639549209e-05,
          -0.014115177760218978,
          0.0014768488791285783,
          0.009912943425520515,
          -0.00012146741124219318,
          0.0017442742654658616,
          -0.01559079432003041,
          -0.0015630693644325122,
          0.0007827581875590184,
          0.010456960156342898,
          -0.003585386814959013,
          -0.002330644721200037,
          0.002336089315431389,
          4.099527156653515e-05,
          0.0011447443574796878,
          0.004737595332207745,
          0.006016115306882286,
          0.0014142790038549347,
          -0.007182106462186644,
          0.003413636693261113,
          -0.00012148900743080837,
          -0.0011748235180946143,
          0.010666039463271382,
          0.00337081711896281,
          0.00047970329821200863,
          -0.00031962706993504675,
          0.0013460804749860777,
          0.0021270085611311274,
          0.0010009636857881699,
          0.0003600360739217656,
          -0.002679253284488481,
          0.00020047070155282398,
          -0.0020446261947946187,
          0.0006025888766290066,
          0.003894377259654247,
          0.0011997795696296887,
          0.003515131682060746,
          0.004338538404751846,
          0.0021401615199203583,
          0.0011865109633033555,
          0.005925074118069196,
          -0.0011388215842350613,
          -0.0016511905936390514,
          0.0026384047398746446,
          0.0015710153390513515,
          -0.0014901203742850866,
          0.0012173949167626485,
          0.0013336250132696126,
          0.0007050664378493998,
          0.0009785619070521445,
          0.0002737243813770718,
          0.005160529043778617,
          -0.0038895334028429263,
          0.00175708629834892,
          -0.004949982869737912,
          0.0012925793032401156,
          0.008176170982892028,
          -0.003724938210294293,
          0.0015576650794422164,
          0.0013222789220588282,
          0.0003884552073096792,
          0.003338621500537986,
          0.0015476713050417423,
          -0.0006953695867347731,
          0.0017008772598170463,
          -0.003627619426569084,
          -0.0003101473206076344,
          0.0009301000491281908,
          -0.0023225854249590006,
          -0.005005243618622202,
          0.008500915173178525,
          -0.0029386932049979553,
          0.0017063465665865252,
          0.0065427062768319555,
          -0.0008844302714147156,
          0.00230961134511376,
          -0.0004991251714043798,
          0.010144774179571936,
          -0.0006086469470668598,
          0.008755023264832573,
          -0.0020754475160676966,
          -0.001210036651870472,
          -0.0035965540412234986,
          0.00018995930282716955,
          0.0031530222924240903,
          0.00545323767343886,
          0.003012852233184038,
          0.0017647712354633693,
          -0.00011230764951131178,
          -0.004086236826391865,
          0.00832742421963717,
          0.006341288351732199,
          -0.003840445439268092,
          -0.0005239888533280501,
          0.002059702135103647,
          -0.00026153246527382823,
          -0.0011963307359065256,
          0.00048655929193719416,
          0.002057467724110973,
          -0.003770464959132469,
          0.007157121875668526,
          0.006325017332198257,
          0.0042149395892783215,
          0.006664317474537773,
          0.0018284588642947242,
          0.0022634913946895097,
          -0.0015298852527082518,
          0.007295987260168335,
          0.0065191673677122974,
          -0.003418263637195218,
          0.009531499571076019,
          -0.001680618740097617,
          0.004549520760842807,
          0.008130823043009938,
          0.002122704460657765,
          -0.00038866204235044055,
          0.00042392070041263885,
          0.011577835930247637,
          -0.00662993938789902,
          -0.010256992444784507,
          0.0004968558323898975,
          -0.0011354347069902904,
          -0.02176971719413301,
          -0.04182269143594042,
          0.01970258608367015,
          -0.0054250534687113605,
          -0.037508882429868606,
          0.015021466375525261,
          0.014684549489627718,
          0.0024874705031265876,
          0.013496027810409927,
          0.012760207971179494,
          0.0002929618813893864,
          -0.006261323010182673,
          -0.004974110154579048,
          0.0012960618032491489,
          0.01593950071237238,
          0.01161215181875308,
          -0.012486488401350027,
          -0.010130141935151937,
          -0.014540652092655426,
          0.005155057580303879,
          0.011557912045584873,
          0.0025350994319821574,
          -0.0003665815740127032,
          0.004839369129754134,
          0.017402166495592786,
          -0.0012553023751691317,
          -0.0064626428131512315,
          -0.005131492070640009,
          -0.0010898424216074787,
          0.0010845547625968344,
          -0.013530425327137219,
          0.0017004824442969912,
          -0.0019191325185318187,
          -0.024997112158056112,
          -0.021314651640967353,
          0.027359161458687886,
          -0.017011745636105968,
          -0.002955000448665035,
          0.01277780191542588,
          -0.02158456795839625,
          0.012816875047917398,
          0.010699282461662962,
          0.007892016150192083,
          -0.022286038584790502,
          0.00492844165990558,
          0.015900170120191515,
          -0.005242020979275286,
          0.008226967752294367,
          -0.002933191910389321,
          0.008221795299582446,
          0.010698371909769744,
          0.0007405530983197739,
          -0.005547741839322051,
          -0.008479173652725547,
          -0.0001500751918449561,
          -0.01346747386690439,
          0.0024718174361646472,
          0.01016557724715561,
          0.0009388904862730474,
          -0.00769060342150929,
          0.0017768500033867873,
          -0.006717510699522311,
          -0.002203640418382835,
          0.012946393837058867,
          0.00338336306130671,
          0,
          0.009665617078430833,
          0.009350657743952828,
          0.0030512531801425435,
          0.00047663422472532524,
          -0.006887226321400708,
          0.004205442911769719,
          -0.000844982949281925,
          -0.0024999777666446787,
          0.007518373332420447,
          -0.002780033315092356,
          0.0027512235153472897,
          -0.002048346402750867,
          -0.0023828979013259532,
          -0.011500998801201479,
          0.01334464510476141,
          -0.006125858921735228,
          0.009817858142419977,
          0.004751271194632922,
          0.0007278060513618012,
          0.008360458187860464,
          -0.00010825096783462218,
          0.002956350484577319,
          0.0013301059249888336,
          0.0012923285059462941,
          -0.0031910920022064637,
          0.0025178902576186157,
          -0.001275918320398084,
          -0.0020565214927873443,
          -0.0038328802890195135,
          0.0017059774596985822,
          -0.006268915508334527,
          0.0018232930250376977,
          -0.01361299451635034,
          0.0022141813773211005,
          -0.008284274461702212,
          0.005717544673961683,
          0.0014394997596092196,
          0.0021381543126230973,
          -0.003531459148509608,
          0.008158170385060393,
          0.008458038422649139,
          0.009004657505083946,
          0.0035982125061022607,
          -0.007314422898469175,
          0.009066031406192332,
          0.0007874392237372518,
          -0.0008940871381803994,
          0.004045097259357533,
          0.0021039290821227574,
          -0.0037716267600991227,
          -0.0011430079952072791,
          0.0018592407560635849,
          0.0050324304929487695,
          0.00852235118923761,
          -0.0023589980030203073,
          -0.006776524729396827,
          -0.005223411251870647,
          0.004929220522487121,
          -0.00167051080467584,
          0.005447733994180304,
          0.004284769204423888,
          0.0036670830272524935,
          0.003302620482022789,
          -0.0004204074950594494,
          -0.0013660272487791003,
          -0.006700369198959777,
          -0.0037432028362566205,
          0.006380604129021306,
          -0.007467343238894197,
          0.008091132846343774,
          0.0035206363890807335,
          0.0021401157998759412,
          0.0023451771674343203,
          -0.0005936694694205213,
          -0.001327853757902453,
          0.00601822951426767,
          0.007895369324679713,
          0.0004832373913381538,
          0.005380715348728193,
          -0.004048144129662257,
          3.428920578008032e-05
         ],
         "xaxis": "x",
         "y": [
          0.003631765671117662,
          -0.0044317126193755855,
          0.005295644054111662,
          -0.024704211537896686,
          0.0019459318903703067,
          0.006168444342214051,
          0.03820605681746647,
          0.03485682052246006,
          0.022411453872248473,
          -0.0024318243148419875,
          -0.012790132043164057,
          -0.0010682156210418592,
          -0.013098812202539348,
          0.0017729655945053838,
          -0.01175032508035355,
          0.009219180952859937,
          -0.005690208659106704,
          0.0013813281964472164,
          -0.0068145420823804235,
          -0.0012221205837374821,
          -0.003054215874555344,
          0.00877241768897242,
          -0.005206633082275159,
          0.005758553377516049,
          0.004219795560303686,
          0.010962923152825127,
          0.014693131328460304,
          0.006613350217283508,
          -0.0005047874463950256,
          0.0040756484185264525,
          0.002093250436829573,
          -0.008289145500264742,
          -0.006754008694354579,
          0.0005486471552867465,
          -0.005358005487868566,
          0.0035398554508451335,
          0.007743369389845895,
          -0.02128374810762847,
          -0.007688829686827907,
          -0.004416846494031235,
          -0.0025629709265986306,
          -0.01125808227124259,
          0.006385573424624463,
          -0.0067672626481488805,
          -0.008768950901343508,
          -0.010028132614490877,
          0.00015368174210634092,
          -0.013857361598985578,
          -0.03145919237706807,
          0.007465738143707141,
          -0.026853013810775574,
          0.0039924914067315,
          0.02796163583512956,
          -0.006776098988533527,
          0.002456666114610217,
          0.006190528228393345,
          -0.0023868389519287334,
          -0.00660822762946565,
          0.00014217890534999264,
          0.002108834210161687,
          -0.003995912422377813,
          -0.006804687531822709,
          -0.006329534977184405,
          0.0022805278217022966,
          -0.01452648547574038,
          0.003390773126321794,
          -0.0050575031502872875,
          0.006275912461797254,
          0.008949999314790551,
          -0.0054102513050690755,
          0.008633986201476155,
          0.007872875639989667,
          0.0001484943354504364,
          0.002451045365001377,
          0.002525175471558618,
          -0.002386204988590818,
          0.002978125993865018,
          -0.005665039167702819,
          -0.0005139854719784275,
          0.0027751037497075635,
          0.003619840062265822,
          -0.0009492078401913319,
          -0.004827878371882963,
          -0.006239107915708822,
          -0.008393993419921992,
          0.0050028631022589875,
          0.006402752207932843,
          0.01174978984237561,
          7.862165273137271e-05,
          0.001429224304042344,
          -0.0024282702136039407,
          -0.0051391635376692325,
          0.01089241935348544,
          -0.003370181404388886,
          0.0012706466119230932,
          -0.003011399266851931,
          0.002511634034213393,
          -0.008683785353162457,
          0.005759963783928722,
          0.0006771377262502964,
          0.000826367442341385,
          0.0030599291524753157,
          -0.0031382735093392045,
          0.059628688554024686,
          -0.00334129488494522,
          -0.004001785724799183,
          0.010350789367142506,
          0.008540609763239998,
          0.0015498150665904202,
          -3.0768478418660185e-05,
          -0.007404111842717433,
          0.002121393925641966,
          0.007788648421154864,
          -0.0028682287265905035,
          -0.001202805771401792,
          0.00012275143211517518,
          -6.022084884775309e-05,
          0.003016350073586492,
          -0.005882234843535432,
          -0.0013308666559672783,
          -0.0006211563963120594,
          0.0023867594987858343,
          0.0045816537226122354,
          -0.00015141371574745304,
          0.0042995473201456694,
          -0.00090182113495192,
          0.0035472246085412077,
          -0.0026768686558431877,
          -0.004584531695710368,
          -0.001350328576090052,
          -0.001037092808998275,
          0.0016424396609254132,
          0.00041781628596917683,
          0.0028054280850791794,
          -0.004032354937696296,
          0.010740499880330706,
          0.0013106286721939302,
          0.007859254080887852,
          -0.0033273345542433478,
          -0.0021422356323165994,
          0.001871228663391942,
          0.0120362456128307,
          0.0002982233438200536,
          -0.005643842454031715,
          -0.0003236745197582145,
          0.0012033626322491748,
          0.005836437215603686,
          -0.002940406755284686,
          -0.006427572262629885,
          -0.0020702633776979876,
          -0.0027503713869837455,
          -0.010417525938600545,
          0.004943400823228259,
          0.0007076383287594329,
          -0.004849063754271878,
          -0.002188848726165517,
          -0.0026522687746923313,
          0.002900982726712081,
          0.001275036015288917,
          -0.003029318912550663,
          -0.0009391378441761166,
          -0.006140755603885495,
          -0.0010589637557315156,
          0.00042104760256948706,
          0.016778863453975154,
          0.005012735639970552,
          -0.0026853068196227062,
          -0.00578604398025125,
          0.011454993302905222,
          0.02643672941060896,
          0.006453754590633471,
          -0.0075857462380327645,
          0.009896880173950007,
          0.014817694834313258,
          -0.009383033129424803,
          -0.0014304774669078666,
          -0.015582309770644634,
          0.010015142689360663,
          -0.004457371200805707,
          -0.0002687017681220708,
          -0.004523823064250169,
          -0.006408665973819862,
          -0.0025706100396009693,
          -0.0023992349026644034,
          0.00038715062720197434,
          -0.006586690815026509,
          -0.006661235029373127,
          0.010339429470148362,
          -0.009921737609588938,
          0.005857404943275099,
          0.0030534524063444406,
          -0.0039007739368664123,
          -0.03808822909765682,
          -0.02460630317983312,
          0.0019007173769418802,
          -0.00933318326423046,
          -0.004871139851942619,
          -0.01516228822261482,
          0.01879924190859421,
          -0.0028256762558485663,
          0.005263644288604971,
          -0.0020922710872824314,
          0.002259474512742937,
          -0.004776039499455816,
          -0.006671381378806543,
          0.004135774586117153,
          -0.00630011157716555,
          -0.0005520378356110569,
          -0.006348869330863924,
          0.0007159004503279583,
          -0.0006163213316809323,
          0.0023127030190620117,
          0.004028469516700389,
          0.003102259814587277,
          -0.007501050154469726,
          0.011207106426033201,
          0.002690222006215666,
          0.0026894904379829287,
          0.0019824313348517177,
          -0.0004407497810746848,
          -0.005907547204183733,
          -0.0004461511554075269,
          0.011441102267897787,
          0.0007514149107397325,
          0.0037406655462634874,
          -0.018835752956134336,
          -0.006719471566310149,
          -0.0054757748861492105,
          0.005568566041615408,
          0.04580295344516799,
          -0.008852055579684853,
          0.0023978926317638817,
          0.012561423420459263,
          0.009691762318183547,
          0.00523504279594459,
          -0.017728463479538062,
          0.011401980290673786,
          0.0035476435341224456,
          0.010147426800939347,
          -0.006812384613161318,
          -0.0035013872096877133,
          -0.001543490235816629,
          -0.003605827857797437,
          0.004265465222897126,
          0.004145456988113935,
          -0.0028822206616725514,
          0.0002832667825266042,
          0.009097165001082394,
          0.006767499675833545,
          -0.0032813853370465135,
          -0.0033667503297415795,
          -0.0021333602165138224,
          -0.00527900851926887,
          -0.005619424222188265,
          -0.004814910487988874,
          -0.015985932894692006,
          0.005787449520874061,
          -0.00848765405427515,
          -0.008963545193312163,
          -0.009170343087936827,
          0.007743239542444798,
          -0.010766646169955478,
          -0.0016192555765044588,
          -0.018071917898562825,
          -0.015244493632553029,
          -0.010922418383262252,
          -0.007571634667225714,
          0.0156310559073226,
          0.002034545781543623,
          -0.00836905441165176,
          0.0008012503546232777,
          -0.007568203685516249,
          0.001143770154847278,
          -0.00866856852536889,
          0.005195699308645818,
          -0.0002947844329258917,
          0.004308241138379691,
          -0.003358765747337634,
          0.0015643600469489038,
          -0.002854258910351415,
          0.00411811011402512,
          0.01605655729933426,
          0.00200846351894431,
          -0.006398122954926186,
          -0.0248823237528521,
          -0.004702624783208932,
          0.002706203530860908,
          0.003151217457254431,
          -4.302982594444043e-05,
          0.004085077980774066,
          0.026180490044239918,
          0.02555112754271156,
          0.011324319644020281,
          -0.01505905346390159,
          0.005966020584113203,
          0.021623544342035533,
          0.007564321144913676,
          0.003025427718835929,
          0.005436491861788935,
          0.0008962076623244978,
          -0.003908826205269129,
          -0.00592926627937639,
          -0.013570537263261772,
          -0.008782052617770725,
          0.0019510725666162503,
          -0.0033480741558321366,
          -0.0037489664235144608,
          0.010682921687450659,
          0.010524984076769807,
          -0.0033358665569642324,
          -0.005427195775023382,
          -0.017607784860747912,
          -0.021024054410746694,
          0.0037171844840643876,
          -0.0033716871065622633,
          -0.0069473417618935215,
          0.0019633493086193355,
          -0.004846308542303739,
          -0.002458152377147204,
          -0.006450470361047206,
          0.01534102468130654,
          -0.008429647350248046,
          0.0025096709070108495,
          0.0031376287657464298,
          0.000350555318525873,
          0.006390304722888632,
          -0.007490729397074189,
          -0.001459711552458138,
          0.000658995364445805,
          -0.0006510102579071192,
          -0.02502411550418855,
          -0.0012728660446875836,
          -0.0003106052334000591,
          -0.007722648174826754,
          0.009341817769720174,
          -0.007849481983464232,
          -0.0007798532363098975,
          0.0033481934738208968,
          -0.006594300152319798,
          -0.003458442742441974,
          0.00047200246735712415,
          -0.003030607931648161,
          0.0024437941159621696,
          -0.002366452315596325,
          0.005421317334607389,
          0.0017557930520463337,
          -0.010244650752881772,
          -0.01778215724931221,
          -0.0029678984690814847,
          -0.016444081951471262,
          -0.019232980488565053,
          -0.010939603876606623,
          -0.014557901507609657,
          0.004114587919857807,
          0.0012953525306624476,
          0.002371378303060917,
          -0.021103479887547058,
          0.018688064829625678,
          0.019849756622623144,
          -0.01655141191078943,
          0.011555386882460474,
          -0.00471834320658247,
          0.023688249763145635,
          0.006434987329842902,
          0.0031144493594357538,
          0.01904019832044032,
          -0.004479615402594051,
          0.002383948466655892,
          -0.00016399821572362586,
          0.006046988549652724,
          -0.0005374392168070521,
          0.0064579793560537325,
          0.009145878821353889,
          0.008359705376175539,
          -0.0029389056964281256,
          0.00048666874186139,
          -0.009794324211811855,
          -0.004481634614886353,
          -0.009822143445574343,
          0.0048214499234273634,
          -0.002307674949456516,
          0.010076439790961665,
          -0.0036678014767605573,
          -0.003958849653062003,
          0.001409302946606317,
          -0.005613085101230906,
          -0.0017794049532522862,
          -0.0030856366892452547,
          -0.02153781592956132,
          0.011598810505362604,
          -0.0013552238013288184,
          0.01736433813085377,
          -0.008428591993156109,
          -0.008827515780058734,
          -0.006748135393449267,
          0.015533058810258953,
          -0.004339548822324088,
          0.006781828469799309,
          -0.0024122006223758,
          -0.0027412612844264876,
          0.0037320767055019017,
          0.0009312200358580387,
          -1.5049259270209087e-05,
          0.00015496712515309513,
          0.005586297562078034,
          -0.0034600404625436086,
          0.0014245270054787304,
          -0.003963816362226228,
          -0.023353474214193346,
          -0.0328591618120322,
          -0.0036665301174572643,
          -0.000486426051927797,
          0.0007912496931912639,
          -0.008287880611104304,
          -0.013501073376017171,
          0.025384116268150892,
          0.020411239232525885,
          0.05040921990765176,
          0.0032322927313826163,
          0.024496560432370765,
          0.002696827349727215,
          0.0038770085000792735,
          -0.004197019216209933,
          0.003401806288078176,
          -0.007987239868601094,
          -0.0037713440184204685,
          -0.0026733977116407343,
          0.003917913723277268,
          -0.006352551759466452,
          -0.0019003049198046647,
          -0.0018629638265861975,
          -0.0004700295120337143,
          0.0025475916773195096,
          0.0001395351374803061,
          0.0038969096011038148,
          0.007729305443770309,
          -0.017290321320939196,
          0.0022431621281756393,
          0.00663392449255581,
          0.0023606501641599657,
          0.006009007480976717,
          -0.006380111682718103,
          -0.0034952650562519085,
          -0.013180019436447733,
          -0.004800171254507523,
          0.003182425655841303,
          -0.005743927314340332,
          -0.003090726067693692,
          -0.009841778442188708,
          0.0007335914840136246,
          -0.013001940081027693,
          0.0016129097302054092,
          0.0001793895559505463,
          -0.005786316541299641,
          -0.0012833436757025002,
          0.009114603386034894,
          0.006440969912816499,
          0.00024900857604295487,
          -0.004567583402752933,
          0.007972470724767065,
          -0.0145802960369672,
          -0.0015834990563716976,
          0.0039118808787076565,
          0.003352041877201596,
          -0.005973996915459062,
          -0.0061054708183945015,
          0.006167475918437823,
          -0.00019917121344329466,
          -0.0021716099839429997,
          -0.002415266205162113,
          -0.008658290250763612,
          0.010865526813726871,
          -0.0020040467752284827,
          -0.0020249305179240477,
          0.0009575541247887429,
          -0.0005886989411393855,
          -0.001545282318780443,
          -0.01033432481998614,
          -0.0009621146957730139,
          -0.004185793326352638,
          0.05976169524764527,
          0.02249107817905071,
          -0.00260643423169665,
          0.00035199948683807113,
          -0.013827094515718438,
          0.00019453234467169876,
          0.008391676909676783,
          0.0032371763405725854,
          0.009519067205862168,
          -0.0035213923700988196,
          0.009369803279629295,
          0.00509103520478027,
          0.015285501768404031,
          -0.012955966878293552,
          -0.005380365683833466,
          -0.00025021802354568425,
          0.0025322253743931752,
          -0.004238814286645862,
          -0.0011154774096074557,
          0.006630279606322996,
          0.00826112681675556,
          0.012580974167280927,
          0.010587532611209377
         ],
         "yaxis": "y"
        }
       ],
       "layout": {
        "legend": {
         "tracegroupgap": 0
        },
        "template": {
         "data": {
          "bar": [
           {
            "error_x": {
             "color": "#2a3f5f"
            },
            "error_y": {
             "color": "#2a3f5f"
            },
            "marker": {
             "line": {
              "color": "#E5ECF6",
              "width": 0.5
             }
            },
            "type": "bar"
           }
          ],
          "barpolar": [
           {
            "marker": {
             "line": {
              "color": "#E5ECF6",
              "width": 0.5
             }
            },
            "type": "barpolar"
           }
          ],
          "carpet": [
           {
            "aaxis": {
             "endlinecolor": "#2a3f5f",
             "gridcolor": "white",
             "linecolor": "white",
             "minorgridcolor": "white",
             "startlinecolor": "#2a3f5f"
            },
            "baxis": {
             "endlinecolor": "#2a3f5f",
             "gridcolor": "white",
             "linecolor": "white",
             "minorgridcolor": "white",
             "startlinecolor": "#2a3f5f"
            },
            "type": "carpet"
           }
          ],
          "choropleth": [
           {
            "colorbar": {
             "outlinewidth": 0,
             "ticks": ""
            },
            "type": "choropleth"
           }
          ],
          "contour": [
           {
            "colorbar": {
             "outlinewidth": 0,
             "ticks": ""
            },
            "colorscale": [
             [
              0,
              "#0d0887"
             ],
             [
              0.1111111111111111,
              "#46039f"
             ],
             [
              0.2222222222222222,
              "#7201a8"
             ],
             [
              0.3333333333333333,
              "#9c179e"
             ],
             [
              0.4444444444444444,
              "#bd3786"
             ],
             [
              0.5555555555555556,
              "#d8576b"
             ],
             [
              0.6666666666666666,
              "#ed7953"
             ],
             [
              0.7777777777777778,
              "#fb9f3a"
             ],
             [
              0.8888888888888888,
              "#fdca26"
             ],
             [
              1,
              "#f0f921"
             ]
            ],
            "type": "contour"
           }
          ],
          "contourcarpet": [
           {
            "colorbar": {
             "outlinewidth": 0,
             "ticks": ""
            },
            "type": "contourcarpet"
           }
          ],
          "heatmap": [
           {
            "colorbar": {
             "outlinewidth": 0,
             "ticks": ""
            },
            "colorscale": [
             [
              0,
              "#0d0887"
             ],
             [
              0.1111111111111111,
              "#46039f"
             ],
             [
              0.2222222222222222,
              "#7201a8"
             ],
             [
              0.3333333333333333,
              "#9c179e"
             ],
             [
              0.4444444444444444,
              "#bd3786"
             ],
             [
              0.5555555555555556,
              "#d8576b"
             ],
             [
              0.6666666666666666,
              "#ed7953"
             ],
             [
              0.7777777777777778,
              "#fb9f3a"
             ],
             [
              0.8888888888888888,
              "#fdca26"
             ],
             [
              1,
              "#f0f921"
             ]
            ],
            "type": "heatmap"
           }
          ],
          "heatmapgl": [
           {
            "colorbar": {
             "outlinewidth": 0,
             "ticks": ""
            },
            "colorscale": [
             [
              0,
              "#0d0887"
             ],
             [
              0.1111111111111111,
              "#46039f"
             ],
             [
              0.2222222222222222,
              "#7201a8"
             ],
             [
              0.3333333333333333,
              "#9c179e"
             ],
             [
              0.4444444444444444,
              "#bd3786"
             ],
             [
              0.5555555555555556,
              "#d8576b"
             ],
             [
              0.6666666666666666,
              "#ed7953"
             ],
             [
              0.7777777777777778,
              "#fb9f3a"
             ],
             [
              0.8888888888888888,
              "#fdca26"
             ],
             [
              1,
              "#f0f921"
             ]
            ],
            "type": "heatmapgl"
           }
          ],
          "histogram": [
           {
            "marker": {
             "colorbar": {
              "outlinewidth": 0,
              "ticks": ""
             }
            },
            "type": "histogram"
           }
          ],
          "histogram2d": [
           {
            "colorbar": {
             "outlinewidth": 0,
             "ticks": ""
            },
            "colorscale": [
             [
              0,
              "#0d0887"
             ],
             [
              0.1111111111111111,
              "#46039f"
             ],
             [
              0.2222222222222222,
              "#7201a8"
             ],
             [
              0.3333333333333333,
              "#9c179e"
             ],
             [
              0.4444444444444444,
              "#bd3786"
             ],
             [
              0.5555555555555556,
              "#d8576b"
             ],
             [
              0.6666666666666666,
              "#ed7953"
             ],
             [
              0.7777777777777778,
              "#fb9f3a"
             ],
             [
              0.8888888888888888,
              "#fdca26"
             ],
             [
              1,
              "#f0f921"
             ]
            ],
            "type": "histogram2d"
           }
          ],
          "histogram2dcontour": [
           {
            "colorbar": {
             "outlinewidth": 0,
             "ticks": ""
            },
            "colorscale": [
             [
              0,
              "#0d0887"
             ],
             [
              0.1111111111111111,
              "#46039f"
             ],
             [
              0.2222222222222222,
              "#7201a8"
             ],
             [
              0.3333333333333333,
              "#9c179e"
             ],
             [
              0.4444444444444444,
              "#bd3786"
             ],
             [
              0.5555555555555556,
              "#d8576b"
             ],
             [
              0.6666666666666666,
              "#ed7953"
             ],
             [
              0.7777777777777778,
              "#fb9f3a"
             ],
             [
              0.8888888888888888,
              "#fdca26"
             ],
             [
              1,
              "#f0f921"
             ]
            ],
            "type": "histogram2dcontour"
           }
          ],
          "mesh3d": [
           {
            "colorbar": {
             "outlinewidth": 0,
             "ticks": ""
            },
            "type": "mesh3d"
           }
          ],
          "parcoords": [
           {
            "line": {
             "colorbar": {
              "outlinewidth": 0,
              "ticks": ""
             }
            },
            "type": "parcoords"
           }
          ],
          "pie": [
           {
            "automargin": true,
            "type": "pie"
           }
          ],
          "scatter": [
           {
            "marker": {
             "colorbar": {
              "outlinewidth": 0,
              "ticks": ""
             }
            },
            "type": "scatter"
           }
          ],
          "scatter3d": [
           {
            "line": {
             "colorbar": {
              "outlinewidth": 0,
              "ticks": ""
             }
            },
            "marker": {
             "colorbar": {
              "outlinewidth": 0,
              "ticks": ""
             }
            },
            "type": "scatter3d"
           }
          ],
          "scattercarpet": [
           {
            "marker": {
             "colorbar": {
              "outlinewidth": 0,
              "ticks": ""
             }
            },
            "type": "scattercarpet"
           }
          ],
          "scattergeo": [
           {
            "marker": {
             "colorbar": {
              "outlinewidth": 0,
              "ticks": ""
             }
            },
            "type": "scattergeo"
           }
          ],
          "scattergl": [
           {
            "marker": {
             "colorbar": {
              "outlinewidth": 0,
              "ticks": ""
             }
            },
            "type": "scattergl"
           }
          ],
          "scattermapbox": [
           {
            "marker": {
             "colorbar": {
              "outlinewidth": 0,
              "ticks": ""
             }
            },
            "type": "scattermapbox"
           }
          ],
          "scatterpolar": [
           {
            "marker": {
             "colorbar": {
              "outlinewidth": 0,
              "ticks": ""
             }
            },
            "type": "scatterpolar"
           }
          ],
          "scatterpolargl": [
           {
            "marker": {
             "colorbar": {
              "outlinewidth": 0,
              "ticks": ""
             }
            },
            "type": "scatterpolargl"
           }
          ],
          "scatterternary": [
           {
            "marker": {
             "colorbar": {
              "outlinewidth": 0,
              "ticks": ""
             }
            },
            "type": "scatterternary"
           }
          ],
          "surface": [
           {
            "colorbar": {
             "outlinewidth": 0,
             "ticks": ""
            },
            "colorscale": [
             [
              0,
              "#0d0887"
             ],
             [
              0.1111111111111111,
              "#46039f"
             ],
             [
              0.2222222222222222,
              "#7201a8"
             ],
             [
              0.3333333333333333,
              "#9c179e"
             ],
             [
              0.4444444444444444,
              "#bd3786"
             ],
             [
              0.5555555555555556,
              "#d8576b"
             ],
             [
              0.6666666666666666,
              "#ed7953"
             ],
             [
              0.7777777777777778,
              "#fb9f3a"
             ],
             [
              0.8888888888888888,
              "#fdca26"
             ],
             [
              1,
              "#f0f921"
             ]
            ],
            "type": "surface"
           }
          ],
          "table": [
           {
            "cells": {
             "fill": {
              "color": "#EBF0F8"
             },
             "line": {
              "color": "white"
             }
            },
            "header": {
             "fill": {
              "color": "#C8D4E3"
             },
             "line": {
              "color": "white"
             }
            },
            "type": "table"
           }
          ]
         },
         "layout": {
          "annotationdefaults": {
           "arrowcolor": "#2a3f5f",
           "arrowhead": 0,
           "arrowwidth": 1
          },
          "coloraxis": {
           "colorbar": {
            "outlinewidth": 0,
            "ticks": ""
           }
          },
          "colorscale": {
           "diverging": [
            [
             0,
             "#8e0152"
            ],
            [
             0.1,
             "#c51b7d"
            ],
            [
             0.2,
             "#de77ae"
            ],
            [
             0.3,
             "#f1b6da"
            ],
            [
             0.4,
             "#fde0ef"
            ],
            [
             0.5,
             "#f7f7f7"
            ],
            [
             0.6,
             "#e6f5d0"
            ],
            [
             0.7,
             "#b8e186"
            ],
            [
             0.8,
             "#7fbc41"
            ],
            [
             0.9,
             "#4d9221"
            ],
            [
             1,
             "#276419"
            ]
           ],
           "sequential": [
            [
             0,
             "#0d0887"
            ],
            [
             0.1111111111111111,
             "#46039f"
            ],
            [
             0.2222222222222222,
             "#7201a8"
            ],
            [
             0.3333333333333333,
             "#9c179e"
            ],
            [
             0.4444444444444444,
             "#bd3786"
            ],
            [
             0.5555555555555556,
             "#d8576b"
            ],
            [
             0.6666666666666666,
             "#ed7953"
            ],
            [
             0.7777777777777778,
             "#fb9f3a"
            ],
            [
             0.8888888888888888,
             "#fdca26"
            ],
            [
             1,
             "#f0f921"
            ]
           ],
           "sequentialminus": [
            [
             0,
             "#0d0887"
            ],
            [
             0.1111111111111111,
             "#46039f"
            ],
            [
             0.2222222222222222,
             "#7201a8"
            ],
            [
             0.3333333333333333,
             "#9c179e"
            ],
            [
             0.4444444444444444,
             "#bd3786"
            ],
            [
             0.5555555555555556,
             "#d8576b"
            ],
            [
             0.6666666666666666,
             "#ed7953"
            ],
            [
             0.7777777777777778,
             "#fb9f3a"
            ],
            [
             0.8888888888888888,
             "#fdca26"
            ],
            [
             1,
             "#f0f921"
            ]
           ]
          },
          "colorway": [
           "#636efa",
           "#EF553B",
           "#00cc96",
           "#ab63fa",
           "#FFA15A",
           "#19d3f3",
           "#FF6692",
           "#B6E880",
           "#FF97FF",
           "#FECB52"
          ],
          "font": {
           "color": "#2a3f5f"
          },
          "geo": {
           "bgcolor": "white",
           "lakecolor": "white",
           "landcolor": "#E5ECF6",
           "showlakes": true,
           "showland": true,
           "subunitcolor": "white"
          },
          "hoverlabel": {
           "align": "left"
          },
          "hovermode": "closest",
          "mapbox": {
           "style": "light"
          },
          "paper_bgcolor": "white",
          "plot_bgcolor": "#E5ECF6",
          "polar": {
           "angularaxis": {
            "gridcolor": "white",
            "linecolor": "white",
            "ticks": ""
           },
           "bgcolor": "#E5ECF6",
           "radialaxis": {
            "gridcolor": "white",
            "linecolor": "white",
            "ticks": ""
           }
          },
          "scene": {
           "xaxis": {
            "backgroundcolor": "#E5ECF6",
            "gridcolor": "white",
            "gridwidth": 2,
            "linecolor": "white",
            "showbackground": true,
            "ticks": "",
            "zerolinecolor": "white"
           },
           "yaxis": {
            "backgroundcolor": "#E5ECF6",
            "gridcolor": "white",
            "gridwidth": 2,
            "linecolor": "white",
            "showbackground": true,
            "ticks": "",
            "zerolinecolor": "white"
           },
           "zaxis": {
            "backgroundcolor": "#E5ECF6",
            "gridcolor": "white",
            "gridwidth": 2,
            "linecolor": "white",
            "showbackground": true,
            "ticks": "",
            "zerolinecolor": "white"
           }
          },
          "shapedefaults": {
           "line": {
            "color": "#2a3f5f"
           }
          },
          "ternary": {
           "aaxis": {
            "gridcolor": "white",
            "linecolor": "white",
            "ticks": ""
           },
           "baxis": {
            "gridcolor": "white",
            "linecolor": "white",
            "ticks": ""
           },
           "bgcolor": "#E5ECF6",
           "caxis": {
            "gridcolor": "white",
            "linecolor": "white",
            "ticks": ""
           }
          },
          "title": {
           "x": 0.05
          },
          "xaxis": {
           "automargin": true,
           "gridcolor": "white",
           "linecolor": "white",
           "ticks": "",
           "title": {
            "standoff": 15
           },
           "zerolinecolor": "white",
           "zerolinewidth": 2
          },
          "yaxis": {
           "automargin": true,
           "gridcolor": "white",
           "linecolor": "white",
           "ticks": "",
           "title": {
            "standoff": 15
           },
           "zerolinecolor": "white",
           "zerolinewidth": 2
          }
         }
        },
        "title": {
         "text": "Residuals vs Time"
        },
        "xaxis": {
         "anchor": "y",
         "domain": [
          0,
          1
         ],
         "title": {
          "text": "x"
         }
        },
        "yaxis": {
         "anchor": "x",
         "domain": [
          0,
          1
         ],
         "title": {
          "text": "y"
         }
        }
       }
      },
      "text/html": [
       "<div>\n",
       "        \n",
       "        \n",
       "            <div id=\"010df8b9-4abc-4920-aee5-395a13b35922\" class=\"plotly-graph-div\" style=\"height:525px; width:100%;\"></div>\n",
       "            <script type=\"text/javascript\">\n",
       "                require([\"plotly\"], function(Plotly) {\n",
       "                    window.PLOTLYENV=window.PLOTLYENV || {};\n",
       "                    \n",
       "                if (document.getElementById(\"010df8b9-4abc-4920-aee5-395a13b35922\")) {\n",
       "                    Plotly.newPlot(\n",
       "                        '010df8b9-4abc-4920-aee5-395a13b35922',\n",
       "                        [{\"hovertemplate\": \"x=%{x}<br>y=%{y}<extra></extra>\", \"legendgroup\": \"\", \"marker\": {\"color\": \"#636efa\", \"symbol\": \"circle\"}, \"mode\": \"markers\", \"name\": \"\", \"showlegend\": false, \"type\": \"scatter\", \"x\": [0.004508043602268197, 0.003022391758063847, -9.13508984577982e-05, -0.0022829905545665996, -0.023934760607335348, 0.01434708049645983, -0.014375563000780467, -0.00037495160494704916, 0.009992751817956558, -0.0038654333702259347, 0.00018746165557037564, 4.699278466246959e-05, 0.011245373976136452, 0.00630149517028733, -0.005479165935593833, -0.008102287555949328, 0.006207923148575878, 0.00496351880686996, -0.009047201892766199, 0.007546061626698464, -0.0024041434263193384, -0.005097657130694988, 0.004425142886135269, 0.0006955555670202784, -0.003429268622246018, 0.005208317247317851, -0.012629485272756868, 0.0013119403453007994, -0.003275475839024544, 0.000516488179701069, -0.0034723807443282073, 0.006262448201876936, 0.0026671365563195604, -0.0018666552606203535, 0.00046742009724765055, 0.0042528469934937085, -0.0033508278168081773, -0.0020075498449159124, -0.0026667623715005417, -0.0029553882266144527, 4.7028894881062655e-05, -0.007245390154690501, -0.006018652250900258, -0.004577103951431294, -0.001101780973990607, 0.022057138134793153, 0.004503879218949569, 0.010602165333508662, 0.0024954893422017843, -0.0023050367126505877, 0.0007856949959799131, 0.007802638969605757, -0.0018783931014123567, 0.005140817285998134, -0.002237604447003827, 0.007551449349535444, 0.0019534704325006036, 0.0005437765734668254, 0.0037154422343752547, -0.004694682253345572, 0.001950395682033701, -0.00239921958657896, -0.003675555959388288, 0.0005007547997635253, 0.006008846573704263, 0.00316750512390529, 0.013080648157024477, 0.0024488102552402413, 0.006040293797199947, -0.001147704857840215, 0.006673979947090736, -0.008254178994778427, 0.004117077030409089, -0.00195577214127185, 0.0021773792847281648, 0.0038577046540204663, -0.002782639380770502, -0.00172771677815442, 0.0014644837782569198, 0.0024809941586756423, -0.00826451707080289, -0.00022280922043249607, -0.003654988562388106, 0.007650043376534521, 0.005949369314967257, -0.0007945850200142823, 0.0035776375416445294, -0.0033008047686766684, 0.0, 0.002826146060429746, -0.0025101461583206808, 0.0022958214839399194, -0.0035236295390775885, 0.002209873487113878, -0.0037043866410879644, 0.003674027679238856, -0.0026021462902124926, 0.006411685787106158, 0.008655430743390813, -0.0010452409504365656, -0.001569969786071157, -0.006201659249873592, -8.791895613213807e-05, 0.0003956700894958143, 0.0006589717734259981, 0.006892869731987439, -0.0017878394528808572, 4.376659498417368e-05, 0.0013104168877733358, 0.005932686132519072, 0.003946114153420499, 0.005442725150008876, 0.003995273465264404, 0.005220227739745509, -0.0008512560259826829, 0.0015763939229507251, 0.005955184489600418, -0.0008881116787173848, 0.0006770850107056248, 0.0012689197392208307, 0.0015629432949864075, -0.0026990682015430867, 0.013997527261274234, -0.00629745602850329, 0.0006295175783794793, -0.0029779250135869573, -0.002986819538200902, -0.0018566054535460452, 0.0012680665289397375, 0.0035043179385396694, 0.0005048707527399721, -0.0038266133916198264, 0.008653509491623579, -0.0019670408914470583, -0.0017562105885662316, -0.0010967805144439513, -0.012839646953960004, 0.0023532811772664086, -0.0010672129494958549, -0.0007264211245285868, -0.0010261902703782022, 0.0072768891532781765, 0.0009348962056385801, 0.0031840931684095075, -0.0023275764812390465, -0.001739227795965359, 0.0006374148626540066, -0.00297266131496432, 0.0028111395552494756, -0.0010193733286758544, 0.0005950723453822526, -0.0011896463960279213, -0.004381938459606549, -0.006494881835075739, 0.0088599226319801, -0.002984333823879304, -0.0018385182001495748, 0.008139032888155873, -0.003186799764598791, 0.010998022383469364, 0.005818485563898301, -0.0006286731737268347, 0.0008387811827608171, -0.002179402879429304, 0.0025202093759133515, 0.00037713616963785945, -0.0012145442726338995, 0.0011740513966567168, 0.003937091885347632, -0.00016695612584993746, -0.0009178977022383794, 0.001795817789324472, -0.002042821064976108, -0.0016708320751973593, 0.005523468966282641, -0.0009156580954010618, -0.01774395716258248, 0.004028479453381806, 0.006504126327804505, 0.005077346395133686, 0.0022128879141050106, 0.002332745400064562, 0.0047794274850925245, -0.0002066620081605519, -0.0008688397996895469, -0.0002483974789765364, 0.007952123750922357, 0.0033286145094582054, -0.0007371783006263621, -0.0031969530836475357, 0.0018503555524891357, 0.0004923909079277422, -0.0015176378971664128, -0.0002056661774610946, 0.004890067521817754, -0.001267627035389185, -0.0019243775734041346, 0.00021850944198775757, 0.008325001995207248, -0.006744141242048807, -0.00024686751506175497, -0.00045272464163059745, 0.0011943873895212676, 0.0006578985871525944, -0.00805611022250119, 0.008950316411773462, -0.008788903888773403, 0.0018645119087448148, 0.0016957978965503884, 0.002311931546622681, -0.009144406642638159, 0.006485077780342463, 0.0010738257935172246, -0.0007426256029235967, 0.007514838057198325, 0.0016801707477627215, 0.004664227043416513, -0.0001223517538994079, 0.0005295674845831044, 0.005413975485414557, 0.00044538563005569465, -0.0008903085109945863, -0.00024313016506682938, 0.002430898955511962, 4.052139734711524e-05, -0.0009297730503701196, -0.001172858362416651, -0.0005670802026677135, 0.002228780899663274, 0.00048532912675081086, -0.0019398460020849662, 0.0018220244020936693, 0.0018592336982390378, -0.0024609831857779207, -4.054761639549209e-05, -0.014115177760218978, 0.0014768488791285783, 0.009912943425520515, -0.00012146741124219318, 0.0017442742654658616, -0.01559079432003041, -0.0015630693644325122, 0.0007827581875590184, 0.010456960156342898, -0.003585386814959013, -0.002330644721200037, 0.002336089315431389, 4.099527156653515e-05, 0.0011447443574796878, 0.004737595332207745, 0.006016115306882286, 0.0014142790038549347, -0.007182106462186644, 0.003413636693261113, -0.00012148900743080837, -0.0011748235180946143, 0.010666039463271382, 0.00337081711896281, 0.00047970329821200863, -0.00031962706993504675, 0.0013460804749860777, 0.0021270085611311274, 0.0010009636857881699, 0.0003600360739217656, -0.002679253284488481, 0.00020047070155282398, -0.0020446261947946187, 0.0006025888766290066, 0.003894377259654247, 0.0011997795696296887, 0.003515131682060746, 0.004338538404751846, 0.0021401615199203583, 0.0011865109633033555, 0.005925074118069196, -0.0011388215842350613, -0.0016511905936390514, 0.0026384047398746446, 0.0015710153390513515, -0.0014901203742850866, 0.0012173949167626485, 0.0013336250132696126, 0.0007050664378493998, 0.0009785619070521445, 0.0002737243813770718, 0.005160529043778617, -0.0038895334028429263, 0.00175708629834892, -0.004949982869737912, 0.0012925793032401156, 0.008176170982892028, -0.003724938210294293, 0.0015576650794422164, 0.0013222789220588282, 0.0003884552073096792, 0.003338621500537986, 0.0015476713050417423, -0.0006953695867347731, 0.0017008772598170463, -0.003627619426569084, -0.0003101473206076344, 0.0009301000491281908, -0.0023225854249590006, -0.005005243618622202, 0.008500915173178525, -0.0029386932049979553, 0.0017063465665865252, 0.0065427062768319555, -0.0008844302714147156, 0.00230961134511376, -0.0004991251714043798, 0.010144774179571936, -0.0006086469470668598, 0.008755023264832573, -0.0020754475160676966, -0.001210036651870472, -0.0035965540412234986, 0.00018995930282716955, 0.0031530222924240903, 0.00545323767343886, 0.003012852233184038, 0.0017647712354633693, -0.00011230764951131178, -0.004086236826391865, 0.00832742421963717, 0.006341288351732199, -0.003840445439268092, -0.0005239888533280501, 0.002059702135103647, -0.00026153246527382823, -0.0011963307359065256, 0.00048655929193719416, 0.002057467724110973, -0.003770464959132469, 0.007157121875668526, 0.006325017332198257, 0.0042149395892783215, 0.006664317474537773, 0.0018284588642947242, 0.0022634913946895097, -0.0015298852527082518, 0.007295987260168335, 0.0065191673677122974, -0.003418263637195218, 0.009531499571076019, -0.001680618740097617, 0.004549520760842807, 0.008130823043009938, 0.002122704460657765, -0.00038866204235044055, 0.00042392070041263885, 0.011577835930247637, -0.00662993938789902, -0.010256992444784507, 0.0004968558323898975, -0.0011354347069902904, -0.02176971719413301, -0.04182269143594042, 0.01970258608367015, -0.0054250534687113605, -0.037508882429868606, 0.015021466375525261, 0.014684549489627718, 0.0024874705031265876, 0.013496027810409927, 0.012760207971179494, 0.0002929618813893864, -0.006261323010182673, -0.004974110154579048, 0.0012960618032491489, 0.01593950071237238, 0.01161215181875308, -0.012486488401350027, -0.010130141935151937, -0.014540652092655426, 0.005155057580303879, 0.011557912045584873, 0.0025350994319821574, -0.0003665815740127032, 0.004839369129754134, 0.017402166495592786, -0.0012553023751691317, -0.0064626428131512315, -0.005131492070640009, -0.0010898424216074787, 0.0010845547625968344, -0.013530425327137219, 0.0017004824442969912, -0.0019191325185318187, -0.024997112158056112, -0.021314651640967353, 0.027359161458687886, -0.017011745636105968, -0.002955000448665035, 0.01277780191542588, -0.02158456795839625, 0.012816875047917398, 0.010699282461662962, 0.007892016150192083, -0.022286038584790502, 0.00492844165990558, 0.015900170120191515, -0.005242020979275286, 0.008226967752294367, -0.002933191910389321, 0.008221795299582446, 0.010698371909769744, 0.0007405530983197739, -0.005547741839322051, -0.008479173652725547, -0.0001500751918449561, -0.01346747386690439, 0.0024718174361646472, 0.01016557724715561, 0.0009388904862730474, -0.00769060342150929, 0.0017768500033867873, -0.006717510699522311, -0.002203640418382835, 0.012946393837058867, 0.00338336306130671, 0.0, 0.009665617078430833, 0.009350657743952828, 0.0030512531801425435, 0.00047663422472532524, -0.006887226321400708, 0.004205442911769719, -0.000844982949281925, -0.0024999777666446787, 0.007518373332420447, -0.002780033315092356, 0.0027512235153472897, -0.002048346402750867, -0.0023828979013259532, -0.011500998801201479, 0.01334464510476141, -0.006125858921735228, 0.009817858142419977, 0.004751271194632922, 0.0007278060513618012, 0.008360458187860464, -0.00010825096783462218, 0.002956350484577319, 0.0013301059249888336, 0.0012923285059462941, -0.0031910920022064637, 0.0025178902576186157, -0.001275918320398084, -0.0020565214927873443, -0.0038328802890195135, 0.0017059774596985822, -0.006268915508334527, 0.0018232930250376977, -0.01361299451635034, 0.0022141813773211005, -0.008284274461702212, 0.005717544673961683, 0.0014394997596092196, 0.0021381543126230973, -0.003531459148509608, 0.008158170385060393, 0.008458038422649139, 0.009004657505083946, 0.0035982125061022607, -0.007314422898469175, 0.009066031406192332, 0.0007874392237372518, -0.0008940871381803994, 0.004045097259357533, 0.0021039290821227574, -0.0037716267600991227, -0.0011430079952072791, 0.0018592407560635849, 0.0050324304929487695, 0.00852235118923761, -0.0023589980030203073, -0.006776524729396827, -0.005223411251870647, 0.004929220522487121, -0.00167051080467584, 0.005447733994180304, 0.004284769204423888, 0.0036670830272524935, 0.003302620482022789, -0.0004204074950594494, -0.0013660272487791003, -0.006700369198959777, -0.0037432028362566205, 0.006380604129021306, -0.007467343238894197, 0.008091132846343774, 0.0035206363890807335, 0.0021401157998759412, 0.0023451771674343203, -0.0005936694694205213, -0.001327853757902453, 0.00601822951426767, 0.007895369324679713, 0.0004832373913381538, 0.005380715348728193, -0.004048144129662257, 3.428920578008032e-05], \"xaxis\": \"x\", \"y\": [0.003631765671117662, -0.0044317126193755855, 0.005295644054111662, -0.024704211537896686, 0.0019459318903703067, 0.006168444342214051, 0.03820605681746647, 0.03485682052246006, 0.022411453872248473, -0.0024318243148419875, -0.012790132043164057, -0.0010682156210418592, -0.013098812202539348, 0.0017729655945053838, -0.01175032508035355, 0.009219180952859937, -0.005690208659106704, 0.0013813281964472164, -0.0068145420823804235, -0.0012221205837374821, -0.003054215874555344, 0.00877241768897242, -0.005206633082275159, 0.005758553377516049, 0.004219795560303686, 0.010962923152825127, 0.014693131328460304, 0.006613350217283508, -0.0005047874463950256, 0.0040756484185264525, 0.002093250436829573, -0.008289145500264742, -0.006754008694354579, 0.0005486471552867465, -0.005358005487868566, 0.0035398554508451335, 0.007743369389845895, -0.02128374810762847, -0.007688829686827907, -0.004416846494031235, -0.0025629709265986306, -0.01125808227124259, 0.006385573424624463, -0.0067672626481488805, -0.008768950901343508, -0.010028132614490877, 0.00015368174210634092, -0.013857361598985578, -0.03145919237706807, 0.007465738143707141, -0.026853013810775574, 0.0039924914067315, 0.02796163583512956, -0.006776098988533527, 0.002456666114610217, 0.006190528228393345, -0.0023868389519287334, -0.00660822762946565, 0.00014217890534999264, 0.002108834210161687, -0.003995912422377813, -0.006804687531822709, -0.006329534977184405, 0.0022805278217022966, -0.01452648547574038, 0.003390773126321794, -0.0050575031502872875, 0.006275912461797254, 0.008949999314790551, -0.0054102513050690755, 0.008633986201476155, 0.007872875639989667, 0.0001484943354504364, 0.002451045365001377, 0.002525175471558618, -0.002386204988590818, 0.002978125993865018, -0.005665039167702819, -0.0005139854719784275, 0.0027751037497075635, 0.003619840062265822, -0.0009492078401913319, -0.004827878371882963, -0.006239107915708822, -0.008393993419921992, 0.0050028631022589875, 0.006402752207932843, 0.01174978984237561, 7.862165273137271e-05, 0.001429224304042344, -0.0024282702136039407, -0.0051391635376692325, 0.01089241935348544, -0.003370181404388886, 0.0012706466119230932, -0.003011399266851931, 0.002511634034213393, -0.008683785353162457, 0.005759963783928722, 0.0006771377262502964, 0.000826367442341385, 0.0030599291524753157, -0.0031382735093392045, 0.059628688554024686, -0.00334129488494522, -0.004001785724799183, 0.010350789367142506, 0.008540609763239998, 0.0015498150665904202, -3.0768478418660185e-05, -0.007404111842717433, 0.002121393925641966, 0.007788648421154864, -0.0028682287265905035, -0.001202805771401792, 0.00012275143211517518, -6.022084884775309e-05, 0.003016350073586492, -0.005882234843535432, -0.0013308666559672783, -0.0006211563963120594, 0.0023867594987858343, 0.0045816537226122354, -0.00015141371574745304, 0.0042995473201456694, -0.00090182113495192, 0.0035472246085412077, -0.0026768686558431877, -0.004584531695710368, -0.001350328576090052, -0.001037092808998275, 0.0016424396609254132, 0.00041781628596917683, 0.0028054280850791794, -0.004032354937696296, 0.010740499880330706, 0.0013106286721939302, 0.007859254080887852, -0.0033273345542433478, -0.0021422356323165994, 0.001871228663391942, 0.0120362456128307, 0.0002982233438200536, -0.005643842454031715, -0.0003236745197582145, 0.0012033626322491748, 0.005836437215603686, -0.002940406755284686, -0.006427572262629885, -0.0020702633776979876, -0.0027503713869837455, -0.010417525938600545, 0.004943400823228259, 0.0007076383287594329, -0.004849063754271878, -0.002188848726165517, -0.0026522687746923313, 0.002900982726712081, 0.001275036015288917, -0.003029318912550663, -0.0009391378441761166, -0.006140755603885495, -0.0010589637557315156, 0.00042104760256948706, 0.016778863453975154, 0.005012735639970552, -0.0026853068196227062, -0.00578604398025125, 0.011454993302905222, 0.02643672941060896, 0.006453754590633471, -0.0075857462380327645, 0.009896880173950007, 0.014817694834313258, -0.009383033129424803, -0.0014304774669078666, -0.015582309770644634, 0.010015142689360663, -0.004457371200805707, -0.0002687017681220708, -0.004523823064250169, -0.006408665973819862, -0.0025706100396009693, -0.0023992349026644034, 0.00038715062720197434, -0.006586690815026509, -0.006661235029373127, 0.010339429470148362, -0.009921737609588938, 0.005857404943275099, 0.0030534524063444406, -0.0039007739368664123, -0.03808822909765682, -0.02460630317983312, 0.0019007173769418802, -0.00933318326423046, -0.004871139851942619, -0.01516228822261482, 0.01879924190859421, -0.0028256762558485663, 0.005263644288604971, -0.0020922710872824314, 0.002259474512742937, -0.004776039499455816, -0.006671381378806543, 0.004135774586117153, -0.00630011157716555, -0.0005520378356110569, -0.006348869330863924, 0.0007159004503279583, -0.0006163213316809323, 0.0023127030190620117, 0.004028469516700389, 0.003102259814587277, -0.007501050154469726, 0.011207106426033201, 0.002690222006215666, 0.0026894904379829287, 0.0019824313348517177, -0.0004407497810746848, -0.005907547204183733, -0.0004461511554075269, 0.011441102267897787, 0.0007514149107397325, 0.0037406655462634874, -0.018835752956134336, -0.006719471566310149, -0.0054757748861492105, 0.005568566041615408, 0.04580295344516799, -0.008852055579684853, 0.0023978926317638817, 0.012561423420459263, 0.009691762318183547, 0.00523504279594459, -0.017728463479538062, 0.011401980290673786, 0.0035476435341224456, 0.010147426800939347, -0.006812384613161318, -0.0035013872096877133, -0.001543490235816629, -0.003605827857797437, 0.004265465222897126, 0.004145456988113935, -0.0028822206616725514, 0.0002832667825266042, 0.009097165001082394, 0.006767499675833545, -0.0032813853370465135, -0.0033667503297415795, -0.0021333602165138224, -0.00527900851926887, -0.005619424222188265, -0.004814910487988874, -0.015985932894692006, 0.005787449520874061, -0.00848765405427515, -0.008963545193312163, -0.009170343087936827, 0.007743239542444798, -0.010766646169955478, -0.0016192555765044588, -0.018071917898562825, -0.015244493632553029, -0.010922418383262252, -0.007571634667225714, 0.0156310559073226, 0.002034545781543623, -0.00836905441165176, 0.0008012503546232777, -0.007568203685516249, 0.001143770154847278, -0.00866856852536889, 0.005195699308645818, -0.0002947844329258917, 0.004308241138379691, -0.003358765747337634, 0.0015643600469489038, -0.002854258910351415, 0.00411811011402512, 0.01605655729933426, 0.00200846351894431, -0.006398122954926186, -0.0248823237528521, -0.004702624783208932, 0.002706203530860908, 0.003151217457254431, -4.302982594444043e-05, 0.004085077980774066, 0.026180490044239918, 0.02555112754271156, 0.011324319644020281, -0.01505905346390159, 0.005966020584113203, 0.021623544342035533, 0.007564321144913676, 0.003025427718835929, 0.005436491861788935, 0.0008962076623244978, -0.003908826205269129, -0.00592926627937639, -0.013570537263261772, -0.008782052617770725, 0.0019510725666162503, -0.0033480741558321366, -0.0037489664235144608, 0.010682921687450659, 0.010524984076769807, -0.0033358665569642324, -0.005427195775023382, -0.017607784860747912, -0.021024054410746694, 0.0037171844840643876, -0.0033716871065622633, -0.0069473417618935215, 0.0019633493086193355, -0.004846308542303739, -0.002458152377147204, -0.006450470361047206, 0.01534102468130654, -0.008429647350248046, 0.0025096709070108495, 0.0031376287657464298, 0.000350555318525873, 0.006390304722888632, -0.007490729397074189, -0.001459711552458138, 0.000658995364445805, -0.0006510102579071192, -0.02502411550418855, -0.0012728660446875836, -0.0003106052334000591, -0.007722648174826754, 0.009341817769720174, -0.007849481983464232, -0.0007798532363098975, 0.0033481934738208968, -0.006594300152319798, -0.003458442742441974, 0.00047200246735712415, -0.003030607931648161, 0.0024437941159621696, -0.002366452315596325, 0.005421317334607389, 0.0017557930520463337, -0.010244650752881772, -0.01778215724931221, -0.0029678984690814847, -0.016444081951471262, -0.019232980488565053, -0.010939603876606623, -0.014557901507609657, 0.004114587919857807, 0.0012953525306624476, 0.002371378303060917, -0.021103479887547058, 0.018688064829625678, 0.019849756622623144, -0.01655141191078943, 0.011555386882460474, -0.00471834320658247, 0.023688249763145635, 0.006434987329842902, 0.0031144493594357538, 0.01904019832044032, -0.004479615402594051, 0.002383948466655892, -0.00016399821572362586, 0.006046988549652724, -0.0005374392168070521, 0.0064579793560537325, 0.009145878821353889, 0.008359705376175539, -0.0029389056964281256, 0.00048666874186139, -0.009794324211811855, -0.004481634614886353, -0.009822143445574343, 0.0048214499234273634, -0.002307674949456516, 0.010076439790961665, -0.0036678014767605573, -0.003958849653062003, 0.001409302946606317, -0.005613085101230906, -0.0017794049532522862, -0.0030856366892452547, -0.02153781592956132, 0.011598810505362604, -0.0013552238013288184, 0.01736433813085377, -0.008428591993156109, -0.008827515780058734, -0.006748135393449267, 0.015533058810258953, -0.004339548822324088, 0.006781828469799309, -0.0024122006223758, -0.0027412612844264876, 0.0037320767055019017, 0.0009312200358580387, -1.5049259270209087e-05, 0.00015496712515309513, 0.005586297562078034, -0.0034600404625436086, 0.0014245270054787304, -0.003963816362226228, -0.023353474214193346, -0.0328591618120322, -0.0036665301174572643, -0.000486426051927797, 0.0007912496931912639, -0.008287880611104304, -0.013501073376017171, 0.025384116268150892, 0.020411239232525885, 0.05040921990765176, 0.0032322927313826163, 0.024496560432370765, 0.002696827349727215, 0.0038770085000792735, -0.004197019216209933, 0.003401806288078176, -0.007987239868601094, -0.0037713440184204685, -0.0026733977116407343, 0.003917913723277268, -0.006352551759466452, -0.0019003049198046647, -0.0018629638265861975, -0.0004700295120337143, 0.0025475916773195096, 0.0001395351374803061, 0.0038969096011038148, 0.007729305443770309, -0.017290321320939196, 0.0022431621281756393, 0.00663392449255581, 0.0023606501641599657, 0.006009007480976717, -0.006380111682718103, -0.0034952650562519085, -0.013180019436447733, -0.004800171254507523, 0.003182425655841303, -0.005743927314340332, -0.003090726067693692, -0.009841778442188708, 0.0007335914840136246, -0.013001940081027693, 0.0016129097302054092, 0.0001793895559505463, -0.005786316541299641, -0.0012833436757025002, 0.009114603386034894, 0.006440969912816499, 0.00024900857604295487, -0.004567583402752933, 0.007972470724767065, -0.0145802960369672, -0.0015834990563716976, 0.0039118808787076565, 0.003352041877201596, -0.005973996915459062, -0.0061054708183945015, 0.006167475918437823, -0.00019917121344329466, -0.0021716099839429997, -0.002415266205162113, -0.008658290250763612, 0.010865526813726871, -0.0020040467752284827, -0.0020249305179240477, 0.0009575541247887429, -0.0005886989411393855, -0.001545282318780443, -0.01033432481998614, -0.0009621146957730139, -0.004185793326352638, 0.05976169524764527, 0.02249107817905071, -0.00260643423169665, 0.00035199948683807113, -0.013827094515718438, 0.00019453234467169876, 0.008391676909676783, 0.0032371763405725854, 0.009519067205862168, -0.0035213923700988196, 0.009369803279629295, 0.00509103520478027, 0.015285501768404031, -0.012955966878293552, -0.005380365683833466, -0.00025021802354568425, 0.0025322253743931752, -0.004238814286645862, -0.0011154774096074557, 0.006630279606322996, 0.00826112681675556, 0.012580974167280927, 0.010587532611209377], \"yaxis\": \"y\"}],\n",
       "                        {\"legend\": {\"tracegroupgap\": 0}, \"template\": {\"data\": {\"bar\": [{\"error_x\": {\"color\": \"#2a3f5f\"}, \"error_y\": {\"color\": \"#2a3f5f\"}, \"marker\": {\"line\": {\"color\": \"#E5ECF6\", \"width\": 0.5}}, \"type\": \"bar\"}], \"barpolar\": [{\"marker\": {\"line\": {\"color\": \"#E5ECF6\", \"width\": 0.5}}, \"type\": \"barpolar\"}], \"carpet\": [{\"aaxis\": {\"endlinecolor\": \"#2a3f5f\", \"gridcolor\": \"white\", \"linecolor\": \"white\", \"minorgridcolor\": \"white\", \"startlinecolor\": \"#2a3f5f\"}, \"baxis\": {\"endlinecolor\": \"#2a3f5f\", \"gridcolor\": \"white\", \"linecolor\": \"white\", \"minorgridcolor\": \"white\", \"startlinecolor\": \"#2a3f5f\"}, \"type\": \"carpet\"}], \"choropleth\": [{\"colorbar\": {\"outlinewidth\": 0, \"ticks\": \"\"}, \"type\": \"choropleth\"}], \"contour\": [{\"colorbar\": {\"outlinewidth\": 0, \"ticks\": \"\"}, \"colorscale\": [[0.0, \"#0d0887\"], [0.1111111111111111, \"#46039f\"], [0.2222222222222222, \"#7201a8\"], [0.3333333333333333, \"#9c179e\"], [0.4444444444444444, \"#bd3786\"], [0.5555555555555556, \"#d8576b\"], [0.6666666666666666, \"#ed7953\"], [0.7777777777777778, \"#fb9f3a\"], [0.8888888888888888, \"#fdca26\"], [1.0, \"#f0f921\"]], \"type\": \"contour\"}], \"contourcarpet\": [{\"colorbar\": {\"outlinewidth\": 0, \"ticks\": \"\"}, \"type\": \"contourcarpet\"}], \"heatmap\": [{\"colorbar\": {\"outlinewidth\": 0, \"ticks\": \"\"}, \"colorscale\": [[0.0, \"#0d0887\"], [0.1111111111111111, \"#46039f\"], [0.2222222222222222, \"#7201a8\"], [0.3333333333333333, \"#9c179e\"], [0.4444444444444444, \"#bd3786\"], [0.5555555555555556, \"#d8576b\"], [0.6666666666666666, \"#ed7953\"], [0.7777777777777778, \"#fb9f3a\"], [0.8888888888888888, \"#fdca26\"], [1.0, \"#f0f921\"]], \"type\": \"heatmap\"}], \"heatmapgl\": [{\"colorbar\": {\"outlinewidth\": 0, \"ticks\": \"\"}, \"colorscale\": [[0.0, \"#0d0887\"], [0.1111111111111111, \"#46039f\"], [0.2222222222222222, \"#7201a8\"], [0.3333333333333333, \"#9c179e\"], [0.4444444444444444, \"#bd3786\"], [0.5555555555555556, \"#d8576b\"], [0.6666666666666666, \"#ed7953\"], [0.7777777777777778, \"#fb9f3a\"], [0.8888888888888888, \"#fdca26\"], [1.0, \"#f0f921\"]], \"type\": \"heatmapgl\"}], \"histogram\": [{\"marker\": {\"colorbar\": {\"outlinewidth\": 0, \"ticks\": \"\"}}, \"type\": \"histogram\"}], \"histogram2d\": [{\"colorbar\": {\"outlinewidth\": 0, \"ticks\": \"\"}, \"colorscale\": [[0.0, \"#0d0887\"], [0.1111111111111111, \"#46039f\"], [0.2222222222222222, \"#7201a8\"], [0.3333333333333333, \"#9c179e\"], [0.4444444444444444, \"#bd3786\"], [0.5555555555555556, \"#d8576b\"], [0.6666666666666666, \"#ed7953\"], [0.7777777777777778, \"#fb9f3a\"], [0.8888888888888888, \"#fdca26\"], [1.0, \"#f0f921\"]], \"type\": \"histogram2d\"}], \"histogram2dcontour\": [{\"colorbar\": {\"outlinewidth\": 0, \"ticks\": \"\"}, \"colorscale\": [[0.0, \"#0d0887\"], [0.1111111111111111, \"#46039f\"], [0.2222222222222222, \"#7201a8\"], [0.3333333333333333, \"#9c179e\"], [0.4444444444444444, \"#bd3786\"], [0.5555555555555556, \"#d8576b\"], [0.6666666666666666, \"#ed7953\"], [0.7777777777777778, \"#fb9f3a\"], [0.8888888888888888, \"#fdca26\"], [1.0, \"#f0f921\"]], \"type\": \"histogram2dcontour\"}], \"mesh3d\": [{\"colorbar\": {\"outlinewidth\": 0, \"ticks\": \"\"}, \"type\": \"mesh3d\"}], \"parcoords\": [{\"line\": {\"colorbar\": {\"outlinewidth\": 0, \"ticks\": \"\"}}, \"type\": \"parcoords\"}], \"pie\": [{\"automargin\": true, \"type\": \"pie\"}], \"scatter\": [{\"marker\": {\"colorbar\": {\"outlinewidth\": 0, \"ticks\": \"\"}}, \"type\": \"scatter\"}], \"scatter3d\": [{\"line\": {\"colorbar\": {\"outlinewidth\": 0, \"ticks\": \"\"}}, \"marker\": {\"colorbar\": {\"outlinewidth\": 0, \"ticks\": \"\"}}, \"type\": \"scatter3d\"}], \"scattercarpet\": [{\"marker\": {\"colorbar\": {\"outlinewidth\": 0, \"ticks\": \"\"}}, \"type\": \"scattercarpet\"}], \"scattergeo\": [{\"marker\": {\"colorbar\": {\"outlinewidth\": 0, \"ticks\": \"\"}}, \"type\": \"scattergeo\"}], \"scattergl\": [{\"marker\": {\"colorbar\": {\"outlinewidth\": 0, \"ticks\": \"\"}}, \"type\": \"scattergl\"}], \"scattermapbox\": [{\"marker\": {\"colorbar\": {\"outlinewidth\": 0, \"ticks\": \"\"}}, \"type\": \"scattermapbox\"}], \"scatterpolar\": [{\"marker\": {\"colorbar\": {\"outlinewidth\": 0, \"ticks\": \"\"}}, \"type\": \"scatterpolar\"}], \"scatterpolargl\": [{\"marker\": {\"colorbar\": {\"outlinewidth\": 0, \"ticks\": \"\"}}, \"type\": \"scatterpolargl\"}], \"scatterternary\": [{\"marker\": {\"colorbar\": {\"outlinewidth\": 0, \"ticks\": \"\"}}, \"type\": \"scatterternary\"}], \"surface\": [{\"colorbar\": {\"outlinewidth\": 0, \"ticks\": \"\"}, \"colorscale\": [[0.0, \"#0d0887\"], [0.1111111111111111, \"#46039f\"], [0.2222222222222222, \"#7201a8\"], [0.3333333333333333, \"#9c179e\"], [0.4444444444444444, \"#bd3786\"], [0.5555555555555556, \"#d8576b\"], [0.6666666666666666, \"#ed7953\"], [0.7777777777777778, \"#fb9f3a\"], [0.8888888888888888, \"#fdca26\"], [1.0, \"#f0f921\"]], \"type\": \"surface\"}], \"table\": [{\"cells\": {\"fill\": {\"color\": \"#EBF0F8\"}, \"line\": {\"color\": \"white\"}}, \"header\": {\"fill\": {\"color\": \"#C8D4E3\"}, \"line\": {\"color\": \"white\"}}, \"type\": \"table\"}]}, \"layout\": {\"annotationdefaults\": {\"arrowcolor\": \"#2a3f5f\", \"arrowhead\": 0, \"arrowwidth\": 1}, \"coloraxis\": {\"colorbar\": {\"outlinewidth\": 0, \"ticks\": \"\"}}, \"colorscale\": {\"diverging\": [[0, \"#8e0152\"], [0.1, \"#c51b7d\"], [0.2, \"#de77ae\"], [0.3, \"#f1b6da\"], [0.4, \"#fde0ef\"], [0.5, \"#f7f7f7\"], [0.6, \"#e6f5d0\"], [0.7, \"#b8e186\"], [0.8, \"#7fbc41\"], [0.9, \"#4d9221\"], [1, \"#276419\"]], \"sequential\": [[0.0, \"#0d0887\"], [0.1111111111111111, \"#46039f\"], [0.2222222222222222, \"#7201a8\"], [0.3333333333333333, \"#9c179e\"], [0.4444444444444444, \"#bd3786\"], [0.5555555555555556, \"#d8576b\"], [0.6666666666666666, \"#ed7953\"], [0.7777777777777778, \"#fb9f3a\"], [0.8888888888888888, \"#fdca26\"], [1.0, \"#f0f921\"]], \"sequentialminus\": [[0.0, \"#0d0887\"], [0.1111111111111111, \"#46039f\"], [0.2222222222222222, \"#7201a8\"], [0.3333333333333333, \"#9c179e\"], [0.4444444444444444, \"#bd3786\"], [0.5555555555555556, \"#d8576b\"], [0.6666666666666666, \"#ed7953\"], [0.7777777777777778, \"#fb9f3a\"], [0.8888888888888888, \"#fdca26\"], [1.0, \"#f0f921\"]]}, \"colorway\": [\"#636efa\", \"#EF553B\", \"#00cc96\", \"#ab63fa\", \"#FFA15A\", \"#19d3f3\", \"#FF6692\", \"#B6E880\", \"#FF97FF\", \"#FECB52\"], \"font\": {\"color\": \"#2a3f5f\"}, \"geo\": {\"bgcolor\": \"white\", \"lakecolor\": \"white\", \"landcolor\": \"#E5ECF6\", \"showlakes\": true, \"showland\": true, \"subunitcolor\": \"white\"}, \"hoverlabel\": {\"align\": \"left\"}, \"hovermode\": \"closest\", \"mapbox\": {\"style\": \"light\"}, \"paper_bgcolor\": \"white\", \"plot_bgcolor\": \"#E5ECF6\", \"polar\": {\"angularaxis\": {\"gridcolor\": \"white\", \"linecolor\": \"white\", \"ticks\": \"\"}, \"bgcolor\": \"#E5ECF6\", \"radialaxis\": {\"gridcolor\": \"white\", \"linecolor\": \"white\", \"ticks\": \"\"}}, \"scene\": {\"xaxis\": {\"backgroundcolor\": \"#E5ECF6\", \"gridcolor\": \"white\", \"gridwidth\": 2, \"linecolor\": \"white\", \"showbackground\": true, \"ticks\": \"\", \"zerolinecolor\": \"white\"}, \"yaxis\": {\"backgroundcolor\": \"#E5ECF6\", \"gridcolor\": \"white\", \"gridwidth\": 2, \"linecolor\": \"white\", \"showbackground\": true, \"ticks\": \"\", \"zerolinecolor\": \"white\"}, \"zaxis\": {\"backgroundcolor\": \"#E5ECF6\", \"gridcolor\": \"white\", \"gridwidth\": 2, \"linecolor\": \"white\", \"showbackground\": true, \"ticks\": \"\", \"zerolinecolor\": \"white\"}}, \"shapedefaults\": {\"line\": {\"color\": \"#2a3f5f\"}}, \"ternary\": {\"aaxis\": {\"gridcolor\": \"white\", \"linecolor\": \"white\", \"ticks\": \"\"}, \"baxis\": {\"gridcolor\": \"white\", \"linecolor\": \"white\", \"ticks\": \"\"}, \"bgcolor\": \"#E5ECF6\", \"caxis\": {\"gridcolor\": \"white\", \"linecolor\": \"white\", \"ticks\": \"\"}}, \"title\": {\"x\": 0.05}, \"xaxis\": {\"automargin\": true, \"gridcolor\": \"white\", \"linecolor\": \"white\", \"ticks\": \"\", \"title\": {\"standoff\": 15}, \"zerolinecolor\": \"white\", \"zerolinewidth\": 2}, \"yaxis\": {\"automargin\": true, \"gridcolor\": \"white\", \"linecolor\": \"white\", \"ticks\": \"\", \"title\": {\"standoff\": 15}, \"zerolinecolor\": \"white\", \"zerolinewidth\": 2}}}, \"title\": {\"text\": \"Residuals vs Time\"}, \"xaxis\": {\"anchor\": \"y\", \"domain\": [0.0, 1.0], \"title\": {\"text\": \"x\"}}, \"yaxis\": {\"anchor\": \"x\", \"domain\": [0.0, 1.0], \"title\": {\"text\": \"y\"}}},\n",
       "                        {\"responsive\": true}\n",
       "                    ).then(function(){\n",
       "                            \n",
       "var gd = document.getElementById('010df8b9-4abc-4920-aee5-395a13b35922');\n",
       "var x = new MutationObserver(function (mutations, observer) {{\n",
       "        var display = window.getComputedStyle(gd).display;\n",
       "        if (!display || display === 'none') {{\n",
       "            console.log([gd, 'removed!']);\n",
       "            Plotly.purge(gd);\n",
       "            observer.disconnect();\n",
       "        }}\n",
       "}});\n",
       "\n",
       "// Listen for the removal of the full notebook cells\n",
       "var notebookContainer = gd.closest('#notebook-container');\n",
       "if (notebookContainer) {{\n",
       "    x.observe(notebookContainer, {childList: true});\n",
       "}}\n",
       "\n",
       "// Listen for the clearing of the current output cell\n",
       "var outputEl = gd.closest('.output');\n",
       "if (outputEl) {{\n",
       "    x.observe(outputEl, {childList: true});\n",
       "}}\n",
       "\n",
       "                        })\n",
       "                };\n",
       "                });\n",
       "            </script>\n",
       "        </div>"
      ]
     },
     "metadata": {},
     "output_type": "display_data"
    }
   ],
   "source": [
    "fig = px.scatter(x=df['spy_ret'].values[1:],y=results.resid,\n",
    "                title='Residuals of Y vs X')\n",
    "fig.show()"
   ]
  },
  {
   "cell_type": "code",
   "execution_count": 41,
   "metadata": {},
   "outputs": [
    {
     "data": {
      "image/png": "[encoded data removed]",
      "text/plain": [
       "<Figure size 432x288 with 1 Axes>"
      ]
     },
     "metadata": {},
     "output_type": "display_data"
    }
   ],
   "source": [
    "import pylab \n",
    "import scipy.stats as stats\n",
    "\n",
    "stats.probplot(results.resid, dist=\"norm\", plot=pylab)\n",
    "pylab.show()"
   ]
  },
  {
   "cell_type": "code",
   "execution_count": null,
   "metadata": {},
   "outputs": [],
   "source": []
  }
 ],
 "metadata": {
  "kernelspec": {
   "display_name": "Python 3",
   "language": "python",
   "name": "python3"
  },
  "language_info": {
   "codemirror_mode": {
    "name": "ipython",
    "version": 3
   },
   "file_extension": ".py",
   "mimetype": "text/x-python",
   "name": "python",
   "nbconvert_exporter": "python",
   "pygments_lexer": "ipython3",
   "version": "3.8.3"
  }
 },
 "nbformat": 4,
 "nbformat_minor": 4
}
