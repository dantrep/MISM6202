{
 "cells": [
  {
   "cell_type": "markdown",
   "metadata": {},
   "source": [
    "# Data Cleaning Example\n",
    "\n",
    "We will load data from the NASDAQ discrete on open, on close, and intraday auctions.  The data is provided on the following site:\n",
    "\n",
    "http://www.nasdaqtrader.com/Trader.aspx?id=OpenClose\n",
    "\n",
    "We will look at the data from January 2, 2015 and do the following:\n",
    "\n",
    "1. load the data  \n",
    "2. Inspect the data and identify issues\n",
    "3. Fix the issues  \n",
    "4. Ensure the date format is properly applied as a ```date``` type\n",
    "5. Identify the top 10 highest volume auction symbols for that day (both at the open and at the close)   \n",
    "6. Count how many symbols cross less than 1000 shares at the open\n",
    "7. Count how many symbols cross less than 1000 shares at the close"
   ]
  },
  {
   "cell_type": "code",
   "execution_count": null,
   "metadata": {},
   "outputs": [],
   "source": []
  },
  {
   "cell_type": "code",
   "execution_count": null,
   "metadata": {},
   "outputs": [],
   "source": []
  },
  {
   "cell_type": "code",
   "execution_count": 1,
   "metadata": {},
   "outputs": [],
   "source": [
    "import os\n",
    "import pandas as pd\n",
    "import numpy as np\n",
    "import matplotlib.pyplot as plt\n",
    "plt.rcParams['figure.figsize'] = [10, 4]"
   ]
  },
  {
   "cell_type": "code",
   "execution_count": 2,
   "metadata": {},
   "outputs": [
    {
     "data": {
      "text/plain": [
       "['CrossStats20150102.txt', 'mount_rainier_daily.csv']"
      ]
     },
     "execution_count": 2,
     "metadata": {},
     "output_type": "execute_result"
    }
   ],
   "source": [
    "location = '../data/'\n",
    "files = os.listdir(location)\n",
    "files"
   ]
  },
  {
   "cell_type": "markdown",
   "metadata": {},
   "source": [
    "# Load the Data"
   ]
  },
  {
   "cell_type": "code",
   "execution_count": 3,
   "metadata": {},
   "outputs": [],
   "source": [
    "df = pd.read_csv(location + 'CrossStats20150102.txt')"
   ]
  },
  {
   "cell_type": "code",
   "execution_count": 4,
   "metadata": {},
   "outputs": [
    {
     "data": {
      "text/html": [
       "<div>\n",
       "<style scoped>\n",
       "    .dataframe tbody tr th:only-of-type {\n",
       "        vertical-align: middle;\n",
       "    }\n",
       "\n",
       "    .dataframe tbody tr th {\n",
       "        vertical-align: top;\n",
       "    }\n",
       "\n",
       "    .dataframe thead th {\n",
       "        text-align: right;\n",
       "    }\n",
       "</style>\n",
       "<table border=\"1\" class=\"dataframe\">\n",
       "  <thead>\n",
       "    <tr style=\"text-align: right;\">\n",
       "      <th></th>\n",
       "      <th>Date</th>\n",
       "      <th>Symbol</th>\n",
       "      <th>ListingMarket</th>\n",
       "      <th>OpeningCross</th>\n",
       "      <th>ClosingCross</th>\n",
       "      <th>IntradayCross</th>\n",
       "      <th>Unnamed: 6</th>\n",
       "    </tr>\n",
       "  </thead>\n",
       "  <tbody>\n",
       "    <tr>\n",
       "      <th>0</th>\n",
       "      <td>----------</td>\n",
       "      <td>------</td>\n",
       "      <td>-------------</td>\n",
       "      <td>------------</td>\n",
       "      <td>------------</td>\n",
       "      <td>-------------</td>\n",
       "      <td>NaN</td>\n",
       "    </tr>\n",
       "    <tr>\n",
       "      <th>1</th>\n",
       "      <td>01/02/2015</td>\n",
       "      <td>AAL</td>\n",
       "      <td></td>\n",
       "      <td>169168</td>\n",
       "      <td>338447</td>\n",
       "      <td>0</td>\n",
       "      <td>NaN</td>\n",
       "    </tr>\n",
       "    <tr>\n",
       "      <th>2</th>\n",
       "      <td>01/02/2015</td>\n",
       "      <td>AAME</td>\n",
       "      <td></td>\n",
       "      <td>200</td>\n",
       "      <td>0</td>\n",
       "      <td>0</td>\n",
       "      <td>NaN</td>\n",
       "    </tr>\n",
       "    <tr>\n",
       "      <th>3</th>\n",
       "      <td>01/02/2015</td>\n",
       "      <td>AAOI</td>\n",
       "      <td></td>\n",
       "      <td>508</td>\n",
       "      <td>35903</td>\n",
       "      <td>0</td>\n",
       "      <td>NaN</td>\n",
       "    </tr>\n",
       "    <tr>\n",
       "      <th>4</th>\n",
       "      <td>01/02/2015</td>\n",
       "      <td>AAON</td>\n",
       "      <td></td>\n",
       "      <td>767</td>\n",
       "      <td>6205</td>\n",
       "      <td>0</td>\n",
       "      <td>NaN</td>\n",
       "    </tr>\n",
       "  </tbody>\n",
       "</table>\n",
       "</div>"
      ],
      "text/plain": [
       "   Date        Symbol  ListingMarket  OpeningCross  ClosingCross  \\\n",
       "0  ----------  ------  -------------  ------------  ------------   \n",
       "1  01/02/2015  AAL                          169168        338447   \n",
       "2  01/02/2015  AAME                            200             0   \n",
       "3  01/02/2015  AAOI                            508         35903   \n",
       "4  01/02/2015  AAON                            767          6205   \n",
       "\n",
       "   IntradayCross  Unnamed: 6  \n",
       "0  -------------         NaN  \n",
       "1              0         NaN  \n",
       "2              0         NaN  \n",
       "3              0         NaN  \n",
       "4              0         NaN  "
      ]
     },
     "execution_count": 4,
     "metadata": {},
     "output_type": "execute_result"
    }
   ],
   "source": [
    "df.head()"
   ]
  },
  {
   "cell_type": "code",
   "execution_count": 5,
   "metadata": {},
   "outputs": [
    {
     "data": {
      "text/html": [
       "<div>\n",
       "<style scoped>\n",
       "    .dataframe tbody tr th:only-of-type {\n",
       "        vertical-align: middle;\n",
       "    }\n",
       "\n",
       "    .dataframe tbody tr th {\n",
       "        vertical-align: top;\n",
       "    }\n",
       "\n",
       "    .dataframe thead th {\n",
       "        text-align: right;\n",
       "    }\n",
       "</style>\n",
       "<table border=\"1\" class=\"dataframe\">\n",
       "  <thead>\n",
       "    <tr style=\"text-align: right;\">\n",
       "      <th></th>\n",
       "      <th>Unnamed: 6</th>\n",
       "    </tr>\n",
       "  </thead>\n",
       "  <tbody>\n",
       "    <tr>\n",
       "      <th>count</th>\n",
       "      <td>0.0</td>\n",
       "    </tr>\n",
       "    <tr>\n",
       "      <th>mean</th>\n",
       "      <td>NaN</td>\n",
       "    </tr>\n",
       "    <tr>\n",
       "      <th>std</th>\n",
       "      <td>NaN</td>\n",
       "    </tr>\n",
       "    <tr>\n",
       "      <th>min</th>\n",
       "      <td>NaN</td>\n",
       "    </tr>\n",
       "    <tr>\n",
       "      <th>25%</th>\n",
       "      <td>NaN</td>\n",
       "    </tr>\n",
       "    <tr>\n",
       "      <th>50%</th>\n",
       "      <td>NaN</td>\n",
       "    </tr>\n",
       "    <tr>\n",
       "      <th>75%</th>\n",
       "      <td>NaN</td>\n",
       "    </tr>\n",
       "    <tr>\n",
       "      <th>max</th>\n",
       "      <td>NaN</td>\n",
       "    </tr>\n",
       "  </tbody>\n",
       "</table>\n",
       "</div>"
      ],
      "text/plain": [
       "       Unnamed: 6\n",
       "count         0.0\n",
       "mean          NaN\n",
       "std           NaN\n",
       "min           NaN\n",
       "25%           NaN\n",
       "50%           NaN\n",
       "75%           NaN\n",
       "max           NaN"
      ]
     },
     "execution_count": 5,
     "metadata": {},
     "output_type": "execute_result"
    }
   ],
   "source": [
    "df.describe()"
   ]
  },
  {
   "cell_type": "code",
   "execution_count": 6,
   "metadata": {},
   "outputs": [
    {
     "data": {
      "text/plain": [
       "Date              object\n",
       "Symbol            object\n",
       "ListingMarket     object\n",
       "OpeningCross      object\n",
       "ClosingCross      object\n",
       "IntradayCross     object\n",
       "Unnamed: 6       float64\n",
       "dtype: object"
      ]
     },
     "execution_count": 6,
     "metadata": {},
     "output_type": "execute_result"
    }
   ],
   "source": [
    "df.dtypes"
   ]
  },
  {
   "cell_type": "code",
   "execution_count": 7,
   "metadata": {},
   "outputs": [
    {
     "data": {
      "text/plain": [
       "Index(['Date      ', 'Symbol', 'ListingMarket', 'OpeningCross', 'ClosingCross',\n",
       "       'IntradayCross', 'Unnamed: 6'],\n",
       "      dtype='object')"
      ]
     },
     "execution_count": 7,
     "metadata": {},
     "output_type": "execute_result"
    }
   ],
   "source": [
    "df.columns"
   ]
  },
  {
   "cell_type": "markdown",
   "metadata": {},
   "source": [
    "# Inspect The Data\n",
    "\n",
    "Issues:\n",
    "\n",
    "1. row 0 is a seperator\n",
    "2. empty column called Unamed: 6\n",
    "3. only one column is recognized as a numerical type\n",
    "4. Padded spaces in header  "
   ]
  },
  {
   "cell_type": "markdown",
   "metadata": {},
   "source": [
    "# Use ```read_csv``` to Clean Some Issues"
   ]
  },
  {
   "cell_type": "code",
   "execution_count": 8,
   "metadata": {},
   "outputs": [],
   "source": [
    "from datetime import datetime\n",
    "dateparse = lambda x: datetime.strptime(x, '%m/%d/%Y')"
   ]
  },
  {
   "cell_type": "code",
   "execution_count": 9,
   "metadata": {},
   "outputs": [
    {
     "data": {
      "text/html": [
       "<div>\n",
       "<style scoped>\n",
       "    .dataframe tbody tr th:only-of-type {\n",
       "        vertical-align: middle;\n",
       "    }\n",
       "\n",
       "    .dataframe tbody tr th {\n",
       "        vertical-align: top;\n",
       "    }\n",
       "\n",
       "    .dataframe thead th {\n",
       "        text-align: right;\n",
       "    }\n",
       "</style>\n",
       "<table border=\"1\" class=\"dataframe\">\n",
       "  <thead>\n",
       "    <tr style=\"text-align: right;\">\n",
       "      <th></th>\n",
       "      <th>Date</th>\n",
       "      <th>Symbol</th>\n",
       "      <th>ListingMarket</th>\n",
       "      <th>OpeningCross</th>\n",
       "      <th>ClosingCross</th>\n",
       "      <th>IntradayCross</th>\n",
       "      <th>Unnamed: 6</th>\n",
       "    </tr>\n",
       "  </thead>\n",
       "  <tbody>\n",
       "    <tr>\n",
       "      <th>0</th>\n",
       "      <td>2015-01-02</td>\n",
       "      <td>AAL</td>\n",
       "      <td></td>\n",
       "      <td>169168</td>\n",
       "      <td>338447</td>\n",
       "      <td>0</td>\n",
       "      <td>NaN</td>\n",
       "    </tr>\n",
       "    <tr>\n",
       "      <th>1</th>\n",
       "      <td>2015-01-02</td>\n",
       "      <td>AAME</td>\n",
       "      <td></td>\n",
       "      <td>200</td>\n",
       "      <td>0</td>\n",
       "      <td>0</td>\n",
       "      <td>NaN</td>\n",
       "    </tr>\n",
       "    <tr>\n",
       "      <th>2</th>\n",
       "      <td>2015-01-02</td>\n",
       "      <td>AAOI</td>\n",
       "      <td></td>\n",
       "      <td>508</td>\n",
       "      <td>35903</td>\n",
       "      <td>0</td>\n",
       "      <td>NaN</td>\n",
       "    </tr>\n",
       "    <tr>\n",
       "      <th>3</th>\n",
       "      <td>2015-01-02</td>\n",
       "      <td>AAON</td>\n",
       "      <td></td>\n",
       "      <td>767</td>\n",
       "      <td>6205</td>\n",
       "      <td>0</td>\n",
       "      <td>NaN</td>\n",
       "    </tr>\n",
       "    <tr>\n",
       "      <th>4</th>\n",
       "      <td>2015-01-02</td>\n",
       "      <td>AAP</td>\n",
       "      <td></td>\n",
       "      <td>2</td>\n",
       "      <td>0</td>\n",
       "      <td>0</td>\n",
       "      <td>NaN</td>\n",
       "    </tr>\n",
       "  </tbody>\n",
       "</table>\n",
       "</div>"
      ],
      "text/plain": [
       "  Date        Symbol  ListingMarket  OpeningCross  ClosingCross  \\\n",
       "0 2015-01-02  AAL                          169168        338447   \n",
       "1 2015-01-02  AAME                            200             0   \n",
       "2 2015-01-02  AAOI                            508         35903   \n",
       "3 2015-01-02  AAON                            767          6205   \n",
       "4 2015-01-02  AAP                               2             0   \n",
       "\n",
       "   IntradayCross  Unnamed: 6  \n",
       "0              0         NaN  \n",
       "1              0         NaN  \n",
       "2              0         NaN  \n",
       "3              0         NaN  \n",
       "4              0         NaN  "
      ]
     },
     "execution_count": 9,
     "metadata": {},
     "output_type": "execute_result"
    }
   ],
   "source": [
    "df = pd.read_csv(location + 'CrossStats20150102.txt',skiprows=[1],\n",
    "                 parse_dates=['Date      '],date_parser=dateparse)\n",
    "df.head()"
   ]
  },
  {
   "cell_type": "code",
   "execution_count": 10,
   "metadata": {},
   "outputs": [
    {
     "data": {
      "text/plain": [
       "Date             datetime64[ns]\n",
       "Symbol                   object\n",
       "ListingMarket            object\n",
       "OpeningCross              int64\n",
       "ClosingCross              int64\n",
       "IntradayCross             int64\n",
       "Unnamed: 6              float64\n",
       "dtype: object"
      ]
     },
     "execution_count": 10,
     "metadata": {},
     "output_type": "execute_result"
    }
   ],
   "source": [
    "df.dtypes"
   ]
  },
  {
   "cell_type": "code",
   "execution_count": 11,
   "metadata": {},
   "outputs": [
    {
     "data": {
      "text/plain": [
       "Index(['Date      ', 'Symbol', 'ListingMarket', 'OpeningCross', 'ClosingCross',\n",
       "       'IntradayCross', 'Unnamed: 6'],\n",
       "      dtype='object')"
      ]
     },
     "execution_count": 11,
     "metadata": {},
     "output_type": "execute_result"
    }
   ],
   "source": [
    "df.columns"
   ]
  },
  {
   "cell_type": "markdown",
   "metadata": {},
   "source": [
    "### Fix Padding with Spaces"
   ]
  },
  {
   "cell_type": "code",
   "execution_count": 12,
   "metadata": {},
   "outputs": [
    {
     "data": {
      "text/plain": [
       "['Date',\n",
       " 'Symbol',\n",
       " 'ListingMarket',\n",
       " 'OpeningCross',\n",
       " 'ClosingCross',\n",
       " 'IntradayCross',\n",
       " 'Unnamed: 6']"
      ]
     },
     "execution_count": 12,
     "metadata": {},
     "output_type": "execute_result"
    }
   ],
   "source": [
    "cc = []\n",
    "for c in df.columns:\n",
    "    cc += [c.strip()]\n",
    "cc"
   ]
  },
  {
   "cell_type": "code",
   "execution_count": 13,
   "metadata": {},
   "outputs": [],
   "source": [
    "df.columns = cc"
   ]
  },
  {
   "cell_type": "markdown",
   "metadata": {},
   "source": [
    "### Listing Market Is Empty"
   ]
  },
  {
   "cell_type": "code",
   "execution_count": 14,
   "metadata": {
    "scrolled": true
   },
   "outputs": [
    {
     "data": {
      "text/plain": [
       "array(['             ', 'NULL         '], dtype=object)"
      ]
     },
     "execution_count": 14,
     "metadata": {},
     "output_type": "execute_result"
    }
   ],
   "source": [
    "df.ListingMarket.unique()"
   ]
  },
  {
   "cell_type": "markdown",
   "metadata": {},
   "source": [
    "### Remove Empty Columns\n",
    "\n",
    "Listing Market and Unamed: 6"
   ]
  },
  {
   "cell_type": "code",
   "execution_count": 15,
   "metadata": {},
   "outputs": [],
   "source": [
    "df = df[['Date', 'Symbol',  'OpeningCross', 'ClosingCross','IntradayCross']]"
   ]
  },
  {
   "cell_type": "code",
   "execution_count": 16,
   "metadata": {},
   "outputs": [
    {
     "data": {
      "text/html": [
       "<div>\n",
       "<style scoped>\n",
       "    .dataframe tbody tr th:only-of-type {\n",
       "        vertical-align: middle;\n",
       "    }\n",
       "\n",
       "    .dataframe tbody tr th {\n",
       "        vertical-align: top;\n",
       "    }\n",
       "\n",
       "    .dataframe thead th {\n",
       "        text-align: right;\n",
       "    }\n",
       "</style>\n",
       "<table border=\"1\" class=\"dataframe\">\n",
       "  <thead>\n",
       "    <tr style=\"text-align: right;\">\n",
       "      <th></th>\n",
       "      <th>Date</th>\n",
       "      <th>Symbol</th>\n",
       "      <th>OpeningCross</th>\n",
       "      <th>ClosingCross</th>\n",
       "      <th>IntradayCross</th>\n",
       "    </tr>\n",
       "  </thead>\n",
       "  <tbody>\n",
       "    <tr>\n",
       "      <th>0</th>\n",
       "      <td>2015-01-02</td>\n",
       "      <td>AAL</td>\n",
       "      <td>169168</td>\n",
       "      <td>338447</td>\n",
       "      <td>0</td>\n",
       "    </tr>\n",
       "    <tr>\n",
       "      <th>1</th>\n",
       "      <td>2015-01-02</td>\n",
       "      <td>AAME</td>\n",
       "      <td>200</td>\n",
       "      <td>0</td>\n",
       "      <td>0</td>\n",
       "    </tr>\n",
       "    <tr>\n",
       "      <th>2</th>\n",
       "      <td>2015-01-02</td>\n",
       "      <td>AAOI</td>\n",
       "      <td>508</td>\n",
       "      <td>35903</td>\n",
       "      <td>0</td>\n",
       "    </tr>\n",
       "    <tr>\n",
       "      <th>3</th>\n",
       "      <td>2015-01-02</td>\n",
       "      <td>AAON</td>\n",
       "      <td>767</td>\n",
       "      <td>6205</td>\n",
       "      <td>0</td>\n",
       "    </tr>\n",
       "    <tr>\n",
       "      <th>4</th>\n",
       "      <td>2015-01-02</td>\n",
       "      <td>AAP</td>\n",
       "      <td>2</td>\n",
       "      <td>0</td>\n",
       "      <td>0</td>\n",
       "    </tr>\n",
       "  </tbody>\n",
       "</table>\n",
       "</div>"
      ],
      "text/plain": [
       "        Date  Symbol  OpeningCross  ClosingCross  IntradayCross\n",
       "0 2015-01-02  AAL           169168        338447              0\n",
       "1 2015-01-02  AAME             200             0              0\n",
       "2 2015-01-02  AAOI             508         35903              0\n",
       "3 2015-01-02  AAON             767          6205              0\n",
       "4 2015-01-02  AAP                2             0              0"
      ]
     },
     "execution_count": 16,
     "metadata": {},
     "output_type": "execute_result"
    }
   ],
   "source": [
    "df.head()"
   ]
  },
  {
   "cell_type": "markdown",
   "metadata": {},
   "source": [
    "### Inspect Data"
   ]
  },
  {
   "cell_type": "code",
   "execution_count": 17,
   "metadata": {},
   "outputs": [
    {
     "data": {
      "text/html": [
       "<div>\n",
       "<style scoped>\n",
       "    .dataframe tbody tr th:only-of-type {\n",
       "        vertical-align: middle;\n",
       "    }\n",
       "\n",
       "    .dataframe tbody tr th {\n",
       "        vertical-align: top;\n",
       "    }\n",
       "\n",
       "    .dataframe thead th {\n",
       "        text-align: right;\n",
       "    }\n",
       "</style>\n",
       "<table border=\"1\" class=\"dataframe\">\n",
       "  <thead>\n",
       "    <tr style=\"text-align: right;\">\n",
       "      <th></th>\n",
       "      <th>OpeningCross</th>\n",
       "      <th>ClosingCross</th>\n",
       "      <th>IntradayCross</th>\n",
       "    </tr>\n",
       "  </thead>\n",
       "  <tbody>\n",
       "    <tr>\n",
       "      <th>count</th>\n",
       "      <td>2.745000e+03</td>\n",
       "      <td>2.745000e+03</td>\n",
       "      <td>2745.0</td>\n",
       "    </tr>\n",
       "    <tr>\n",
       "      <th>mean</th>\n",
       "      <td>1.377668e+04</td>\n",
       "      <td>4.286665e+04</td>\n",
       "      <td>0.0</td>\n",
       "    </tr>\n",
       "    <tr>\n",
       "      <th>std</th>\n",
       "      <td>3.621713e+05</td>\n",
       "      <td>1.127405e+06</td>\n",
       "      <td>0.0</td>\n",
       "    </tr>\n",
       "    <tr>\n",
       "      <th>min</th>\n",
       "      <td>0.000000e+00</td>\n",
       "      <td>0.000000e+00</td>\n",
       "      <td>0.0</td>\n",
       "    </tr>\n",
       "    <tr>\n",
       "      <th>25%</th>\n",
       "      <td>2.100000e+02</td>\n",
       "      <td>2.000000e+02</td>\n",
       "      <td>0.0</td>\n",
       "    </tr>\n",
       "    <tr>\n",
       "      <th>50%</th>\n",
       "      <td>9.990000e+02</td>\n",
       "      <td>3.409000e+03</td>\n",
       "      <td>0.0</td>\n",
       "    </tr>\n",
       "    <tr>\n",
       "      <th>75%</th>\n",
       "      <td>3.944000e+03</td>\n",
       "      <td>1.361900e+04</td>\n",
       "      <td>0.0</td>\n",
       "    </tr>\n",
       "    <tr>\n",
       "      <th>max</th>\n",
       "      <td>1.890849e+07</td>\n",
       "      <td>5.883448e+07</td>\n",
       "      <td>0.0</td>\n",
       "    </tr>\n",
       "  </tbody>\n",
       "</table>\n",
       "</div>"
      ],
      "text/plain": [
       "       OpeningCross  ClosingCross  IntradayCross\n",
       "count  2.745000e+03  2.745000e+03         2745.0\n",
       "mean   1.377668e+04  4.286665e+04            0.0\n",
       "std    3.621713e+05  1.127405e+06            0.0\n",
       "min    0.000000e+00  0.000000e+00            0.0\n",
       "25%    2.100000e+02  2.000000e+02            0.0\n",
       "50%    9.990000e+02  3.409000e+03            0.0\n",
       "75%    3.944000e+03  1.361900e+04            0.0\n",
       "max    1.890849e+07  5.883448e+07            0.0"
      ]
     },
     "execution_count": 17,
     "metadata": {},
     "output_type": "execute_result"
    }
   ],
   "source": [
    "df.describe()"
   ]
  },
  {
   "cell_type": "code",
   "execution_count": 18,
   "metadata": {},
   "outputs": [
    {
     "data": {
      "image/png": "[encoded data removed]",
      "text/plain": [
       "<Figure size 720x288 with 1 Axes>"
      ]
     },
     "metadata": {
      "needs_background": "light"
     },
     "output_type": "display_data"
    }
   ],
   "source": [
    "df.plot.scatter(x='OpeningCross',y='ClosingCross')\n",
    "plt.show()"
   ]
  },
  {
   "cell_type": "code",
   "execution_count": 19,
   "metadata": {},
   "outputs": [
    {
     "name": "stderr",
     "output_type": "stream",
     "text": [
      "/Users/dan/Library/Python/3.8/lib/python/site-packages/pandas/core/arraylike.py:358: RuntimeWarning: divide by zero encountered in log10\n",
      "  result = getattr(ufunc, method)(*inputs, **kwargs)\n"
     ]
    }
   ],
   "source": [
    "df['log_open'] = np.log10(df['OpeningCross'])\n",
    "df['log_close'] = np.log10(df['ClosingCross'])"
   ]
  },
  {
   "cell_type": "code",
   "execution_count": 20,
   "metadata": {},
   "outputs": [
    {
     "data": {
      "image/png": "[encoded data removed]",
      "text/plain": [
       "<Figure size 720x288 with 1 Axes>"
      ]
     },
     "metadata": {
      "needs_background": "light"
     },
     "output_type": "display_data"
    }
   ],
   "source": [
    "df.plot.scatter(x='log_open',y='log_close')\n",
    "plt.show()"
   ]
  },
  {
   "cell_type": "code",
   "execution_count": 21,
   "metadata": {},
   "outputs": [
    {
     "data": {
      "text/plain": [
       "array(['AAL   ', 'AAME  ', 'AAOI  ', ..., 'ZU    ', 'ZUMZ  ', 'TOTAL '],\n",
       "      dtype=object)"
      ]
     },
     "execution_count": 21,
     "metadata": {},
     "output_type": "execute_result"
    }
   ],
   "source": [
    "df['Symbol'].values"
   ]
  },
  {
   "cell_type": "markdown",
   "metadata": {},
   "source": [
    "### Symbols are Space Padded"
   ]
  },
  {
   "cell_type": "code",
   "execution_count": 22,
   "metadata": {},
   "outputs": [],
   "source": [
    "df['Symbol'] = df.apply(lambda x: x['Symbol'].strip(), axis=1)"
   ]
  },
  {
   "cell_type": "code",
   "execution_count": 23,
   "metadata": {},
   "outputs": [
    {
     "data": {
      "text/plain": [
       "array(['AAL', 'AAME', 'AAOI', ..., 'ZU', 'ZUMZ', 'TOTAL'], dtype=object)"
      ]
     },
     "execution_count": 23,
     "metadata": {},
     "output_type": "execute_result"
    }
   ],
   "source": [
    "df['Symbol'].values"
   ]
  },
  {
   "cell_type": "code",
   "execution_count": 24,
   "metadata": {},
   "outputs": [
    {
     "data": {
      "text/html": [
       "<div>\n",
       "<style scoped>\n",
       "    .dataframe tbody tr th:only-of-type {\n",
       "        vertical-align: middle;\n",
       "    }\n",
       "\n",
       "    .dataframe tbody tr th {\n",
       "        vertical-align: top;\n",
       "    }\n",
       "\n",
       "    .dataframe thead th {\n",
       "        text-align: right;\n",
       "    }\n",
       "</style>\n",
       "<table border=\"1\" class=\"dataframe\">\n",
       "  <thead>\n",
       "    <tr style=\"text-align: right;\">\n",
       "      <th></th>\n",
       "      <th>Date</th>\n",
       "      <th>Symbol</th>\n",
       "      <th>OpeningCross</th>\n",
       "      <th>ClosingCross</th>\n",
       "      <th>IntradayCross</th>\n",
       "      <th>log_open</th>\n",
       "      <th>log_close</th>\n",
       "    </tr>\n",
       "  </thead>\n",
       "  <tbody>\n",
       "    <tr>\n",
       "      <th>0</th>\n",
       "      <td>2015-01-02</td>\n",
       "      <td>AAL</td>\n",
       "      <td>169168</td>\n",
       "      <td>338447</td>\n",
       "      <td>0</td>\n",
       "      <td>5.228318</td>\n",
       "      <td>5.529491</td>\n",
       "    </tr>\n",
       "    <tr>\n",
       "      <th>1</th>\n",
       "      <td>2015-01-02</td>\n",
       "      <td>AAME</td>\n",
       "      <td>200</td>\n",
       "      <td>0</td>\n",
       "      <td>0</td>\n",
       "      <td>2.301030</td>\n",
       "      <td>-inf</td>\n",
       "    </tr>\n",
       "    <tr>\n",
       "      <th>2</th>\n",
       "      <td>2015-01-02</td>\n",
       "      <td>AAOI</td>\n",
       "      <td>508</td>\n",
       "      <td>35903</td>\n",
       "      <td>0</td>\n",
       "      <td>2.705864</td>\n",
       "      <td>4.555131</td>\n",
       "    </tr>\n",
       "    <tr>\n",
       "      <th>3</th>\n",
       "      <td>2015-01-02</td>\n",
       "      <td>AAON</td>\n",
       "      <td>767</td>\n",
       "      <td>6205</td>\n",
       "      <td>0</td>\n",
       "      <td>2.884795</td>\n",
       "      <td>3.792742</td>\n",
       "    </tr>\n",
       "    <tr>\n",
       "      <th>4</th>\n",
       "      <td>2015-01-02</td>\n",
       "      <td>AAP</td>\n",
       "      <td>2</td>\n",
       "      <td>0</td>\n",
       "      <td>0</td>\n",
       "      <td>0.301030</td>\n",
       "      <td>-inf</td>\n",
       "    </tr>\n",
       "  </tbody>\n",
       "</table>\n",
       "</div>"
      ],
      "text/plain": [
       "        Date Symbol  OpeningCross  ClosingCross  IntradayCross  log_open  \\\n",
       "0 2015-01-02    AAL        169168        338447              0  5.228318   \n",
       "1 2015-01-02   AAME           200             0              0  2.301030   \n",
       "2 2015-01-02   AAOI           508         35903              0  2.705864   \n",
       "3 2015-01-02   AAON           767          6205              0  2.884795   \n",
       "4 2015-01-02    AAP             2             0              0  0.301030   \n",
       "\n",
       "   log_close  \n",
       "0   5.529491  \n",
       "1       -inf  \n",
       "2   4.555131  \n",
       "3   3.792742  \n",
       "4       -inf  "
      ]
     },
     "execution_count": 24,
     "metadata": {},
     "output_type": "execute_result"
    }
   ],
   "source": [
    "df.head()"
   ]
  },
  {
   "cell_type": "code",
   "execution_count": null,
   "metadata": {},
   "outputs": [],
   "source": []
  },
  {
   "cell_type": "code",
   "execution_count": null,
   "metadata": {},
   "outputs": [],
   "source": []
  },
  {
   "cell_type": "markdown",
   "metadata": {},
   "source": [
    "# Top 10 Largest Auctions"
   ]
  },
  {
   "cell_type": "code",
   "execution_count": 25,
   "metadata": {},
   "outputs": [
    {
     "data": {
      "text/html": [
       "<div>\n",
       "<style scoped>\n",
       "    .dataframe tbody tr th:only-of-type {\n",
       "        vertical-align: middle;\n",
       "    }\n",
       "\n",
       "    .dataframe tbody tr th {\n",
       "        vertical-align: top;\n",
       "    }\n",
       "\n",
       "    .dataframe thead th {\n",
       "        text-align: right;\n",
       "    }\n",
       "</style>\n",
       "<table border=\"1\" class=\"dataframe\">\n",
       "  <thead>\n",
       "    <tr style=\"text-align: right;\">\n",
       "      <th></th>\n",
       "      <th>Date</th>\n",
       "      <th>Symbol</th>\n",
       "      <th>OpeningCross</th>\n",
       "      <th>ClosingCross</th>\n",
       "      <th>IntradayCross</th>\n",
       "      <th>log_open</th>\n",
       "      <th>log_close</th>\n",
       "    </tr>\n",
       "  </thead>\n",
       "  <tbody>\n",
       "    <tr>\n",
       "      <th>2744</th>\n",
       "      <td>2015-01-02</td>\n",
       "      <td>TOTAL</td>\n",
       "      <td>18908494</td>\n",
       "      <td>58834476</td>\n",
       "      <td>0</td>\n",
       "      <td>7.276657</td>\n",
       "      <td>7.769632</td>\n",
       "    </tr>\n",
       "    <tr>\n",
       "      <th>5</th>\n",
       "      <td>2015-01-02</td>\n",
       "      <td>AAPL</td>\n",
       "      <td>410806</td>\n",
       "      <td>2370515</td>\n",
       "      <td>0</td>\n",
       "      <td>5.613637</td>\n",
       "      <td>6.374843</td>\n",
       "    </tr>\n",
       "    <tr>\n",
       "      <th>2030</th>\n",
       "      <td>2015-01-02</td>\n",
       "      <td>QRVO</td>\n",
       "      <td>57042</td>\n",
       "      <td>2299961</td>\n",
       "      <td>0</td>\n",
       "      <td>4.756195</td>\n",
       "      <td>6.361720</td>\n",
       "    </tr>\n",
       "    <tr>\n",
       "      <th>1624</th>\n",
       "      <td>2015-01-02</td>\n",
       "      <td>MSFT</td>\n",
       "      <td>378640</td>\n",
       "      <td>2292561</td>\n",
       "      <td>0</td>\n",
       "      <td>5.578226</td>\n",
       "      <td>6.360321</td>\n",
       "    </tr>\n",
       "    <tr>\n",
       "      <th>1278</th>\n",
       "      <td>2015-01-02</td>\n",
       "      <td>INTC</td>\n",
       "      <td>455743</td>\n",
       "      <td>1759292</td>\n",
       "      <td>0</td>\n",
       "      <td>5.658720</td>\n",
       "      <td>6.245338</td>\n",
       "    </tr>\n",
       "    <tr>\n",
       "      <th>621</th>\n",
       "      <td>2015-01-02</td>\n",
       "      <td>CSCO</td>\n",
       "      <td>424553</td>\n",
       "      <td>1518028</td>\n",
       "      <td>0</td>\n",
       "      <td>5.627932</td>\n",
       "      <td>6.181280</td>\n",
       "    </tr>\n",
       "    <tr>\n",
       "      <th>769</th>\n",
       "      <td>2015-01-02</td>\n",
       "      <td>EBAY</td>\n",
       "      <td>66307</td>\n",
       "      <td>1119755</td>\n",
       "      <td>0</td>\n",
       "      <td>4.821559</td>\n",
       "      <td>6.049123</td>\n",
       "    </tr>\n",
       "    <tr>\n",
       "      <th>1039</th>\n",
       "      <td>2015-01-02</td>\n",
       "      <td>GILD</td>\n",
       "      <td>149791</td>\n",
       "      <td>962942</td>\n",
       "      <td>0</td>\n",
       "      <td>5.175486</td>\n",
       "      <td>5.983600</td>\n",
       "    </tr>\n",
       "    <tr>\n",
       "      <th>532</th>\n",
       "      <td>2015-01-02</td>\n",
       "      <td>CMCSA</td>\n",
       "      <td>142369</td>\n",
       "      <td>829381</td>\n",
       "      <td>0</td>\n",
       "      <td>5.153415</td>\n",
       "      <td>5.918754</td>\n",
       "    </tr>\n",
       "    <tr>\n",
       "      <th>2700</th>\n",
       "      <td>2015-01-02</td>\n",
       "      <td>XIV</td>\n",
       "      <td>19802</td>\n",
       "      <td>784614</td>\n",
       "      <td>0</td>\n",
       "      <td>4.296709</td>\n",
       "      <td>5.894656</td>\n",
       "    </tr>\n",
       "  </tbody>\n",
       "</table>\n",
       "</div>"
      ],
      "text/plain": [
       "           Date Symbol  OpeningCross  ClosingCross  IntradayCross  log_open  \\\n",
       "2744 2015-01-02  TOTAL      18908494      58834476              0  7.276657   \n",
       "5    2015-01-02   AAPL        410806       2370515              0  5.613637   \n",
       "2030 2015-01-02   QRVO         57042       2299961              0  4.756195   \n",
       "1624 2015-01-02   MSFT        378640       2292561              0  5.578226   \n",
       "1278 2015-01-02   INTC        455743       1759292              0  5.658720   \n",
       "621  2015-01-02   CSCO        424553       1518028              0  5.627932   \n",
       "769  2015-01-02   EBAY         66307       1119755              0  4.821559   \n",
       "1039 2015-01-02   GILD        149791        962942              0  5.175486   \n",
       "532  2015-01-02  CMCSA        142369        829381              0  5.153415   \n",
       "2700 2015-01-02    XIV         19802        784614              0  4.296709   \n",
       "\n",
       "      log_close  \n",
       "2744   7.769632  \n",
       "5      6.374843  \n",
       "2030   6.361720  \n",
       "1624   6.360321  \n",
       "1278   6.245338  \n",
       "621    6.181280  \n",
       "769    6.049123  \n",
       "1039   5.983600  \n",
       "532    5.918754  \n",
       "2700   5.894656  "
      ]
     },
     "execution_count": 25,
     "metadata": {},
     "output_type": "execute_result"
    }
   ],
   "source": [
    "df.sort_values('ClosingCross',ascending=False).head(10)"
   ]
  },
  {
   "cell_type": "markdown",
   "metadata": {},
   "source": [
    "### Another Issue\n",
    "\n",
    "Total Should be removed"
   ]
  },
  {
   "cell_type": "code",
   "execution_count": 26,
   "metadata": {},
   "outputs": [
    {
     "data": {
      "text/html": [
       "<div>\n",
       "<style scoped>\n",
       "    .dataframe tbody tr th:only-of-type {\n",
       "        vertical-align: middle;\n",
       "    }\n",
       "\n",
       "    .dataframe tbody tr th {\n",
       "        vertical-align: top;\n",
       "    }\n",
       "\n",
       "    .dataframe thead th {\n",
       "        text-align: right;\n",
       "    }\n",
       "</style>\n",
       "<table border=\"1\" class=\"dataframe\">\n",
       "  <thead>\n",
       "    <tr style=\"text-align: right;\">\n",
       "      <th></th>\n",
       "      <th>Date</th>\n",
       "      <th>Symbol</th>\n",
       "      <th>OpeningCross</th>\n",
       "      <th>ClosingCross</th>\n",
       "      <th>IntradayCross</th>\n",
       "      <th>log_open</th>\n",
       "      <th>log_close</th>\n",
       "    </tr>\n",
       "  </thead>\n",
       "  <tbody>\n",
       "    <tr>\n",
       "      <th>2740</th>\n",
       "      <td>2015-01-02</td>\n",
       "      <td>ZOES</td>\n",
       "      <td>200</td>\n",
       "      <td>0</td>\n",
       "      <td>0</td>\n",
       "      <td>2.301030</td>\n",
       "      <td>-inf</td>\n",
       "    </tr>\n",
       "    <tr>\n",
       "      <th>2741</th>\n",
       "      <td>2015-01-02</td>\n",
       "      <td>ZSPH</td>\n",
       "      <td>634</td>\n",
       "      <td>14718</td>\n",
       "      <td>0</td>\n",
       "      <td>2.802089</td>\n",
       "      <td>4.167849</td>\n",
       "    </tr>\n",
       "    <tr>\n",
       "      <th>2742</th>\n",
       "      <td>2015-01-02</td>\n",
       "      <td>ZU</td>\n",
       "      <td>1971</td>\n",
       "      <td>17295</td>\n",
       "      <td>0</td>\n",
       "      <td>3.294687</td>\n",
       "      <td>4.237921</td>\n",
       "    </tr>\n",
       "    <tr>\n",
       "      <th>2743</th>\n",
       "      <td>2015-01-02</td>\n",
       "      <td>ZUMZ</td>\n",
       "      <td>1745</td>\n",
       "      <td>8763</td>\n",
       "      <td>0</td>\n",
       "      <td>3.241795</td>\n",
       "      <td>3.942653</td>\n",
       "    </tr>\n",
       "    <tr>\n",
       "      <th>2744</th>\n",
       "      <td>2015-01-02</td>\n",
       "      <td>TOTAL</td>\n",
       "      <td>18908494</td>\n",
       "      <td>58834476</td>\n",
       "      <td>0</td>\n",
       "      <td>7.276657</td>\n",
       "      <td>7.769632</td>\n",
       "    </tr>\n",
       "  </tbody>\n",
       "</table>\n",
       "</div>"
      ],
      "text/plain": [
       "           Date Symbol  OpeningCross  ClosingCross  IntradayCross  log_open  \\\n",
       "2740 2015-01-02   ZOES           200             0              0  2.301030   \n",
       "2741 2015-01-02   ZSPH           634         14718              0  2.802089   \n",
       "2742 2015-01-02     ZU          1971         17295              0  3.294687   \n",
       "2743 2015-01-02   ZUMZ          1745          8763              0  3.241795   \n",
       "2744 2015-01-02  TOTAL      18908494      58834476              0  7.276657   \n",
       "\n",
       "      log_close  \n",
       "2740       -inf  \n",
       "2741   4.167849  \n",
       "2742   4.237921  \n",
       "2743   3.942653  \n",
       "2744   7.769632  "
      ]
     },
     "execution_count": 26,
     "metadata": {},
     "output_type": "execute_result"
    }
   ],
   "source": [
    "df.tail()"
   ]
  },
  {
   "cell_type": "code",
   "execution_count": 27,
   "metadata": {},
   "outputs": [],
   "source": [
    "df = df.drop(2744)"
   ]
  },
  {
   "cell_type": "code",
   "execution_count": 28,
   "metadata": {},
   "outputs": [
    {
     "data": {
      "text/html": [
       "<div>\n",
       "<style scoped>\n",
       "    .dataframe tbody tr th:only-of-type {\n",
       "        vertical-align: middle;\n",
       "    }\n",
       "\n",
       "    .dataframe tbody tr th {\n",
       "        vertical-align: top;\n",
       "    }\n",
       "\n",
       "    .dataframe thead th {\n",
       "        text-align: right;\n",
       "    }\n",
       "</style>\n",
       "<table border=\"1\" class=\"dataframe\">\n",
       "  <thead>\n",
       "    <tr style=\"text-align: right;\">\n",
       "      <th></th>\n",
       "      <th>Date</th>\n",
       "      <th>Symbol</th>\n",
       "      <th>OpeningCross</th>\n",
       "      <th>ClosingCross</th>\n",
       "      <th>IntradayCross</th>\n",
       "      <th>log_open</th>\n",
       "      <th>log_close</th>\n",
       "    </tr>\n",
       "  </thead>\n",
       "  <tbody>\n",
       "    <tr>\n",
       "      <th>2739</th>\n",
       "      <td>2015-01-02</td>\n",
       "      <td>ZNGA</td>\n",
       "      <td>76950</td>\n",
       "      <td>282742</td>\n",
       "      <td>0</td>\n",
       "      <td>4.886209</td>\n",
       "      <td>5.451390</td>\n",
       "    </tr>\n",
       "    <tr>\n",
       "      <th>2740</th>\n",
       "      <td>2015-01-02</td>\n",
       "      <td>ZOES</td>\n",
       "      <td>200</td>\n",
       "      <td>0</td>\n",
       "      <td>0</td>\n",
       "      <td>2.301030</td>\n",
       "      <td>-inf</td>\n",
       "    </tr>\n",
       "    <tr>\n",
       "      <th>2741</th>\n",
       "      <td>2015-01-02</td>\n",
       "      <td>ZSPH</td>\n",
       "      <td>634</td>\n",
       "      <td>14718</td>\n",
       "      <td>0</td>\n",
       "      <td>2.802089</td>\n",
       "      <td>4.167849</td>\n",
       "    </tr>\n",
       "    <tr>\n",
       "      <th>2742</th>\n",
       "      <td>2015-01-02</td>\n",
       "      <td>ZU</td>\n",
       "      <td>1971</td>\n",
       "      <td>17295</td>\n",
       "      <td>0</td>\n",
       "      <td>3.294687</td>\n",
       "      <td>4.237921</td>\n",
       "    </tr>\n",
       "    <tr>\n",
       "      <th>2743</th>\n",
       "      <td>2015-01-02</td>\n",
       "      <td>ZUMZ</td>\n",
       "      <td>1745</td>\n",
       "      <td>8763</td>\n",
       "      <td>0</td>\n",
       "      <td>3.241795</td>\n",
       "      <td>3.942653</td>\n",
       "    </tr>\n",
       "  </tbody>\n",
       "</table>\n",
       "</div>"
      ],
      "text/plain": [
       "           Date Symbol  OpeningCross  ClosingCross  IntradayCross  log_open  \\\n",
       "2739 2015-01-02   ZNGA         76950        282742              0  4.886209   \n",
       "2740 2015-01-02   ZOES           200             0              0  2.301030   \n",
       "2741 2015-01-02   ZSPH           634         14718              0  2.802089   \n",
       "2742 2015-01-02     ZU          1971         17295              0  3.294687   \n",
       "2743 2015-01-02   ZUMZ          1745          8763              0  3.241795   \n",
       "\n",
       "      log_close  \n",
       "2739   5.451390  \n",
       "2740       -inf  \n",
       "2741   4.167849  \n",
       "2742   4.237921  \n",
       "2743   3.942653  "
      ]
     },
     "execution_count": 28,
     "metadata": {},
     "output_type": "execute_result"
    }
   ],
   "source": [
    "df.tail()"
   ]
  },
  {
   "cell_type": "code",
   "execution_count": 29,
   "metadata": {},
   "outputs": [
    {
     "data": {
      "image/png": "[encoded data removed]",
      "text/plain": [
       "<Figure size 720x288 with 1 Axes>"
      ]
     },
     "metadata": {
      "needs_background": "light"
     },
     "output_type": "display_data"
    }
   ],
   "source": [
    "df.plot.scatter(x='OpeningCross',y='ClosingCross')\n",
    "plt.show()"
   ]
  },
  {
   "cell_type": "code",
   "execution_count": 30,
   "metadata": {},
   "outputs": [
    {
     "data": {
      "image/png": "[encoded data removed]",
      "text/plain": [
       "<Figure size 720x288 with 1 Axes>"
      ]
     },
     "metadata": {
      "needs_background": "light"
     },
     "output_type": "display_data"
    }
   ],
   "source": [
    "df.plot.scatter(x='log_open',y='log_close')\n",
    "plt.show()"
   ]
  },
  {
   "cell_type": "markdown",
   "metadata": {},
   "source": [
    "# Top 10 Closing Cross"
   ]
  },
  {
   "cell_type": "code",
   "execution_count": 31,
   "metadata": {},
   "outputs": [
    {
     "data": {
      "text/html": [
       "<div>\n",
       "<style scoped>\n",
       "    .dataframe tbody tr th:only-of-type {\n",
       "        vertical-align: middle;\n",
       "    }\n",
       "\n",
       "    .dataframe tbody tr th {\n",
       "        vertical-align: top;\n",
       "    }\n",
       "\n",
       "    .dataframe thead th {\n",
       "        text-align: right;\n",
       "    }\n",
       "</style>\n",
       "<table border=\"1\" class=\"dataframe\">\n",
       "  <thead>\n",
       "    <tr style=\"text-align: right;\">\n",
       "      <th></th>\n",
       "      <th>Date</th>\n",
       "      <th>Symbol</th>\n",
       "      <th>OpeningCross</th>\n",
       "      <th>ClosingCross</th>\n",
       "      <th>IntradayCross</th>\n",
       "      <th>log_open</th>\n",
       "      <th>log_close</th>\n",
       "    </tr>\n",
       "  </thead>\n",
       "  <tbody>\n",
       "    <tr>\n",
       "      <th>5</th>\n",
       "      <td>2015-01-02</td>\n",
       "      <td>AAPL</td>\n",
       "      <td>410806</td>\n",
       "      <td>2370515</td>\n",
       "      <td>0</td>\n",
       "      <td>5.613637</td>\n",
       "      <td>6.374843</td>\n",
       "    </tr>\n",
       "    <tr>\n",
       "      <th>2030</th>\n",
       "      <td>2015-01-02</td>\n",
       "      <td>QRVO</td>\n",
       "      <td>57042</td>\n",
       "      <td>2299961</td>\n",
       "      <td>0</td>\n",
       "      <td>4.756195</td>\n",
       "      <td>6.361720</td>\n",
       "    </tr>\n",
       "    <tr>\n",
       "      <th>1624</th>\n",
       "      <td>2015-01-02</td>\n",
       "      <td>MSFT</td>\n",
       "      <td>378640</td>\n",
       "      <td>2292561</td>\n",
       "      <td>0</td>\n",
       "      <td>5.578226</td>\n",
       "      <td>6.360321</td>\n",
       "    </tr>\n",
       "    <tr>\n",
       "      <th>1278</th>\n",
       "      <td>2015-01-02</td>\n",
       "      <td>INTC</td>\n",
       "      <td>455743</td>\n",
       "      <td>1759292</td>\n",
       "      <td>0</td>\n",
       "      <td>5.658720</td>\n",
       "      <td>6.245338</td>\n",
       "    </tr>\n",
       "    <tr>\n",
       "      <th>621</th>\n",
       "      <td>2015-01-02</td>\n",
       "      <td>CSCO</td>\n",
       "      <td>424553</td>\n",
       "      <td>1518028</td>\n",
       "      <td>0</td>\n",
       "      <td>5.627932</td>\n",
       "      <td>6.181280</td>\n",
       "    </tr>\n",
       "    <tr>\n",
       "      <th>769</th>\n",
       "      <td>2015-01-02</td>\n",
       "      <td>EBAY</td>\n",
       "      <td>66307</td>\n",
       "      <td>1119755</td>\n",
       "      <td>0</td>\n",
       "      <td>4.821559</td>\n",
       "      <td>6.049123</td>\n",
       "    </tr>\n",
       "    <tr>\n",
       "      <th>1039</th>\n",
       "      <td>2015-01-02</td>\n",
       "      <td>GILD</td>\n",
       "      <td>149791</td>\n",
       "      <td>962942</td>\n",
       "      <td>0</td>\n",
       "      <td>5.175486</td>\n",
       "      <td>5.983600</td>\n",
       "    </tr>\n",
       "    <tr>\n",
       "      <th>532</th>\n",
       "      <td>2015-01-02</td>\n",
       "      <td>CMCSA</td>\n",
       "      <td>142369</td>\n",
       "      <td>829381</td>\n",
       "      <td>0</td>\n",
       "      <td>5.153415</td>\n",
       "      <td>5.918754</td>\n",
       "    </tr>\n",
       "    <tr>\n",
       "      <th>2700</th>\n",
       "      <td>2015-01-02</td>\n",
       "      <td>XIV</td>\n",
       "      <td>19802</td>\n",
       "      <td>784614</td>\n",
       "      <td>0</td>\n",
       "      <td>4.296709</td>\n",
       "      <td>5.894656</td>\n",
       "    </tr>\n",
       "    <tr>\n",
       "      <th>1636</th>\n",
       "      <td>2015-01-02</td>\n",
       "      <td>MU</td>\n",
       "      <td>167742</td>\n",
       "      <td>620791</td>\n",
       "      <td>0</td>\n",
       "      <td>5.224642</td>\n",
       "      <td>5.792945</td>\n",
       "    </tr>\n",
       "  </tbody>\n",
       "</table>\n",
       "</div>"
      ],
      "text/plain": [
       "           Date Symbol  OpeningCross  ClosingCross  IntradayCross  log_open  \\\n",
       "5    2015-01-02   AAPL        410806       2370515              0  5.613637   \n",
       "2030 2015-01-02   QRVO         57042       2299961              0  4.756195   \n",
       "1624 2015-01-02   MSFT        378640       2292561              0  5.578226   \n",
       "1278 2015-01-02   INTC        455743       1759292              0  5.658720   \n",
       "621  2015-01-02   CSCO        424553       1518028              0  5.627932   \n",
       "769  2015-01-02   EBAY         66307       1119755              0  4.821559   \n",
       "1039 2015-01-02   GILD        149791        962942              0  5.175486   \n",
       "532  2015-01-02  CMCSA        142369        829381              0  5.153415   \n",
       "2700 2015-01-02    XIV         19802        784614              0  4.296709   \n",
       "1636 2015-01-02     MU        167742        620791              0  5.224642   \n",
       "\n",
       "      log_close  \n",
       "5      6.374843  \n",
       "2030   6.361720  \n",
       "1624   6.360321  \n",
       "1278   6.245338  \n",
       "621    6.181280  \n",
       "769    6.049123  \n",
       "1039   5.983600  \n",
       "532    5.918754  \n",
       "2700   5.894656  \n",
       "1636   5.792945  "
      ]
     },
     "execution_count": 31,
     "metadata": {},
     "output_type": "execute_result"
    }
   ],
   "source": [
    "df.sort_values('ClosingCross',ascending=False).head(10)"
   ]
  },
  {
   "cell_type": "markdown",
   "metadata": {},
   "source": [
    "# Top 10 Opening Cross"
   ]
  },
  {
   "cell_type": "code",
   "execution_count": 32,
   "metadata": {},
   "outputs": [
    {
     "data": {
      "text/html": [
       "<div>\n",
       "<style scoped>\n",
       "    .dataframe tbody tr th:only-of-type {\n",
       "        vertical-align: middle;\n",
       "    }\n",
       "\n",
       "    .dataframe tbody tr th {\n",
       "        vertical-align: top;\n",
       "    }\n",
       "\n",
       "    .dataframe thead th {\n",
       "        text-align: right;\n",
       "    }\n",
       "</style>\n",
       "<table border=\"1\" class=\"dataframe\">\n",
       "  <thead>\n",
       "    <tr style=\"text-align: right;\">\n",
       "      <th></th>\n",
       "      <th>Date</th>\n",
       "      <th>Symbol</th>\n",
       "      <th>OpeningCross</th>\n",
       "      <th>ClosingCross</th>\n",
       "      <th>IntradayCross</th>\n",
       "      <th>log_open</th>\n",
       "      <th>log_close</th>\n",
       "    </tr>\n",
       "  </thead>\n",
       "  <tbody>\n",
       "    <tr>\n",
       "      <th>2639</th>\n",
       "      <td>2015-01-02</td>\n",
       "      <td>WBA</td>\n",
       "      <td>901181</td>\n",
       "      <td>246627</td>\n",
       "      <td>0</td>\n",
       "      <td>5.954812</td>\n",
       "      <td>5.392041</td>\n",
       "    </tr>\n",
       "    <tr>\n",
       "      <th>2223</th>\n",
       "      <td>2015-01-02</td>\n",
       "      <td>SIRI</td>\n",
       "      <td>540959</td>\n",
       "      <td>327822</td>\n",
       "      <td>0</td>\n",
       "      <td>5.733164</td>\n",
       "      <td>5.515638</td>\n",
       "    </tr>\n",
       "    <tr>\n",
       "      <th>1251</th>\n",
       "      <td>2015-01-02</td>\n",
       "      <td>ILMN</td>\n",
       "      <td>476664</td>\n",
       "      <td>41021</td>\n",
       "      <td>0</td>\n",
       "      <td>5.678212</td>\n",
       "      <td>4.613006</td>\n",
       "    </tr>\n",
       "    <tr>\n",
       "      <th>1278</th>\n",
       "      <td>2015-01-02</td>\n",
       "      <td>INTC</td>\n",
       "      <td>455743</td>\n",
       "      <td>1759292</td>\n",
       "      <td>0</td>\n",
       "      <td>5.658720</td>\n",
       "      <td>6.245338</td>\n",
       "    </tr>\n",
       "    <tr>\n",
       "      <th>621</th>\n",
       "      <td>2015-01-02</td>\n",
       "      <td>CSCO</td>\n",
       "      <td>424553</td>\n",
       "      <td>1518028</td>\n",
       "      <td>0</td>\n",
       "      <td>5.627932</td>\n",
       "      <td>6.181280</td>\n",
       "    </tr>\n",
       "    <tr>\n",
       "      <th>5</th>\n",
       "      <td>2015-01-02</td>\n",
       "      <td>AAPL</td>\n",
       "      <td>410806</td>\n",
       "      <td>2370515</td>\n",
       "      <td>0</td>\n",
       "      <td>5.613637</td>\n",
       "      <td>6.374843</td>\n",
       "    </tr>\n",
       "    <tr>\n",
       "      <th>1624</th>\n",
       "      <td>2015-01-02</td>\n",
       "      <td>MSFT</td>\n",
       "      <td>378640</td>\n",
       "      <td>2292561</td>\n",
       "      <td>0</td>\n",
       "      <td>5.578226</td>\n",
       "      <td>6.360321</td>\n",
       "    </tr>\n",
       "    <tr>\n",
       "      <th>2479</th>\n",
       "      <td>2015-01-02</td>\n",
       "      <td>TVIX</td>\n",
       "      <td>294440</td>\n",
       "      <td>44552</td>\n",
       "      <td>0</td>\n",
       "      <td>5.468997</td>\n",
       "      <td>4.648867</td>\n",
       "    </tr>\n",
       "    <tr>\n",
       "      <th>2338</th>\n",
       "      <td>2015-01-02</td>\n",
       "      <td>STX</td>\n",
       "      <td>293080</td>\n",
       "      <td>124208</td>\n",
       "      <td>0</td>\n",
       "      <td>5.466986</td>\n",
       "      <td>5.094150</td>\n",
       "    </tr>\n",
       "    <tr>\n",
       "      <th>2025</th>\n",
       "      <td>2015-01-02</td>\n",
       "      <td>QQQ</td>\n",
       "      <td>206471</td>\n",
       "      <td>306782</td>\n",
       "      <td>0</td>\n",
       "      <td>5.314859</td>\n",
       "      <td>5.486830</td>\n",
       "    </tr>\n",
       "  </tbody>\n",
       "</table>\n",
       "</div>"
      ],
      "text/plain": [
       "           Date Symbol  OpeningCross  ClosingCross  IntradayCross  log_open  \\\n",
       "2639 2015-01-02    WBA        901181        246627              0  5.954812   \n",
       "2223 2015-01-02   SIRI        540959        327822              0  5.733164   \n",
       "1251 2015-01-02   ILMN        476664         41021              0  5.678212   \n",
       "1278 2015-01-02   INTC        455743       1759292              0  5.658720   \n",
       "621  2015-01-02   CSCO        424553       1518028              0  5.627932   \n",
       "5    2015-01-02   AAPL        410806       2370515              0  5.613637   \n",
       "1624 2015-01-02   MSFT        378640       2292561              0  5.578226   \n",
       "2479 2015-01-02   TVIX        294440         44552              0  5.468997   \n",
       "2338 2015-01-02    STX        293080        124208              0  5.466986   \n",
       "2025 2015-01-02    QQQ        206471        306782              0  5.314859   \n",
       "\n",
       "      log_close  \n",
       "2639   5.392041  \n",
       "2223   5.515638  \n",
       "1251   4.613006  \n",
       "1278   6.245338  \n",
       "621    6.181280  \n",
       "5      6.374843  \n",
       "1624   6.360321  \n",
       "2479   4.648867  \n",
       "2338   5.094150  \n",
       "2025   5.486830  "
      ]
     },
     "execution_count": 32,
     "metadata": {},
     "output_type": "execute_result"
    }
   ],
   "source": [
    "df.sort_values('OpeningCross',ascending=False).head(10)"
   ]
  },
  {
   "cell_type": "markdown",
   "metadata": {},
   "source": [
    "# How Many Small Market Opens"
   ]
  },
  {
   "cell_type": "code",
   "execution_count": 33,
   "metadata": {},
   "outputs": [
    {
     "data": {
      "text/plain": [
       "1373"
      ]
     },
     "execution_count": 33,
     "metadata": {},
     "output_type": "execute_result"
    }
   ],
   "source": [
    "small_open = df[df['OpeningCross'] < 1000]\n",
    "len(small_open)"
   ]
  },
  {
   "cell_type": "code",
   "execution_count": 34,
   "metadata": {},
   "outputs": [
    {
     "data": {
      "text/plain": [
       "0.5003644314868805"
      ]
     },
     "execution_count": 34,
     "metadata": {},
     "output_type": "execute_result"
    }
   ],
   "source": [
    "len(small_open) / len(df)"
   ]
  },
  {
   "cell_type": "markdown",
   "metadata": {},
   "source": [
    "# How Many Small Market Closes"
   ]
  },
  {
   "cell_type": "code",
   "execution_count": 35,
   "metadata": {},
   "outputs": [
    {
     "data": {
      "text/plain": [
       "964"
      ]
     },
     "execution_count": 35,
     "metadata": {},
     "output_type": "execute_result"
    }
   ],
   "source": [
    "small_close = df[df['ClosingCross'] < 1000]\n",
    "len(small_close)"
   ]
  },
  {
   "cell_type": "code",
   "execution_count": 36,
   "metadata": {},
   "outputs": [
    {
     "data": {
      "text/plain": [
       "0.35131195335276966"
      ]
     },
     "execution_count": 36,
     "metadata": {},
     "output_type": "execute_result"
    }
   ],
   "source": [
    "len(small_close) / len(df)"
   ]
  },
  {
   "cell_type": "markdown",
   "metadata": {},
   "source": [
    "# Take Aways\n",
    "\n",
    "Issues found with this data:\n",
    "\n",
    "1. Format / Separator Row\n",
    "2. Date Format\n",
    "3. Padding of Empty Spaces\n",
    "4. Empty Columns\n",
    "\n",
    "Filtering\n",
    "\n",
    "1. For small crosses\n",
    "2. top 10 by column\n"
   ]
  },
  {
   "cell_type": "code",
   "execution_count": null,
   "metadata": {},
   "outputs": [],
   "source": []
  }
 ],
 "metadata": {
  "kernelspec": {
   "display_name": "Python 3",
   "language": "python",
   "name": "python3"
  },
  "language_info": {
   "codemirror_mode": {
    "name": "ipython",
    "version": 3
   },
   "file_extension": ".py",
   "mimetype": "text/x-python",
   "name": "python",
   "nbconvert_exporter": "python",
   "pygments_lexer": "ipython3",
   "version": "3.8.3"
  }
 },
 "nbformat": 4,
 "nbformat_minor": 4
}
