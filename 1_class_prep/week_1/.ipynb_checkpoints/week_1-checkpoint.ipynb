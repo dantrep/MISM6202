{
 "cells": [
  {
   "cell_type": "markdown",
   "metadata": {},
   "source": [
    "# week 1 -- clean manipulate"
   ]
  },
  {
   "cell_type": "markdown",
   "metadata": {},
   "source": [
    "Cover string methods:\n",
    "\n",
    "- string methods in week 1:\n",
    " - ```str.replace(' ','_')```\n",
    " - ```str.split('_')```\n",
    " - ```str.lower()```\n",
    " - ```str.strip()```\n",
    " \n",
    "- functions\n",
    " - $f(x) -> y$\n",
    "\n",
    "- dictionaries\n",
    " - ```{k:v}```\n",
    " - ```{k: lst}```\n",
    " - ```d.keys()```\n",
    " - ```d.values()```\n",
    " - ```d.items()```\n",
    "\n",
    "- switches\n",
    " - ```if, elif, else```\n",
    "\n",
    "- broadcasting values to a DataFrame\n",
    " - ```map, apply``` to dataframes\n",
    " \n",
    " \n",
    "- understanding an API\n",
    " - ```dir(__)```\n",
    " - ?"
   ]
  },
  {
   "cell_type": "code",
   "execution_count": null,
   "metadata": {},
   "outputs": [],
   "source": []
  },
  {
   "cell_type": "markdown",
   "metadata": {},
   "source": [
    "## Q1 : Inspect & Clean ```questions.csv```\n",
    "\n",
    "Use pandas to load and inspect the ```question.csv``` data and ensure the questions make sense to you.\n",
    " - how many measurement categories are there?\n",
    " - do you notice anything strange about the category labels?\n",
    " - clean up the measurement categories if necessary\n",
    " - save the clean version of the file under the name: ```questions_clean.csv```"
   ]
  },
  {
   "cell_type": "markdown",
   "metadata": {},
   "source": [
    "# Q1: Clean A List of Dates"
   ]
  },
  {
   "cell_type": "markdown",
   "metadata": {},
   "source": [
    "Produce a list of ```datetime``` objects from "
   ]
  },
  {
   "cell_type": "code",
   "execution_count": 1,
   "metadata": {},
   "outputs": [],
   "source": [
    "dates = ['09 Feb, 1981',\n",
    " '17 Feb, 1985',\n",
    " '2/14/1989',\n",
    " '11 Mar, 1972',\n",
    " '10 Feb, 1973',\n",
    " '1993-07-19',\n",
    " '06 July, 1972',\n",
    " '04 July, 1987',\n",
    " '5/8/1985',\n",
    " '02/25/1995',\n",
    " '9/23/1976',\n",
    " '19950510',\n",
    " '18 Feb, 1987',\n",
    " '2/10/1992',\n",
    " '1982-01-15',\n",
    " '19700319',\n",
    " '12/05/1972',\n",
    " '21 April, 1981',\n",
    " '04/30/1989',\n",
    " '11 September, 1992',\n",
    " '03 December, 1979',\n",
    " '05 February, 1976',\n",
    " '13 Jul, 1971',\n",
    " '05/28/1981',\n",
    " '13 Jul, 1983',\n",
    " '18 Sep, 1983',\n",
    " '16 Oct, 1973',\n",
    " '19731021',\n",
    " '01/15/1972',\n",
    " '19811026',\n",
    " '19760406',\n",
    " '10/3/1978',\n",
    " '19950306',\n",
    " '07/02/1971',\n",
    " '07 Jun, 1996',\n",
    " '29 June, 1989',\n",
    " '2/28/1973',\n",
    " '19871205',\n",
    " '22 Feb, 1973',\n",
    " '13 Mar, 1983',\n",
    " '19941018',\n",
    " '25 May, 1991',\n",
    " '07/05/1982',\n",
    " '28 Nov, 1982',\n",
    " '9/9/1995',\n",
    " '5/20/1991',\n",
    " '05/26/1975',\n",
    " '1985-03-21',\n",
    " '20 April, 1986',\n",
    " '3/1/1986',\n",
    " '19830203',\n",
    " '02 October, 1996',\n",
    " '1995-09-13',\n",
    " '1981-06-05',\n",
    " '04/20/1994',\n",
    " '09 Nov, 1991',\n",
    " '19950916',\n",
    " '06/04/1976',\n",
    " '11/7/1983',\n",
    " '01/01/1971',\n",
    " '19810205',\n",
    " '19 March, 1979',\n",
    " '11/20/1990',\n",
    " '16 February, 1972',\n",
    " '19751222',\n",
    " '08 November, 1991',\n",
    " '7/5/1973',\n",
    " '01 December, 1974',\n",
    " '4/20/1991',\n",
    " '08/21/1996',\n",
    " '1986-05-05',\n",
    " '24 March, 1987',\n",
    " '19700726',\n",
    " '07/18/1976',\n",
    " '19821015',\n",
    " '08/16/1976',\n",
    " '17 Dec, 1986',\n",
    " '10/22/1977',\n",
    " '19911108',\n",
    " '21 January, 1985',\n",
    " '12/05/1980',\n",
    " '3/23/1974',\n",
    " '19840416',\n",
    " '19860812',\n",
    " '12/31/1976',\n",
    " '23 Jun, 1986',\n",
    " '01/16/1995',\n",
    " '19800304',\n",
    " '1994-04-09',\n",
    " '19810913',\n",
    " '19840629',\n",
    " '15 Jan, 1978',\n",
    " '18 Mar, 1970',\n",
    " '22 Apr, 1977',\n",
    " '1988-09-11',\n",
    " '1974-07-13',\n",
    " '31 March, 1982',\n",
    " '5/31/1982',\n",
    " '09/21/1975',\n",
    " '19840215']"
   ]
  },
  {
   "cell_type": "code",
   "execution_count": 3,
   "metadata": {},
   "outputs": [
    {
     "name": "stdout",
     "output_type": "stream",
     "text": [
      "['09 Feb, 1981', '17 Feb, 1985', '2/14/1989', '11 Mar, 1972', '10 Feb, 1973', '1993-07-19', '06 July, 1972', '04 July, 1987', '5/8/1985', '02/25/1995', '9/23/1976', '19950510', '18 Feb, 1987', '2/10/1992', '1982-01-15', '19700319', '12/05/1972', '21 April, 1981', '04/30/1989', '11 September, 1992', '03 December, 1979', '05 February, 1976', '13 Jul, 1971', '05/28/1981', '13 Jul, 1983', '18 Sep, 1983', '16 Oct, 1973', '19731021', '01/15/1972', '19811026', '19760406', '10/3/1978', '19950306', '07/02/1971', '07 Jun, 1996', '29 June, 1989', '2/28/1973', '19871205', '22 Feb, 1973', '13 Mar, 1983', '19941018', '25 May, 1991', '07/05/1982', '28 Nov, 1982', '9/9/1995', '5/20/1991', '05/26/1975', '1985-03-21', '20 April, 1986', '3/1/1986', '19830203', '02 October, 1996', '1995-09-13', '1981-06-05', '04/20/1994', '09 Nov, 1991', '19950916', '06/04/1976', '11/7/1983', '01/01/1971', '19810205', '19 March, 1979', '11/20/1990', '16 February, 1972', '19751222', '08 November, 1991', '7/5/1973', '01 December, 1974', '4/20/1991', '08/21/1996', '1986-05-05', '24 March, 1987', '19700726', '07/18/1976', '19821015', '08/16/1976', '17 Dec, 1986', '10/22/1977', '19911108', '21 January, 1985', '12/05/1980', '3/23/1974', '19840416', '19860812', '12/31/1976', '23 Jun, 1986', '01/16/1995', '19800304', '1994-04-09', '19810913', '19840629', '15 Jan, 1978', '18 Mar, 1970', '22 Apr, 1977', '1988-09-11', '1974-07-13', '31 March, 1982', '5/31/1982', '09/21/1975', '19840215']\n"
     ]
    }
   ],
   "source": [
    "print(dates)"
   ]
  },
  {
   "cell_type": "code",
   "execution_count": null,
   "metadata": {},
   "outputs": [],
   "source": []
  },
  {
   "cell_type": "markdown",
   "metadata": {},
   "source": [
    "# SOLUTION"
   ]
  },
  {
   "cell_type": "markdown",
   "metadata": {},
   "source": [
    "Load required modules:"
   ]
  },
  {
   "cell_type": "code",
   "execution_count": 3,
   "metadata": {},
   "outputs": [],
   "source": [
    "import os\n",
    "import numpy as np\n",
    "import pandas as pd\n",
    "import plotly.express as px"
   ]
  },
  {
   "cell_type": "code",
   "execution_count": 1,
   "metadata": {},
   "outputs": [],
   "source": [
    "location = '../../output/'"
   ]
  },
  {
   "cell_type": "code",
   "execution_count": 4,
   "metadata": {},
   "outputs": [
    {
     "data": {
      "text/plain": [
       "['responses_clean.csv',\n",
       " 'responses.csv',\n",
       " '.DS_Store',\n",
       " 'roster.csv',\n",
       " 'roster_with_score_2.csv',\n",
       " 'questions_clean.csv',\n",
       " 'roster_with_score.csv',\n",
       " 'questions.csv',\n",
       " 'roster_clean.csv',\n",
       " 'demographic_detail.csv']"
      ]
     },
     "execution_count": 4,
     "metadata": {},
     "output_type": "execute_result"
    }
   ],
   "source": [
    "files = os.listdir(location)\n",
    "files"
   ]
  },
  {
   "cell_type": "code",
   "execution_count": null,
   "metadata": {},
   "outputs": [],
   "source": []
  },
  {
   "cell_type": "markdown",
   "metadata": {},
   "source": [
    "# Q1: Inspect & Clean: ```questions.csv```"
   ]
  },
  {
   "cell_type": "code",
   "execution_count": 5,
   "metadata": {},
   "outputs": [
    {
     "data": {
      "text/html": [
       "<div>\n",
       "<style scoped>\n",
       "    .dataframe tbody tr th:only-of-type {\n",
       "        vertical-align: middle;\n",
       "    }\n",
       "\n",
       "    .dataframe tbody tr th {\n",
       "        vertical-align: top;\n",
       "    }\n",
       "\n",
       "    .dataframe thead th {\n",
       "        text-align: right;\n",
       "    }\n",
       "</style>\n",
       "<table border=\"1\" class=\"dataframe\">\n",
       "  <thead>\n",
       "    <tr style=\"text-align: right;\">\n",
       "      <th></th>\n",
       "      <th>Unnamed: 0</th>\n",
       "      <th>id</th>\n",
       "      <th>measurement</th>\n",
       "      <th>question</th>\n",
       "    </tr>\n",
       "  </thead>\n",
       "  <tbody>\n",
       "    <tr>\n",
       "      <th>0</th>\n",
       "      <td>0</td>\n",
       "      <td>1</td>\n",
       "      <td>engagement</td>\n",
       "      <td>I am proud to work for [Company]</td>\n",
       "    </tr>\n",
       "    <tr>\n",
       "      <th>1</th>\n",
       "      <td>1</td>\n",
       "      <td>2</td>\n",
       "      <td>engagement</td>\n",
       "      <td>I would recommend [Company] as a great place t...</td>\n",
       "    </tr>\n",
       "    <tr>\n",
       "      <th>2</th>\n",
       "      <td>2</td>\n",
       "      <td>3</td>\n",
       "      <td>engagement</td>\n",
       "      <td>I rarely think about looking for a job at anot...</td>\n",
       "    </tr>\n",
       "    <tr>\n",
       "      <th>3</th>\n",
       "      <td>3</td>\n",
       "      <td>4</td>\n",
       "      <td>engagement</td>\n",
       "      <td>I see myself still working at [Company] in two...</td>\n",
       "    </tr>\n",
       "    <tr>\n",
       "      <th>4</th>\n",
       "      <td>4</td>\n",
       "      <td>5</td>\n",
       "      <td>engagement</td>\n",
       "      <td>[Company] motivates me to go beyond what I wou...</td>\n",
       "    </tr>\n",
       "    <tr>\n",
       "      <th>5</th>\n",
       "      <td>5</td>\n",
       "      <td>6</td>\n",
       "      <td>leadership</td>\n",
       "      <td>The leaders at [company] keep people informed ...</td>\n",
       "    </tr>\n",
       "    <tr>\n",
       "      <th>6</th>\n",
       "      <td>6</td>\n",
       "      <td>7</td>\n",
       "      <td>leadership</td>\n",
       "      <td>My manager is a great role model for employees</td>\n",
       "    </tr>\n",
       "    <tr>\n",
       "      <th>7</th>\n",
       "      <td>7</td>\n",
       "      <td>8</td>\n",
       "      <td>leadership</td>\n",
       "      <td>The leaders at [Company] have communicated a v...</td>\n",
       "    </tr>\n",
       "    <tr>\n",
       "      <th>8</th>\n",
       "      <td>8</td>\n",
       "      <td>9</td>\n",
       "      <td>enablement</td>\n",
       "      <td>I have access to the resources I need to do my...</td>\n",
       "    </tr>\n",
       "    <tr>\n",
       "      <th>9</th>\n",
       "      <td>9</td>\n",
       "      <td>10</td>\n",
       "      <td>enablement</td>\n",
       "      <td>I have access to the learning and development ...</td>\n",
       "    </tr>\n",
       "    <tr>\n",
       "      <th>10</th>\n",
       "      <td>10</td>\n",
       "      <td>11</td>\n",
       "      <td>enablement</td>\n",
       "      <td>Most of the systems and processes here support...</td>\n",
       "    </tr>\n",
       "    <tr>\n",
       "      <th>11</th>\n",
       "      <td>11</td>\n",
       "      <td>12</td>\n",
       "      <td>alignment</td>\n",
       "      <td>I know what I need to do to be successful in m...</td>\n",
       "    </tr>\n",
       "    <tr>\n",
       "      <th>12</th>\n",
       "      <td>12</td>\n",
       "      <td>13</td>\n",
       "      <td>alignment</td>\n",
       "      <td>I receive appropriate recognition when I do go...</td>\n",
       "    </tr>\n",
       "    <tr>\n",
       "      <th>13</th>\n",
       "      <td>13</td>\n",
       "      <td>14</td>\n",
       "      <td>alignment</td>\n",
       "      <td>Day-to-day decisions here demonstrate that qua...</td>\n",
       "    </tr>\n",
       "    <tr>\n",
       "      <th>14</th>\n",
       "      <td>14</td>\n",
       "      <td>15</td>\n",
       "      <td>development</td>\n",
       "      <td>My manager (or someone in management) has show...</td>\n",
       "    </tr>\n",
       "    <tr>\n",
       "      <th>15</th>\n",
       "      <td>15</td>\n",
       "      <td>16</td>\n",
       "      <td>development</td>\n",
       "      <td>I believe there are good career opportunities ...</td>\n",
       "    </tr>\n",
       "    <tr>\n",
       "      <th>16</th>\n",
       "      <td>16</td>\n",
       "      <td>17</td>\n",
       "      <td>development</td>\n",
       "      <td>This is a great company for me to make a contr...</td>\n",
       "    </tr>\n",
       "  </tbody>\n",
       "</table>\n",
       "</div>"
      ],
      "text/plain": [
       "    Unnamed: 0  id    measurement  \\\n",
       "0            0   1    engagement    \n",
       "1            1   2     engagement   \n",
       "2            2   3     engagement   \n",
       "3            3   4     engagement   \n",
       "4            4   5    engagement    \n",
       "5            5   6     leadership   \n",
       "6            6   7     leadership   \n",
       "7            7   8     leadership   \n",
       "8            8   9     enablement   \n",
       "9            9  10    enablement    \n",
       "10          10  11    enablement    \n",
       "11          11  12     alignment    \n",
       "12          12  13     alignment    \n",
       "13          13  14      alignment   \n",
       "14          14  15    development   \n",
       "15          15  16    development   \n",
       "16          16  17   development    \n",
       "\n",
       "                                             question  \n",
       "0                    I am proud to work for [Company]  \n",
       "1   I would recommend [Company] as a great place t...  \n",
       "2   I rarely think about looking for a job at anot...  \n",
       "3   I see myself still working at [Company] in two...  \n",
       "4   [Company] motivates me to go beyond what I wou...  \n",
       "5   The leaders at [company] keep people informed ...  \n",
       "6      My manager is a great role model for employees  \n",
       "7   The leaders at [Company] have communicated a v...  \n",
       "8   I have access to the resources I need to do my...  \n",
       "9   I have access to the learning and development ...  \n",
       "10  Most of the systems and processes here support...  \n",
       "11  I know what I need to do to be successful in m...  \n",
       "12  I receive appropriate recognition when I do go...  \n",
       "13  Day-to-day decisions here demonstrate that qua...  \n",
       "14  My manager (or someone in management) has show...  \n",
       "15  I believe there are good career opportunities ...  \n",
       "16  This is a great company for me to make a contr...  "
      ]
     },
     "execution_count": 5,
     "metadata": {},
     "output_type": "execute_result"
    }
   ],
   "source": [
    "df = pd.read_csv(location + 'questions.csv')\n",
    "df"
   ]
  },
  {
   "cell_type": "markdown",
   "metadata": {},
   "source": [
    "(a) how many measurement categories are there?"
   ]
  },
  {
   "cell_type": "markdown",
   "metadata": {},
   "source": [
    "There are five legitimate categories"
   ]
  },
  {
   "cell_type": "markdown",
   "metadata": {},
   "source": [
    "(b) do you notice anything strange about the category labels?"
   ]
  },
  {
   "cell_type": "code",
   "execution_count": 7,
   "metadata": {},
   "outputs": [
    {
     "data": {
      "text/plain": [
       "array([' engagement ', 'engagement', 'leadership', 'enablement',\n",
       "       ' enablement ', ' alignment ', 'alignment', 'development',\n",
       "       ' development '], dtype=object)"
      ]
     },
     "execution_count": 7,
     "metadata": {},
     "output_type": "execute_result"
    }
   ],
   "source": [
    "df['measurement'].unique()"
   ]
  },
  {
   "cell_type": "markdown",
   "metadata": {},
   "source": [
    "It Looks Like Leading Spaces in some of the labels"
   ]
  },
  {
   "cell_type": "markdown",
   "metadata": {},
   "source": [
    "(c) clean up the measurement categories if necessary"
   ]
  },
  {
   "cell_type": "code",
   "execution_count": 8,
   "metadata": {},
   "outputs": [
    {
     "data": {
      "text/plain": [
       "array(['engagement', 'leadership', 'enablement', 'alignment',\n",
       "       'development'], dtype=object)"
      ]
     },
     "execution_count": 8,
     "metadata": {},
     "output_type": "execute_result"
    }
   ],
   "source": [
    "df['measurement'] = df['measurement'].map(lambda x: x.strip())\n",
    "df['measurement'].unique()"
   ]
  },
  {
   "cell_type": "code",
   "execution_count": 9,
   "metadata": {},
   "outputs": [
    {
     "data": {
      "text/plain": [
       "0    engagement\n",
       "1    engagement\n",
       "2    engagement\n",
       "3    engagement\n",
       "4    engagement\n",
       "Name: measurement, dtype: category\n",
       "Categories (5, object): ['alignment', 'development', 'enablement', 'engagement', 'leadership']"
      ]
     },
     "execution_count": 9,
     "metadata": {},
     "output_type": "execute_result"
    }
   ],
   "source": [
    "df['measurement'] = df.measurement.astype('category')\n",
    "df['measurement'].head()"
   ]
  },
  {
   "cell_type": "markdown",
   "metadata": {},
   "source": [
    "(d) save the clean version of the file under the name: ```questions_clean.csv```"
   ]
  },
  {
   "cell_type": "code",
   "execution_count": 10,
   "metadata": {},
   "outputs": [],
   "source": [
    "df.to_csv(location + 'questions_clean.csv')"
   ]
  },
  {
   "cell_type": "code",
   "execution_count": null,
   "metadata": {},
   "outputs": [],
   "source": []
  }
 ],
 "metadata": {
  "kernelspec": {
   "display_name": "Python 3",
   "language": "python",
   "name": "python3"
  },
  "language_info": {
   "codemirror_mode": {
    "name": "ipython",
    "version": 3
   },
   "file_extension": ".py",
   "mimetype": "text/x-python",
   "name": "python",
   "nbconvert_exporter": "python",
   "pygments_lexer": "ipython3",
   "version": "3.8.9"
  }
 },
 "nbformat": 4,
 "nbformat_minor": 4
}
