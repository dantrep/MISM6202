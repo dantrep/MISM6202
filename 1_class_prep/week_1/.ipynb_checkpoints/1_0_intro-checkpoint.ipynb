{
 "cells": [
  {
   "cell_type": "markdown",
   "metadata": {},
   "source": [
    "# Intro To Pandas and Datasets\n",
    "\n",
    "\n",
    "The data consists of weather conditions at Mount Rainier, WA from 1949 to 2010.  We will\n",
    "\n",
    "## Load and Inspect Data\n",
    "- open your Jupyter notebook\n",
    "- load the dataset  \n",
    "\n",
    "## Identify & Fix Problem(s)\n",
    "- inspect the data\n",
    "- what is the problem (Breakout)\n",
    "- Fixing the problem\n",
    "\n",
    "## Organize The Data\n",
    "- group by year and by year and month\n",
    "\n",
    "## Visualize\n",
    "- visualize the last decade of data  \n",
    "- compute the average of the max and min temp per day and visualize\n",
    "- compute the temperature range per day and visualize"
   ]
  },
  {
   "cell_type": "markdown",
   "metadata": {},
   "source": [
    "# SOLUTION"
   ]
  },
  {
   "cell_type": "markdown",
   "metadata": {},
   "source": [
    "### Load Modules\n",
    "\n",
    "We'll load the modules we expect to need for these questions:"
   ]
  },
  {
   "cell_type": "code",
   "execution_count": 1,
   "metadata": {},
   "outputs": [],
   "source": [
    "import os\n",
    "import pandas as pd\n",
    "import numpy as np\n",
    "import matplotlib.pyplot as plt\n",
    "plt.rcParams['figure.figsize'] = [10, 4]"
   ]
  },
  {
   "cell_type": "code",
   "execution_count": 2,
   "metadata": {},
   "outputs": [
    {
     "data": {
      "text/plain": [
       "['iris_names.txt', 'iris.csv', 'mount_rainier_daily.csv']"
      ]
     },
     "execution_count": 2,
     "metadata": {},
     "output_type": "execute_result"
    }
   ],
   "source": [
    "location = '../../data/'\n",
    "files = os.listdir(location)\n",
    "files"
   ]
  },
  {
   "cell_type": "markdown",
   "metadata": {},
   "source": [
    "## Load and Inspect Data\n",
    "- open your Jupyter notebook\n",
    "- load the dataset"
   ]
  },
  {
   "cell_type": "code",
   "execution_count": null,
   "metadata": {},
   "outputs": [],
   "source": []
  }
 ],
 "metadata": {
  "kernelspec": {
   "display_name": "Python 3",
   "language": "python",
   "name": "python3"
  },
  "language_info": {
   "codemirror_mode": {
    "name": "ipython",
    "version": 3
   },
   "file_extension": ".py",
   "mimetype": "text/x-python",
   "name": "python",
   "nbconvert_exporter": "python",
   "pygments_lexer": "ipython3",
   "version": "3.8.9"
  }
 },
 "nbformat": 4,
 "nbformat_minor": 4
}
