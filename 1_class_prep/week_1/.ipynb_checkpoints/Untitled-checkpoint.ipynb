{
 "cells": [
  {
   "cell_type": "code",
   "execution_count": 65,
   "id": "rotary-appointment",
   "metadata": {},
   "outputs": [],
   "source": [
    "import pandas as pd\n",
    "import numpy as np\n",
    "import os\n",
    "import glob"
   ]
  },
  {
   "cell_type": "code",
   "execution_count": 60,
   "id": "selective-sauce",
   "metadata": {},
   "outputs": [
    {
     "data": {
      "text/plain": [
       "'/Users/dan/Documents/repos/northeastern/MISM6202/1_class_prep/week_1'"
      ]
     },
     "execution_count": 60,
     "metadata": {},
     "output_type": "execute_result"
    }
   ],
   "source": [
    "current_dir = os.getcwd()\n",
    "current_dir"
   ]
  },
  {
   "cell_type": "code",
   "execution_count": 59,
   "id": "stupid-threat",
   "metadata": {},
   "outputs": [
    {
     "data": {
      "text/plain": [
       "['loantronic_1.ipynb',\n",
       " 'fruit.csv',\n",
       " 'temp',\n",
       " '.DS_Store',\n",
       " 'Untitled.ipynb',\n",
       " 'MISM6202_FacultyConnect_20210511.pptx',\n",
       " '1_0_intro.ipynb',\n",
       " '.ipynb_checkpoints',\n",
       " 'play.ipynb',\n",
       " 'week_1_solution.ipynb copy',\n",
       " 'monty.csv',\n",
       " '1_0_intro_1.ipynb']"
      ]
     },
     "execution_count": 59,
     "metadata": {},
     "output_type": "execute_result"
    }
   ],
   "source": [
    "os.listdir()"
   ]
  },
  {
   "cell_type": "code",
   "execution_count": 61,
   "id": "north-disease",
   "metadata": {},
   "outputs": [],
   "source": [
    "location = current_dir + '/' + 'temp/'"
   ]
  },
  {
   "cell_type": "code",
   "execution_count": null,
   "id": "front-punishment",
   "metadata": {},
   "outputs": [],
   "source": []
  },
  {
   "cell_type": "code",
   "execution_count": 67,
   "id": "critical-knitting",
   "metadata": {},
   "outputs": [],
   "source": [
    "def main(location):\n",
    "    ques = pd.read_csv(location + \"questions.csv\")\n",
    "    ques_clean = pd.read_csv(location + \"questions_clean.csv\")\n",
    "    #Importing solutions as dataframe in dictionary\n",
    "    files = glob.glob(location + 'questions_clean - *.csv')\n",
    "    for file in files:\n",
    "        print(file)\n",
    "    \n",
    "    #ques_cl_col = ques_clean.columns\n",
    "    #df = {}\n",
    "    \n",
    "    #feedback = {}\n",
    "    #for file_name in files:\n",
    "    #    feedback[file_name] = Feedback(file_name)\n",
    "    return (ques, ques_clean)"
   ]
  },
  {
   "cell_type": "code",
   "execution_count": 68,
   "id": "structural-affair",
   "metadata": {},
   "outputs": [
    {
     "name": "stdout",
     "output_type": "stream",
     "text": [
      "/Users/dan/Documents/repos/northeastern/MISM6202/1_class_prep/week_1/temp/questions_clean - 1.csv\n",
      "/Users/dan/Documents/repos/northeastern/MISM6202/1_class_prep/week_1/temp/questions_clean - 3.csv\n",
      "/Users/dan/Documents/repos/northeastern/MISM6202/1_class_prep/week_1/temp/questions_clean - 2.csv\n"
     ]
    }
   ],
   "source": [
    "(ques, ques_clean) = main(location)"
   ]
  },
  {
   "cell_type": "code",
   "execution_count": 70,
   "id": "recognized-belle",
   "metadata": {},
   "outputs": [
    {
     "data": {
      "text/html": [
       "<div>\n",
       "<style scoped>\n",
       "    .dataframe tbody tr th:only-of-type {\n",
       "        vertical-align: middle;\n",
       "    }\n",
       "\n",
       "    .dataframe tbody tr th {\n",
       "        vertical-align: top;\n",
       "    }\n",
       "\n",
       "    .dataframe thead th {\n",
       "        text-align: right;\n",
       "    }\n",
       "</style>\n",
       "<table border=\"1\" class=\"dataframe\">\n",
       "  <thead>\n",
       "    <tr style=\"text-align: right;\">\n",
       "      <th></th>\n",
       "      <th>id</th>\n",
       "      <th>measurement</th>\n",
       "      <th>question</th>\n",
       "    </tr>\n",
       "  </thead>\n",
       "  <tbody>\n",
       "    <tr>\n",
       "      <th>0</th>\n",
       "      <td>1</td>\n",
       "      <td>engagement</td>\n",
       "      <td>I am proud to work for [Company]</td>\n",
       "    </tr>\n",
       "    <tr>\n",
       "      <th>1</th>\n",
       "      <td>2</td>\n",
       "      <td>engagement</td>\n",
       "      <td>I would recommend [Company] as a great place t...</td>\n",
       "    </tr>\n",
       "    <tr>\n",
       "      <th>2</th>\n",
       "      <td>3</td>\n",
       "      <td>engagement</td>\n",
       "      <td>I rarely think about looking for a job at anot...</td>\n",
       "    </tr>\n",
       "    <tr>\n",
       "      <th>3</th>\n",
       "      <td>4</td>\n",
       "      <td>engagement</td>\n",
       "      <td>I see myself still working at [Company] in two...</td>\n",
       "    </tr>\n",
       "    <tr>\n",
       "      <th>4</th>\n",
       "      <td>5</td>\n",
       "      <td>engagement</td>\n",
       "      <td>[Company] motivates me to go beyond what I wou...</td>\n",
       "    </tr>\n",
       "    <tr>\n",
       "      <th>5</th>\n",
       "      <td>6</td>\n",
       "      <td>leadership</td>\n",
       "      <td>The leaders at [company] keep people informed ...</td>\n",
       "    </tr>\n",
       "    <tr>\n",
       "      <th>6</th>\n",
       "      <td>7</td>\n",
       "      <td>leadership</td>\n",
       "      <td>My manager is a great role model for employees</td>\n",
       "    </tr>\n",
       "    <tr>\n",
       "      <th>7</th>\n",
       "      <td>8</td>\n",
       "      <td>leadership</td>\n",
       "      <td>The leaders at [Company] have communicated a v...</td>\n",
       "    </tr>\n",
       "    <tr>\n",
       "      <th>8</th>\n",
       "      <td>9</td>\n",
       "      <td>enablement</td>\n",
       "      <td>I have access to the resources I need to do my...</td>\n",
       "    </tr>\n",
       "    <tr>\n",
       "      <th>9</th>\n",
       "      <td>10</td>\n",
       "      <td>enablement</td>\n",
       "      <td>I have access to the learning and development ...</td>\n",
       "    </tr>\n",
       "    <tr>\n",
       "      <th>10</th>\n",
       "      <td>11</td>\n",
       "      <td>enablement</td>\n",
       "      <td>Most of the systems and processes here support...</td>\n",
       "    </tr>\n",
       "    <tr>\n",
       "      <th>11</th>\n",
       "      <td>12</td>\n",
       "      <td>alignment</td>\n",
       "      <td>I know what I need to do to be successful in m...</td>\n",
       "    </tr>\n",
       "    <tr>\n",
       "      <th>12</th>\n",
       "      <td>13</td>\n",
       "      <td>alignment</td>\n",
       "      <td>I receive appropriate recognition when I do go...</td>\n",
       "    </tr>\n",
       "    <tr>\n",
       "      <th>13</th>\n",
       "      <td>14</td>\n",
       "      <td>alignment</td>\n",
       "      <td>Day-to-day decisions here demonstrate that qua...</td>\n",
       "    </tr>\n",
       "    <tr>\n",
       "      <th>14</th>\n",
       "      <td>15</td>\n",
       "      <td>development</td>\n",
       "      <td>My manager (or someone in management) has show...</td>\n",
       "    </tr>\n",
       "    <tr>\n",
       "      <th>15</th>\n",
       "      <td>16</td>\n",
       "      <td>development</td>\n",
       "      <td>I believe there are good career opportunities ...</td>\n",
       "    </tr>\n",
       "    <tr>\n",
       "      <th>16</th>\n",
       "      <td>17</td>\n",
       "      <td>development</td>\n",
       "      <td>This is a great company for me to make a contr...</td>\n",
       "    </tr>\n",
       "  </tbody>\n",
       "</table>\n",
       "</div>"
      ],
      "text/plain": [
       "    id  measurement                                           question\n",
       "0    1   engagement                   I am proud to work for [Company]\n",
       "1    2   engagement  I would recommend [Company] as a great place t...\n",
       "2    3   engagement  I rarely think about looking for a job at anot...\n",
       "3    4   engagement  I see myself still working at [Company] in two...\n",
       "4    5   engagement  [Company] motivates me to go beyond what I wou...\n",
       "5    6   leadership  The leaders at [company] keep people informed ...\n",
       "6    7   leadership     My manager is a great role model for employees\n",
       "7    8   leadership  The leaders at [Company] have communicated a v...\n",
       "8    9   enablement  I have access to the resources I need to do my...\n",
       "9   10   enablement  I have access to the learning and development ...\n",
       "10  11   enablement  Most of the systems and processes here support...\n",
       "11  12    alignment  I know what I need to do to be successful in m...\n",
       "12  13    alignment  I receive appropriate recognition when I do go...\n",
       "13  14    alignment  Day-to-day decisions here demonstrate that qua...\n",
       "14  15  development  My manager (or someone in management) has show...\n",
       "15  16  development  I believe there are good career opportunities ...\n",
       "16  17  development  This is a great company for me to make a contr..."
      ]
     },
     "execution_count": 70,
     "metadata": {},
     "output_type": "execute_result"
    }
   ],
   "source": [
    "ques_clean"
   ]
  },
  {
   "cell_type": "code",
   "execution_count": 72,
   "id": "digital-shopper",
   "metadata": {},
   "outputs": [
    {
     "data": {
      "text/plain": [
       "['responses_clean.csv',\n",
       " 'responses.csv',\n",
       " 'questions_clean.csv',\n",
       " 'questions_clean - 1.csv',\n",
       " 'questions_clean - 3.csv',\n",
       " 'questions_clean - 2.csv',\n",
       " 'responses_clean - 3.csv',\n",
       " 'responses_clean - 2.csv',\n",
       " 'questions.csv',\n",
       " 'responses_clean - 1.csv']"
      ]
     },
     "execution_count": 72,
     "metadata": {},
     "output_type": "execute_result"
    }
   ],
   "source": [
    "os.listdir(location)"
   ]
  },
  {
   "cell_type": "code",
   "execution_count": 85,
   "id": "interim-billion",
   "metadata": {},
   "outputs": [],
   "source": [
    "\n",
    "\n",
    "def grade_questions(ques_clean, file_name):\n",
    "    # load student submission\n",
    "    ques_student = pd.read_csv(file_name)\n",
    "    \n",
    "    # compare columns\n",
    "    ref_columns = ['id','measurement','question']\n",
    "    required_columns = set(ref_columns)\n",
    "    student_columns = set(ques_student.columns)\n",
    "    \n",
    "    excess_columns = student_columns - required_columns\n",
    "    missing_columns = required_columns - student_columns\n",
    "    \n",
    "    # compare rows\n",
    "    \n",
    "    df_1 = ques_clean.sort_values('id')\n",
    "    df_2 = ques_student.sort_values('id')\n",
    "    assert len(df_1) == len(df_2),'mismatch length of responses'\n",
    "    questions = {}\n",
    "    \n",
    "    for (student, reference) in zip(df_1.to_dict('records'), df_2.to_dict('rectords')):\n",
    "        #print(student, reference)\n",
    "        n = reference['id']\n",
    "        assert student['id'] == reference['id'],'mismatched question ids\\nref: %s\\nstudent: %s' % (reference, student)\n",
    "        for column in ref_columns:\n",
    "            if reference[column] != student[column]:\n",
    "                questions[n] = (k, reference[column], student[column])\n",
    "    "
   ]
  },
  {
   "cell_type": "code",
   "execution_count": 86,
   "id": "resistant-omaha",
   "metadata": {},
   "outputs": [
    {
     "ename": "KeyError",
     "evalue": "<built-in function id>",
     "output_type": "error",
     "traceback": [
      "\u001b[0;31m---------------------------------------------------------------------------\u001b[0m",
      "\u001b[0;31mKeyError\u001b[0m                                  Traceback (most recent call last)",
      "\u001b[0;32m<ipython-input-86-39580c9873b5>\u001b[0m in \u001b[0;36m<module>\u001b[0;34m\u001b[0m\n\u001b[0;32m----> 1\u001b[0;31m \u001b[0mgrade_questions\u001b[0m\u001b[0;34m(\u001b[0m\u001b[0mques_clean\u001b[0m\u001b[0;34m,\u001b[0m \u001b[0mlocation\u001b[0m \u001b[0;34m+\u001b[0m \u001b[0;34m'questions_clean - 1.csv'\u001b[0m\u001b[0;34m)\u001b[0m\u001b[0;34m\u001b[0m\u001b[0;34m\u001b[0m\u001b[0m\n\u001b[0m",
      "\u001b[0;32m<ipython-input-85-44431b207f42>\u001b[0m in \u001b[0;36mgrade_questions\u001b[0;34m(ques_clean, file_name)\u001b[0m\n\u001b[1;32m     20\u001b[0m     \u001b[0;32mfor\u001b[0m \u001b[0;34m(\u001b[0m\u001b[0mstudent\u001b[0m\u001b[0;34m,\u001b[0m \u001b[0mreference\u001b[0m\u001b[0;34m)\u001b[0m \u001b[0;32min\u001b[0m \u001b[0mzip\u001b[0m\u001b[0;34m(\u001b[0m\u001b[0mdf_1\u001b[0m\u001b[0;34m.\u001b[0m\u001b[0mto_dict\u001b[0m\u001b[0;34m(\u001b[0m\u001b[0;34m'records'\u001b[0m\u001b[0;34m)\u001b[0m\u001b[0;34m,\u001b[0m \u001b[0mdf_2\u001b[0m\u001b[0;34m.\u001b[0m\u001b[0mto_dict\u001b[0m\u001b[0;34m(\u001b[0m\u001b[0;34m'rectords'\u001b[0m\u001b[0;34m)\u001b[0m\u001b[0;34m)\u001b[0m\u001b[0;34m:\u001b[0m\u001b[0;34m\u001b[0m\u001b[0;34m\u001b[0m\u001b[0m\n\u001b[1;32m     21\u001b[0m         \u001b[0;31m#print(student, reference)\u001b[0m\u001b[0;34m\u001b[0m\u001b[0;34m\u001b[0m\u001b[0;34m\u001b[0m\u001b[0m\n\u001b[0;32m---> 22\u001b[0;31m         \u001b[0mn\u001b[0m \u001b[0;34m=\u001b[0m \u001b[0mreference\u001b[0m\u001b[0;34m[\u001b[0m\u001b[0mid\u001b[0m\u001b[0;34m]\u001b[0m\u001b[0;34m\u001b[0m\u001b[0;34m\u001b[0m\u001b[0m\n\u001b[0m\u001b[1;32m     23\u001b[0m         \u001b[0;32massert\u001b[0m \u001b[0mstudent\u001b[0m\u001b[0;34m[\u001b[0m\u001b[0;34m'id'\u001b[0m\u001b[0;34m]\u001b[0m \u001b[0;34m==\u001b[0m \u001b[0mreference\u001b[0m\u001b[0;34m[\u001b[0m\u001b[0;34m'id'\u001b[0m\u001b[0;34m]\u001b[0m\u001b[0;34m,\u001b[0m\u001b[0;34m'mismatched question ids\\nref: %s\\nstudent: %s'\u001b[0m \u001b[0;34m%\u001b[0m \u001b[0;34m(\u001b[0m\u001b[0mreference\u001b[0m\u001b[0;34m,\u001b[0m \u001b[0mstudent\u001b[0m\u001b[0;34m)\u001b[0m\u001b[0;34m\u001b[0m\u001b[0;34m\u001b[0m\u001b[0m\n\u001b[1;32m     24\u001b[0m         \u001b[0;32mfor\u001b[0m \u001b[0mcolumn\u001b[0m \u001b[0;32min\u001b[0m \u001b[0mref_columns\u001b[0m\u001b[0;34m:\u001b[0m\u001b[0;34m\u001b[0m\u001b[0;34m\u001b[0m\u001b[0m\n",
      "\u001b[0;31mKeyError\u001b[0m: <built-in function id>"
     ]
    }
   ],
   "source": [
    "grade_questions(ques_clean, location + 'questions_clean - 1.csv')"
   ]
  },
  {
   "cell_type": "code",
   "execution_count": null,
   "id": "swedish-amateur",
   "metadata": {},
   "outputs": [],
   "source": []
  }
 ],
 "metadata": {
  "kernelspec": {
   "display_name": "Python 3",
   "language": "python",
   "name": "python3"
  },
  "language_info": {
   "codemirror_mode": {
    "name": "ipython",
    "version": 3
   },
   "file_extension": ".py",
   "mimetype": "text/x-python",
   "name": "python",
   "nbconvert_exporter": "python",
   "pygments_lexer": "ipython3",
   "version": "3.8.9"
  }
 },
 "nbformat": 4,
 "nbformat_minor": 5
}
