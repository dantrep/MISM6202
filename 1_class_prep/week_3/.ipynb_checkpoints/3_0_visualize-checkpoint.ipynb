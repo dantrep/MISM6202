{
 "cells": [
  {
   "cell_type": "markdown",
   "metadata": {},
   "source": [
    "# Wrangling and Visualization\n",
    "\n",
    "In data science, it is often necessary to source data from multiple providers in order to solve a problem.  Each provider may have a different way of expressing data that you might use to merge (dates, names, telephone numbers, etc).\n",
    "\n",
    "This week's live session will demonstrate these concepts with COVID-19 data from the CDC and Census data from the U.S. Census Bureau."
   ]
  },
  {
   "cell_type": "markdown",
   "metadata": {},
   "source": [
    "# COVID Dataset\n",
    "\n",
    "Load the following dataset from the CDC:\n",
    "\n",
    "```\n",
    "COVID_by_State.csv\n",
    "```\n",
    "\n",
    "Inspect the data to make sure it looks reasonable\n",
    "\n",
    "## Scatter Matrix\n",
    "\n",
    "Select a subset of numerical columns and produce a scatter matrix\n",
    "\n",
    "\n",
    "## U.S. Plots\n",
    "2. Plot the time series for the U.S. new cases by date\n",
    "3. Plot the time series for the U.S. new deaths by date\n",
    "4. Put both plots on the same graph\n",
    "\n",
    "## Massachusetts (Breakout)\n",
    "\n",
    "Repeat the same for the state of Massachusetts\n",
    "\n",
    "# Census Data\n",
    "\n",
    "Load the U.S. Census data with population by State:\n",
    "\n",
    "```\n",
    "nst-est2019-popchg2010_2019.csv\n",
    "```\n",
    "\n",
    "Inspect the data to make sure it looks reasonable\n",
    "\n",
    "## Cases Per 100,000\n",
    "\n",
    "1. Compute the total cases per 100,000 person for all 50 states\n",
    "2. Compute the total deaths per 100,000 person for all 50 states\n",
    "\n",
    "## Produce Box Plots\n",
    "1. To show total cases per 100,000 person across all 50 states\n",
    "2. To show total deaths per 100,000 person across all 50 states\n",
    "\n",
    "## Scatter Plot\n",
    "1. Produce a scatter plot of deaths vs cases for all 50 states and place useful Hover tips\n",
    "\n",
    "## Produce a Paretto (Breakout)\n",
    "1. Of new cases per 100k of population"
   ]
  },
  {
   "cell_type": "code",
   "execution_count": 1,
   "metadata": {},
   "outputs": [],
   "source": [
    "import os\n",
    "import pandas as pd\n",
    "import numpy as np\n",
    "import plotly.express as px\n",
    "import plotly.graph_objects as go"
   ]
  },
  {
   "cell_type": "code",
   "execution_count": 2,
   "metadata": {},
   "outputs": [
    {
     "data": {
      "text/plain": [
       "['CrossStats20150102.txt',\n",
       " 'multiple_choice.csv',\n",
       " 'iris_names.txt',\n",
       " 'iris.csv',\n",
       " 'nst-est2019-popchg2010-2019.pdf',\n",
       " 'mount_rainier_daily.csv',\n",
       " 'COVID_by_State.csv',\n",
       " 'Candidate Assessment.xlsx',\n",
       " 'nst-est2019-popchg2010_2019.csv']"
      ]
     },
     "execution_count": 2,
     "metadata": {},
     "output_type": "execute_result"
    }
   ],
   "source": [
    "location = '../../data/'\n",
    "files = os.listdir(location)\n",
    "files"
   ]
  },
  {
   "cell_type": "markdown",
   "metadata": {},
   "source": [
    "# CDC Data\n",
    "\n",
    "## Load & Examine CDC Data\n",
    "\n",
    "Let's load it:"
   ]
  },
  {
   "cell_type": "code",
   "execution_count": 3,
   "metadata": {},
   "outputs": [],
   "source": [
    "from datetime import datetime\n",
    "dateparse = lambda x: datetime.strptime(x, '%m/%d/%Y')"
   ]
  },
  {
   "cell_type": "code",
   "execution_count": 4,
   "metadata": {},
   "outputs": [],
   "source": [
    "covid = pd.read_csv(location + 'COVID_by_State.csv',\n",
    "                   parse_dates=['submission_date'],date_parser=dateparse)"
   ]
  },
  {
   "cell_type": "markdown",
   "metadata": {},
   "source": [
    "# Census Data"
   ]
  },
  {
   "cell_type": "markdown",
   "metadata": {},
   "source": [
    "## Load & Examine Census Data\n",
    "\n",
    "Let's load it:"
   ]
  },
  {
   "cell_type": "code",
   "execution_count": 18,
   "metadata": {},
   "outputs": [],
   "source": [
    "census = pd.read_csv(location + 'nst-est2019-popchg2010_2019.csv')"
   ]
  },
  {
   "cell_type": "code",
   "execution_count": null,
   "metadata": {},
   "outputs": [],
   "source": []
  }
 ],
 "metadata": {
  "kernelspec": {
   "display_name": "Python 3",
   "language": "python",
   "name": "python3"
  },
  "language_info": {
   "codemirror_mode": {
    "name": "ipython",
    "version": 3
   },
   "file_extension": ".py",
   "mimetype": "text/x-python",
   "name": "python",
   "nbconvert_exporter": "python",
   "pygments_lexer": "ipython3",
   "version": "3.8.9"
  }
 },
 "nbformat": 4,
 "nbformat_minor": 4
}
