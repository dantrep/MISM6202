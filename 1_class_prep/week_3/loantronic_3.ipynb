{
 "cells": [
  {
   "cell_type": "markdown",
   "metadata": {},
   "source": [
    "# Week 3 -- Merge and Visualize"
   ]
  },
  {
   "cell_type": "markdown",
   "metadata": {},
   "source": [
    "This week, we'll work with the three files we created last week:\n",
    "\n",
    "```\n",
    "roster_clean.csv\n",
    "questions_clean.csv\n",
    "responses_clean.csv\n",
    "```\n",
    "\n",
    "The goal is to create a master dataset we can use to assess employee engagement along the five key measurements needed for our final report:\n",
    "\n",
    "- engagement\n",
    "- leadership\n",
    "- enablement\n",
    "- alignment, and\n",
    "- development\n",
    "\n",
    "Once we've produced our master dataset, we can visualize the data to get a sense of the employee population's enthusiasm."
   ]
  },
  {
   "cell_type": "markdown",
   "metadata": {},
   "source": [
    "## Q1: Merge Questions & Responses\n",
    "\n",
    "Load the ```questions_clean.csv``` and ```responses_clean.csv``` datasets.  From here, you can identify the **measurement** that applies to each question:\n",
    "\n",
    "- ```engagement```: the mean of questions 1 to 5\n",
    "- ```leadership```: the mean of questions 6 to 8\n",
    "- ```enablement```: the mean of questions 9 to 11\n",
    "- ```alignment```: the mean of questions 12 to 14\n",
    "- ```development```: the mean of questions 15 to 17\n",
    "\n",
    "Use any technique you want to label each row of the responses dataframe with the correct **measurement**."
   ]
  },
  {
   "cell_type": "markdown",
   "metadata": {},
   "source": [
    "## Q2: Score Each Employee By Measurement\n",
    "\n",
    "(a) Use the ```pivot_table``` function to transform the dataframe from **Q1** into a dataframe with the following columns:\n",
    "\n",
    "- ```employee_id```\n",
    "- ```engagement```: the mean of questions 1 to 5\n",
    "- ```leadership```: the mean of questions 6 to 8\n",
    "- ```enablement```: the mean of questions 9 to 11\n",
    "- ```alignment```: the mean of questions 12 to 14\n",
    "- ```development```: the mean of questions 15 to 17\n",
    "\n",
    "(b) Add a column called ```overall``` which computes the overall satisfcation metric.  This metric is the simple unweighted mean of all 5 \"measurement\" categories.\n",
    "\n",
    "(c) Produce a scatter matrix of Employee Survey Measures from the Pivot Table"
   ]
  },
  {
   "cell_type": "markdown",
   "metadata": {},
   "source": [
    "## Q3 : Merge Employee Scores with Roster\n",
    "\n",
    "Use the ```employee_id``` as the key upon which to merge the dataframe from **Q2** with the ```roster_clean.csv``` file.  Save this file as ```roster_with_score.csv```"
   ]
  },
  {
   "cell_type": "markdown",
   "metadata": {},
   "source": [
    "## Q4: Group by Department Names\n",
    "\n",
    "Use the result from **Q3** to compute the mean **overall** satisfaction by department.\n",
    "\n",
    "(a) assess satisfaction by department\n",
    "\n",
    "(b) produce a Box plot for the **overall** result against each categorical variable of the roster:\n",
    "\n",
    "```python\n",
    "categories = ['function', 'department','location', 'ethnicity','employment_status','tenure','sex']\n",
    "```\n",
    "\n",
    "Inspect the data and provide your observations as to which categorical variables are most likely to impact employee satisfaction."
   ]
  },
  {
   "cell_type": "markdown",
   "metadata": {},
   "source": [
    "## Q5: Insights\n",
    "\n",
    "What business insights can you draw from looking at the data.  State whether the differences appear significant and why.\n",
    "\n",
    "(a) Which functional groups seem most satisfied?  Which ones seem least satisfied?\n",
    "\n",
    "(b) Are some locations more satisfied than others?\n",
    "\n",
    "(c) Do you have reason to believe that tenure relates to overall satisfaction?\n",
    "\n",
    "(d) Out of sex and ethnicity which seems most related to overall satisfaction?"
   ]
  },
  {
   "cell_type": "code",
   "execution_count": null,
   "metadata": {},
   "outputs": [],
   "source": []
  }
 ],
 "metadata": {
  "kernelspec": {
   "display_name": "Python 3",
   "language": "python",
   "name": "python3"
  },
  "language_info": {
   "codemirror_mode": {
    "name": "ipython",
    "version": 3
   },
   "file_extension": ".py",
   "mimetype": "text/x-python",
   "name": "python",
   "nbconvert_exporter": "python",
   "pygments_lexer": "ipython3",
   "version": "3.8.9"
  }
 },
 "nbformat": 4,
 "nbformat_minor": 4
}
