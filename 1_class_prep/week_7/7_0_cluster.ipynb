{
 "cells": [
  {
   "cell_type": "markdown",
   "metadata": {},
   "source": [
    "# Cluster Analysis\n",
    "\n",
    "The Iris dataset was used in R.A. Fisher's classic 1936 paper, The Use of Multiple Measurements in Taxonomic Problems, and can also be found on the [UCI](https://archive.ics.uci.edu/ml/datasets/iris) Machine Learning Repository.\n",
    "\n",
    "It includes three iris species with 50 samples each as well as some properties about each flower. One flower species is linearly separable from the other two, but the other two are not linearly separable from each other.\n",
    "\n",
    "The columns in this dataset are:\n",
    "\n",
    "- Id\n",
    "- SepalLengthCm\n",
    "- SepalWidthCm\n",
    "- PetalLengthCm\n",
    "- PetalWidthCm\n",
    "- Species\n",
    "\n",
    "\n",
    "## Load and Inspect Data\n",
    "\n",
    "1. Load the file for this week's analysis:\n",
    "```\n",
    "iris.csv\n",
    "```\n",
    "2. Measure the correlation coefficient between the features\n",
    " - plot a correlation heatmap and/or a scatter matrix\n",
    "\n",
    "\n",
    "## K-Means Cluster Analysis\n",
    "\n",
    "1. Use K-Means clustering with a cluster count of k=3\n",
    "2. Compare the results of the clustering to the actual labels\n",
    "3. Use the elbow method to decide the optimal k\n",
    "\n",
    "## Hierarchical Clustering\n",
    "1. Use Hierarchical clustering\n",
    "2. Compare the results to K-Means\n"
   ]
  },
  {
   "cell_type": "code",
   "execution_count": 1,
   "metadata": {},
   "outputs": [],
   "source": [
    "import os\n",
    "import pandas as pd\n",
    "import numpy as np\n",
    "import statsmodels.api as sm\n",
    "import plotly.express as px\n",
    "import plotly.graph_objects as go\n",
    "import matplotlib.pyplot as plt\n",
    "import seaborn as sns\n",
    "%matplotlib inline"
   ]
  },
  {
   "cell_type": "markdown",
   "metadata": {},
   "source": [
    "## Custom Evaluation Function\n",
    "\n",
    "You can use the following function to evaluate the accuracy of the model:"
   ]
  },
  {
   "cell_type": "code",
   "execution_count": 2,
   "metadata": {},
   "outputs": [],
   "source": [
    "def summarize(model, values):\n",
    "    result = list(zip(model.labels_,values))\n",
    "    counts = {} # [name] = {0: n, 1:n}\n",
    "    labels = {} # [name] = dominant label\n",
    "    for (label, name) in result:\n",
    "        if name not in counts:\n",
    "            counts[name] = {}\n",
    "            labels[name] = label\n",
    "        if label not in counts[name]:\n",
    "            counts[name][label] = 0\n",
    "        counts[name][label] += 1\n",
    "        other = 0\n",
    "        for l in counts[name].keys():\n",
    "            if l != label:\n",
    "                other = max(other, counts[name][l])\n",
    "        \n",
    "        if counts[name][label] > other:\n",
    "            labels[name] = label\n",
    "    correct = 0\n",
    "    for (label,name) in result:\n",
    "        correct += int(label == labels[name])\n",
    "    print('ACCURACY')\n",
    "    print('Correct:  %d' % correct)\n",
    "    print('Wrong:    %d' % (len(result) - correct))\n",
    "    print('Accuracy: %6.4f' % (correct / len(result)))\n",
    "    return counts"
   ]
  },
  {
   "cell_type": "code",
   "execution_count": 3,
   "metadata": {},
   "outputs": [
    {
     "data": {
      "text/plain": [
       "['responses.csv',\n",
       " 'CrossStats20150102.txt',\n",
       " 'auto_2020.xlsx',\n",
       " 'multiple_choice.csv',\n",
       " 'iris_names.txt',\n",
       " 'state_codes.csv',\n",
       " 'iris.csv',\n",
       " 'nst-est2019-popchg2010-2019.pdf',\n",
       " 'questions.csv',\n",
       " 'mount_rainier_daily.csv',\n",
       " 'COVID_by_State.csv',\n",
       " 'Candidate Assessment.xlsx',\n",
       " 'nst-est2019-popchg2010_2019.csv']"
      ]
     },
     "execution_count": 3,
     "metadata": {},
     "output_type": "execute_result"
    }
   ],
   "source": [
    "location = '../../data/'\n",
    "files = os.listdir(location)\n",
    "files"
   ]
  },
  {
   "cell_type": "markdown",
   "metadata": {},
   "source": [
    "## Load and Inspect Data\n",
    "\n",
    "1. Load the file for this week's analysis:\n",
    "```\n",
    "iris.csv\n",
    "```\n",
    "2. Measure the correlation coefficient between the features\n",
    " - plot a correlation heatmap and/or a scatter matrix"
   ]
  }
 ],
 "metadata": {
  "kernelspec": {
   "display_name": "Python 3",
   "language": "python",
   "name": "python3"
  },
  "language_info": {
   "codemirror_mode": {
    "name": "ipython",
    "version": 3
   },
   "file_extension": ".py",
   "mimetype": "text/x-python",
   "name": "python",
   "nbconvert_exporter": "python",
   "pygments_lexer": "ipython3",
   "version": "3.8.9"
  }
 },
 "nbformat": 4,
 "nbformat_minor": 4
}
