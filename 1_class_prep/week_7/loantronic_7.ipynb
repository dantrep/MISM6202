{
 "cells": [
  {
   "cell_type": "markdown",
   "metadata": {},
   "source": [
    "# Week 6 -- Cluster Analysis\n",
    "\n",
    "This week, we'll continue to analyze the survey results by department.  In particular, we'll look at the five dimensions covered by the survey to understand if there are natural groupings within the employee population.  The metrics reflected in the survey are:\n",
    "\n",
    "- ```engagement```\n",
    "- ```leadership```\n",
    "- ```enablement```\n",
    "- ```alignment```\n",
    "- ```development```\n",
    "\n"
   ]
  },
  {
   "cell_type": "markdown",
   "metadata": {},
   "source": [
    "# Q1: Correlation Coefficient\n",
    "\n",
    "\n",
    "(a) Compute the Pearson correlation coefficient between the five survey measurements outlined above and the **overall** as a $6 \\times 6$ matrix and present it as a heatmap.\n",
    "\n",
    "(b) What survey measurements seem most correlated to the **overall** result?\n",
    "\n",
    "(c) What survey measurements seem least correlated to the **overall** result?"
   ]
  },
  {
   "cell_type": "markdown",
   "metadata": {},
   "source": [
    "# Q2: K-Means Clustering\n",
    "\n",
    "Let's run a K Means cluster analysis for all users the five measurements covered by the survey.\n",
    "\n",
    "(a) Run a K Means cluster analysis for two clusters\n",
    " - plot a scatter matrix of the five survey measurements color coded by cluster\n",
    "\n",
    "(b) Run a K Means cluster analysis for three clusters\n",
    " - plot a scatter matrix of the five survey measurements color coded by cluster\n",
    "\n",
    "(c) Use the Elbow method to identify the optimum number of clusters\n",
    " - plot the elbow method with Inertia\n",
    " - plot the elbow method with Calinski-Harabasz score\n",
    "\n",
    "(d) What number of clusters would you use and why? \n",
    "\n",
    "(e) Let's try to understand **overall** survey results by department.  Let's use a box plot with the x-axis being \"department\" and the y-axis showing **overall** responses.  You can color code groups of cluster membership.\n",
    "\n",
    "(f) Which departments show the highest percentage of members of the most satisfied clusters?  Produce a Pareto plot.\n",
    "\n",
    "(g) Which departments show the highest percentage of members of the least satisfied clusters? Produce a Pareto plot."
   ]
  },
  {
   "cell_type": "markdown",
   "metadata": {},
   "source": [
    "# Q3: Hierarchical Clustering\n",
    "\n",
    "(a) Repeat question 1 using hierarchical clustering using 3 clusters and experiment with various linkage techniques:\n",
    "\n",
    "- Single Linkage\n",
    "- Average Linkage\n",
    "- Complete Linkage\n",
    "- Ward Linkage\n",
    "\n",
    "(b) For each linkage technique, visualize the clustering hierarchy using scatter matrices.\n",
    "\n",
    "For the next three parts, use the \"Complete Linkage\" output with 3 clusters.\n",
    "\n",
    "(c) Produce a box plot to show the distribution of **overall** responses by department color coded by cluster membership. \n",
    " - Which cluster number is the most satisfied group?\n",
    " - Which cluster number is the least satisfied group?\n",
    "\n",
    "(d) Which departments show the highest percentage of members of the most satisfied clusters?\n",
    "\n",
    "(e) Which departments show the highest percentage of members of the least satisfied clusters?"
   ]
  },
  {
   "cell_type": "markdown",
   "metadata": {},
   "source": [
    "# Q4: Compare Results\n",
    "\n",
    "(a) What are the most satisfied departments based on the two approaches?\n",
    "\n",
    "(b) What are the least satisfied departments based on the two approaches?\n",
    "\n",
    "(c) How do the dissatisfaction results compare to the statistical analysis from week 4?"
   ]
  },
  {
   "cell_type": "code",
   "execution_count": null,
   "metadata": {},
   "outputs": [],
   "source": []
  }
 ],
 "metadata": {
  "kernelspec": {
   "display_name": "Python 3",
   "language": "python",
   "name": "python3"
  },
  "language_info": {
   "codemirror_mode": {
    "name": "ipython",
    "version": 3
   },
   "file_extension": ".py",
   "mimetype": "text/x-python",
   "name": "python",
   "nbconvert_exporter": "python",
   "pygments_lexer": "ipython3",
   "version": "3.8.3"
  }
 },
 "nbformat": 4,
 "nbformat_minor": 4
}
