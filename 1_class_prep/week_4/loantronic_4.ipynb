{
 "cells": [
  {
   "cell_type": "markdown",
   "metadata": {},
   "source": [
    "# Week 4 -- Statistical Analysis\n",
    "\n",
    "\n",
    "There is significant debate among academics as to how a Likert scale responses should be interpreted --\n",
    "[Likert items and scales of measurement? by James Dean Brown](https://hosted.jalt.org/test/PDF/Brown34.pdf).  Should the responses be score as we did in **Q4** of week 2?  Or should we look at the proporption of responses assigned to each choice for each respondent (or question)?\n",
    "\n",
    "This week, we will perform the latter and work from the dataset created in **Q4** last week:\n",
    "\n",
    "```roster_with_score.csv```\n",
    "\n",
    "We will compare the survey results by department to the overall survey results to understand which departments may have better or worse morale.  To do this, we will use a $\\chi^2$ Test to compare the responses on the Likert scale from each department to the firm's overall responses."
   ]
  },
  {
   "cell_type": "markdown",
   "metadata": {},
   "source": [
    "## Q1: Compute the Expected Proportions\n",
    "\n",
    "Let's assume we have labeled each response of the Likert scale as follows:\n",
    "\n",
    "Label |  Description\n",
    "--|--\n",
    "1|strongly disagree\n",
    "2| disagree\n",
    "3| neutral\n",
    "4| agree\n",
    "5| strongly agree\n",
    "\n",
    "Compute the expected proportion for each label (1 through 5) by respondent."
   ]
  },
  {
   "cell_type": "markdown",
   "metadata": {},
   "source": [
    "## Q2: Compute the Expected Count by Department\n",
    "\n",
    "Create a new dataframe where you group by department and compute the expected count for each label (1 through 5)."
   ]
  },
  {
   "cell_type": "markdown",
   "metadata": {},
   "source": [
    "## Q3: Compute the $\\chi^2$ Test\n",
    "\n",
    "Now let's compute the $\\chi^2$ Test Statistic by department. To do so, let's answer the following:\n",
    "\n",
    "a) What are the degrees of freedom (k and p) to be used for each test (hint: you should keep track of the number of respondents by department)?\n",
    "\n",
    "b) Build a function to compute the $\\chi^2$ test statistic and apply that function to each user?\n",
    "\n",
    "c) Let's assume our Null Hypothesis $H_0$ is that each department is the same as the overall population.  Identify which department's responses suggest we should reject the Null Hypothesis."
   ]
  },
  {
   "cell_type": "markdown",
   "metadata": {},
   "source": [
    "## Q4: Good and Bad\n",
    "\n",
    "Go through the results from **Q3** to identify:\n",
    "\n",
    "a) which departments are significantly over-performing in terms of the survey metrics, and  \n",
    "\n",
    "b) which ones are significantly under-performing."
   ]
  },
  {
   "cell_type": "code",
   "execution_count": null,
   "metadata": {},
   "outputs": [],
   "source": []
  }
 ],
 "metadata": {
  "kernelspec": {
   "display_name": "Python 3",
   "language": "python",
   "name": "python3"
  },
  "language_info": {
   "codemirror_mode": {
    "name": "ipython",
    "version": 3
   },
   "file_extension": ".py",
   "mimetype": "text/x-python",
   "name": "python",
   "nbconvert_exporter": "python",
   "pygments_lexer": "ipython3",
   "version": "3.8.9"
  }
 },
 "nbformat": 4,
 "nbformat_minor": 4
}
