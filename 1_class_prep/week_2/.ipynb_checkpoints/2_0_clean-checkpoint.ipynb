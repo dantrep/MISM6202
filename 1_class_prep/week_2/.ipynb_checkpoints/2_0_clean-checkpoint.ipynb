{
 "cells": [
  {
   "cell_type": "markdown",
   "metadata": {},
   "source": [
    "# Data Cleaning Example\n",
    "\n",
    "We will load data from the NASDAQ discrete on open, on close, and intraday auctions.  The data is provided on the following site:\n",
    "\n",
    "http://www.nasdaqtrader.com/Trader.aspx?id=OpenClose\n",
    "\n",
    "We will look at the data from January 2, 2015 and do the following:\n",
    "\n",
    "## Load & Inspect\n",
    "1. load the data  \n",
    "2. Inspect the data\n",
    "\n",
    "## Identify Issues\n",
    "1. List issues\n",
    "\n",
    "## Fix Issues\n",
    "1. Use read_csv to fix issues upon loading\n",
    "2. Ensure the date format is properly applied as a ```date``` type\n",
    "\n",
    "## Inspect \n",
    "1. Identify the top 10 highest volume auction symbols for that day (both at the open and at the close)   \n",
    "2. Count how many symbols cross less than 1000 shares at the open\n",
    "3. Count how many symbols cross less than 1000 shares at the close\n",
    "\n",
    "## Pie Chart\n",
    "\n",
    "1. Produce a Pie chart of the relative **volume** of the opening vs closing cross\n",
    "2. Produce a Pie chart of the relative **symbol count** of the opening vs closing cross"
   ]
  },
  {
   "cell_type": "code",
   "execution_count": 1,
   "metadata": {},
   "outputs": [],
   "source": [
    "import os\n",
    "import pandas as pd\n",
    "import numpy as np\n",
    "import matplotlib.pyplot as plt\n",
    "plt.rcParams['figure.figsize'] = [10, 4]"
   ]
  },
  {
   "cell_type": "code",
   "execution_count": 2,
   "metadata": {},
   "outputs": [
    {
     "data": {
      "text/plain": [
       "['responses.csv',\n",
       " 'CrossStats20150102.txt',\n",
       " 'multiple_choice.csv',\n",
       " 'iris_names.txt',\n",
       " 'state_codes.csv',\n",
       " 'iris.csv',\n",
       " 'nst-est2019-popchg2010-2019.pdf',\n",
       " 'questions.csv',\n",
       " 'mount_rainier_daily.csv',\n",
       " 'COVID_by_State.csv',\n",
       " 'Candidate Assessment.xlsx',\n",
       " 'nst-est2019-popchg2010_2019.csv']"
      ]
     },
     "execution_count": 2,
     "metadata": {},
     "output_type": "execute_result"
    }
   ],
   "source": [
    "location = '../../data/'\n",
    "files = os.listdir(location)\n",
    "files"
   ]
  },
  {
   "cell_type": "code",
   "execution_count": null,
   "metadata": {},
   "outputs": [],
   "source": []
  }
 ],
 "metadata": {
  "kernelspec": {
   "display_name": "Python 3",
   "language": "python",
   "name": "python3"
  },
  "language_info": {
   "codemirror_mode": {
    "name": "ipython",
    "version": 3
   },
   "file_extension": ".py",
   "mimetype": "text/x-python",
   "name": "python",
   "nbconvert_exporter": "python",
   "pygments_lexer": "ipython3",
   "version": "3.8.9"
  }
 },
 "nbformat": 4,
 "nbformat_minor": 4
}
