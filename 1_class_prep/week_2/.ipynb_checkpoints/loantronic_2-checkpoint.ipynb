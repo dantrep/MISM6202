{
 "cells": [
  {
   "cell_type": "markdown",
   "metadata": {},
   "source": [
    "# Week 2 -- Load and Clean Data"
   ]
  },
  {
   "cell_type": "markdown",
   "metadata": {},
   "source": [
    "## Summary\n",
    "\n",
    "The first assignment was to load and clean the data for two of the files.  At this point, the client is providing the roster data.  You now have three different files:\n",
    "\n",
    "```\n",
    "roster.csv\n",
    "questions.csv\n",
    "responses.csv\n",
    "```\n",
    "\n",
    "This week, we'll scrub the third file: ```roster.csv```"
   ]
  },
  {
   "cell_type": "markdown",
   "metadata": {},
   "source": [
    "## Q1: Inspect and Clean ```roster.csv```\n",
    "\n",
    "The roster file is the product of the client's Human Resources team.  Unfortunately, every H.R. team member has a different idea of how to enter data, so the catgorical variables are very likely to have problems.\n",
    "\n",
    "Please load the ```roster.csv``` file and inspect the data to make sure it respects the data dictionary requirements.\n",
    "\n",
    "### Important\n",
    "\n",
    "Review each categorical variable to make sure they fall into valid categories and convert the variables into a categorical ```dtype```.\n"
   ]
  },
  {
   "cell_type": "markdown",
   "metadata": {},
   "source": [
    "### Data Dictionary\n",
    "\n",
    "This table summarizes the expected values for the fields in the ```roster.csv``` file:\n",
    "\n",
    "Attribute Name | Field Name | Type | Categorical | Restrictions | Description\n",
    "--|--|--|--|--|--\n",
    "Employee ID | ```employee_id``` |```int``` | No | 1 and above | Employee ID assigned at start of employment\n",
    "Title | ```title``` |```str``` | No | | Job title\n",
    "Last Name | ```last``` |```str``` | No | | Employee's last name\n",
    "First Name | ```first``` |```str``` | No |  | Employee's first name\n",
    "Manager ID | ```manager_id``` |```int``` | No | 1 and above | Manager's employee ID\n",
    "Function | ```function``` |```str``` | Yes | | Functional reporting structure\n",
    "Department |```department``` |```str``` | Yes |  | Departmental reporting structure\n",
    "Location  |```location``` |```str``` | Yes | | Office Location\n",
    "Age  |```age``` |```str``` | Yes | | Age by group of 10 years\n",
    "Sex  |```sex``` |```str``` | Yes | | Sex\n",
    "Employment Status  |```employment_status``` |```str``` | Yes | | Employment status (part time, full time)\n",
    "Tenure  |```tenure``` |```str``` | Yes | | Tenure with the company in discrete increments\n"
   ]
  },
  {
   "cell_type": "markdown",
   "metadata": {},
   "source": [
    "### Function\n",
    "\n",
    "This field looks at the functional area of the worker.  Legitimate values for this field are:\n",
    "\n",
    "```\n",
    "+--------------------------+\n",
    "|          Value           |\n",
    "+--------------------------+\n",
    "|       Engineering        |\n",
    "| Finance & Administration |\n",
    "|        Leadership        |\n",
    "|     Loan Operations      |\n",
    "|        Marketing         |\n",
    "|         Product          |\n",
    "|        Technology        |\n",
    "|        Compliance        |\n",
    "+--------------------------+\n",
    "```"
   ]
  },
  {
   "cell_type": "markdown",
   "metadata": {},
   "source": [
    "### Location\n",
    "\n",
    "The client operates in five locations.  The following table lists the locations:\n",
    "\n",
    "```\n",
    "+-------------------+\n",
    "|       Value       |\n",
    "+-------------------+\n",
    "|    Atlanta, GA    |\n",
    "|     Austin, TX    |\n",
    "|    Chicago, IL    |\n",
    "| Mountain View, CA |\n",
    "|    New York, NY   |\n",
    "+-------------------+\n",
    "```"
   ]
  },
  {
   "cell_type": "markdown",
   "metadata": {},
   "source": [
    "### Ethnicity\n",
    "\n",
    "The following labels are used to classify each employee's ethnicity:\n",
    "\n",
    "```\n",
    "+------------------+\n",
    "|      Value       |\n",
    "+------------------+\n",
    "| african_american |\n",
    "|      asian       |\n",
    "|     hispanic     |\n",
    "|    mixed_race    |\n",
    "|      white       |\n",
    "+------------------+\n",
    "```"
   ]
  },
  {
   "cell_type": "markdown",
   "metadata": {},
   "source": [
    "### Employment Status\n",
    "\n",
    "Contractors were not asked to complete the survey so the only two employment statuses are the following:\n",
    "```\n",
    "+-----------+\n",
    "|   Value   |\n",
    "+-----------+\n",
    "| Full time |\n",
    "| Part time |\n",
    "+-----------+\n",
    "```"
   ]
  },
  {
   "cell_type": "markdown",
   "metadata": {},
   "source": [
    "### Tenure\n",
    "\n",
    "The client's firm is six years old.  The following table provides the categories used to classify the tenure duration:\n",
    "```\n",
    "+------------------------------+\n",
    "|            Value             |\n",
    "+------------------------------+\n",
    "|      less than 6 months      |\n",
    "| 6 months to less than 1 year |\n",
    "|    1 to less than 2 years    |\n",
    "|    2 to less than 4 years    |\n",
    "|    4 to less than 6 years    |\n",
    "+------------------------------+\n",
    "```"
   ]
  },
  {
   "cell_type": "markdown",
   "metadata": {},
   "source": [
    "### Department\n",
    "\n",
    "The department name categories are clean.  The Director of H.R. personally scrubbed all department names.  So you are off the hook for this variable.  You should still make sure you are converting the Series to a categorical ```dtype```."
   ]
  },
  {
   "cell_type": "markdown",
   "metadata": {},
   "source": [
    "### Final Deliverables\n",
    "\n",
    "(a) produce the output of the describe function (mean, standard dev, etc...) for the numerical values\n",
    "\n",
    "(b) interpret the describe function output\n",
    "\n",
    "(c) categorical variables -- clean values and when unknowns remain list how you might go about cleaning up (get extra points for implementing the clean-up)\n",
    "\n",
    "(d) produce pie charts with the breakdown of counts for each category\n",
    "\n",
    "(e) Save the clean version of the roster as a CSV file under the name : ```roster_clean.csv```"
   ]
  },
  {
   "cell_type": "code",
   "execution_count": null,
   "metadata": {},
   "outputs": [],
   "source": []
  }
 ],
 "metadata": {
  "kernelspec": {
   "display_name": "Python 3",
   "language": "python",
   "name": "python3"
  },
  "language_info": {
   "codemirror_mode": {
    "name": "ipython",
    "version": 3
   },
   "file_extension": ".py",
   "mimetype": "text/x-python",
   "name": "python",
   "nbconvert_exporter": "python",
   "pygments_lexer": "ipython3",
   "version": "3.8.9"
  }
 },
 "nbformat": 4,
 "nbformat_minor": 4
}
