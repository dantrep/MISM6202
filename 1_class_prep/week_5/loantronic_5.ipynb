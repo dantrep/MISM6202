{
 "cells": [
  {
   "cell_type": "markdown",
   "metadata": {},
   "source": [
    "# Week 5 -- Univariate OLS Regression\n",
    "\n",
    "This week we will explore a different approach at evaluating the results of the Likert survey.  We will assume an equal distance between each label as we did in assessing the **overall** score in week 2:\n",
    "\n",
    "Label | Description | Percent Score\n",
    "--|--|--\n",
    "1 | strongly disagree | 0.20\n",
    "2 | disagree | 0.40\n",
    "3 | neutral | 0.60\n",
    "4 | agree | 0.80\n",
    "5 | strongly agree | 1.00\n",
    "\n",
    "To make matters more interesting, we have a new dataset this week:\n",
    "\n",
    "```demographic_detail.csv```\n",
    "\n",
    "This dataset comprises the following metrics:\n",
    "\n",
    "Attribute Name | Field Name | Type | Categorical | Restrictions | Description\n",
    "--|--|--|--|--|--\n",
    "Employee ID | ```employee_id``` |```int``` | No | 1 and above | Employee ID assigned at start of employment\n",
    "Year of Birth | ```year_of_birth``` |```int``` | No |  | Calendar year in which the employee was born\n",
    "Time on the Job | ```time_on_the_job``` |```int``` | No |  | Number of months since the employee joined the company\n",
    "\n"
   ]
  },
  {
   "cell_type": "markdown",
   "metadata": {},
   "source": [
    "## Q1: Merge Datasets\n",
    "\n",
    "Merge the new dataset with the ```roster_with_score.csv``` data.  Save the resulting dataframe as a new csv: ```roster_with_score_2.csv```"
   ]
  },
  {
   "cell_type": "markdown",
   "metadata": {},
   "source": [
    "## Q2: Correlation Coefficients\n",
    "\n",
    "Compute the correlation coefficients for the two new variables in the dataset against **overall** satisfaction.  (**HINT**: you may want to transform the year of birth before computing the correlation coefficient)."
   ]
  },
  {
   "cell_type": "markdown",
   "metadata": {},
   "source": [
    "## Q3: OLS Regression\n",
    "\n",
    "Using the ```statsmodels``` OLS regression package perform and OLS regression of ```overall``` satisfaction vs. the two variables available in the in the dataset.\n",
    "\n",
    "(a) which of the two regressions produces better results?\n",
    "\n",
    "(b) what metric(s) are you using to make that assessment?"
   ]
  },
  {
   "cell_type": "markdown",
   "metadata": {},
   "source": [
    "## Q4: Residual Analysis\n",
    "\n",
    "Inspect the residuals of the two regressions. \n",
    "\n",
    "(a) Are they normally distributed?\n",
    "\n",
    "(b) Do you notice any significant outliers?\n",
    "\n",
    "(c) Do you observe anything else of concern?"
   ]
  },
  {
   "cell_type": "markdown",
   "metadata": {},
   "source": [
    "# Q5: Business Insights\n",
    "\n",
    "How do you interpret the results of the regressions?\n",
    "\n",
    "What do you recommend based on this analysis?"
   ]
  },
  {
   "cell_type": "code",
   "execution_count": null,
   "metadata": {},
   "outputs": [],
   "source": []
  }
 ],
 "metadata": {
  "kernelspec": {
   "display_name": "Python 3",
   "language": "python",
   "name": "python3"
  },
  "language_info": {
   "codemirror_mode": {
    "name": "ipython",
    "version": 3
   },
   "file_extension": ".py",
   "mimetype": "text/x-python",
   "name": "python",
   "nbconvert_exporter": "python",
   "pygments_lexer": "ipython3",
   "version": "3.8.9"
  }
 },
 "nbformat": 4,
 "nbformat_minor": 4
}
