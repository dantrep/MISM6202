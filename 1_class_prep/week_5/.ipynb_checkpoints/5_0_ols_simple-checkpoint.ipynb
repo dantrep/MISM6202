{
 "cells": [
  {
   "cell_type": "markdown",
   "metadata": {},
   "source": [
    "# Simple OLS Regression"
   ]
  },
  {
   "cell_type": "markdown",
   "metadata": {},
   "source": [
    "### Figure Out the Beta and Alpha of AAPL Stock\n",
    "\n",
    "In finance, people often compare the peformance of a stock to a benchmark.  A common benchmark is the S&P 500.  Let's take a well known stock Apple and compare it to the S&P 500 and compute the beta and alpha.\n",
    "\n",
    "### What Is Beta?\n",
    "\n",
    "Beta is the slope of the returns of the stock vs the benchmark\n",
    "\n",
    "### What is Alpha?\n",
    "\n",
    "Alpha is the excess returns of the stocks relative to the benchmark\n",
    "\n",
    "### How Can We Compute this?\n",
    "\n",
    "Run a regression of daily returns of the stock vs the daily returns of the S&P 500 (the SPY will be the proxy)"
   ]
  },
  {
   "cell_type": "markdown",
   "metadata": {},
   "source": [
    "# Questions\n",
    "\n",
    "### Load and inspect the data\n",
    "\n",
    "1. Use Pandas Data Reader to load and inspect the data for AAPL and SPY\n",
    "2. Compute daily returns for each instrument\n",
    "3. Merge the datasets by using the date field as a key\n",
    "\n",
    "### Run a Regression\n",
    "\n",
    "1. Use statsmodels to run an OLS regression of AAPL returns vs. SPY returns\n",
    "2. Are the regression results meaningful?\n",
    "\n",
    "### Visualize The Result\n",
    "\n",
    "1. Use seaborn's regplot to visualize the regegression result\n",
    "2. Visualize the residuals including with a Q-over-Q plot\n",
    "3. Do you notice anything strange?"
   ]
  },
  {
   "cell_type": "code",
   "execution_count": 1,
   "metadata": {},
   "outputs": [],
   "source": [
    "import os\n",
    "import pandas as pd\n",
    "import numpy as np\n",
    "import statsmodels.api as sm\n",
    "import plotly.express as px\n",
    "import plotly.graph_objects as go"
   ]
  },
  {
   "cell_type": "code",
   "execution_count": 2,
   "metadata": {},
   "outputs": [],
   "source": [
    "import pandas_datareader.data as web"
   ]
  },
  {
   "cell_type": "markdown",
   "metadata": {},
   "source": [
    "# Load The Data"
   ]
  },
  {
   "cell_type": "code",
   "execution_count": 3,
   "metadata": {},
   "outputs": [],
   "source": [
    "from datetime import datetime\n",
    "\n",
    "start = datetime(2016, 9, 1)\n",
    "\n",
    "end = datetime(2018, 9, 1)\n",
    "\n",
    "aapl = web.DataReader('AAPL', 'yahoo', start, end)\n",
    "spy = web.DataReader('SPY', 'yahoo', start, end)"
   ]
  },
  {
   "cell_type": "code",
   "execution_count": null,
   "metadata": {},
   "outputs": [],
   "source": []
  }
 ],
 "metadata": {
  "kernelspec": {
   "display_name": "Python 3",
   "language": "python",
   "name": "python3"
  },
  "language_info": {
   "codemirror_mode": {
    "name": "ipython",
    "version": 3
   },
   "file_extension": ".py",
   "mimetype": "text/x-python",
   "name": "python",
   "nbconvert_exporter": "python",
   "pygments_lexer": "ipython3",
   "version": "3.8.9"
  }
 },
 "nbformat": 4,
 "nbformat_minor": 4
}
