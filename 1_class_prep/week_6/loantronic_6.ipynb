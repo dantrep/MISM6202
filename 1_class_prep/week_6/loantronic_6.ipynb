{
 "cells": [
  {
   "cell_type": "markdown",
   "metadata": {},
   "source": [
    "# Week 6 -- Multivariate OLS Regression\n",
    "\n",
    "\n",
    "Let's use the dataset from last week to perform a multi-variate OLS Regression."
   ]
  },
  {
   "cell_type": "markdown",
   "metadata": {},
   "source": [
    "## Q1: Regressors\n",
    "\n",
    "Many of the variables available from the ```roster_with_score_2.csv``` file are categorical:\n",
    "\n",
    "Attribute Name | Field Name | Type | Categorical | Restrictions | Description\n",
    "--|--|--|--|--|--\n",
    "Department |```department``` |```str``` | Yes |  | Departmental reporting structure\n",
    "Location  |```location``` |```str``` | Yes | | Office Location\n",
    "Age  |```age``` |```str``` | Yes | | Age by group of 10 years\n",
    "Sex  |```sex``` |```str``` | Yes | | Sex\n",
    "Employment Status  |```employment_status``` |```str``` | Yes | | Employment status (part time, full time)\n",
    "Tenure  |```tenure``` |```str``` | Yes | | Tenure with the company in discrete increments\n",
    "\n",
    "(a) For each categorical variable, create dummy variables that are suitable for use in an OLS regression (hint: please be careful to avoid multi-colinearity).\n",
    "\n",
    "(b) Given the available regressors, would you keep all the categorical variables you identified above?"
   ]
  },
  {
   "cell_type": "markdown",
   "metadata": {},
   "source": [
    "## Q2: Run Regressions and Assess Results\n",
    "\n",
    "Let's keep the two regressors we added last week (time on the job, year of birth).  Run multivariate regressions and assess which regressors are significant.\n",
    "\n",
    "(a) Run a \"kitchen sink\" model which includes all possible (or a large number of) regressors\n",
    "\n",
    "(b) Which regressors are worth keeping and why?  Rerun the regression with the reduced complexity model.\n",
    "\n",
    "(c) Inspect the residuals -- are they normally distributed?\n",
    "\n",
    "(d) Compare the results of your regression to the results from last week.  If there is improvement in key metrics, is the increased complexity justified?  Which metric would you use to justify this?"
   ]
  },
  {
   "cell_type": "markdown",
   "metadata": {},
   "source": [
    "## Q3: Other Regressors\n",
    "\n",
    "If you had unlimited programming skills, what other regressors would you create from the available data?"
   ]
  },
  {
   "cell_type": "markdown",
   "metadata": {},
   "source": [
    "# Logistic Regression???"
   ]
  },
  {
   "cell_type": "code",
   "execution_count": null,
   "metadata": {},
   "outputs": [],
   "source": []
  }
 ],
 "metadata": {
  "kernelspec": {
   "display_name": "Python 3",
   "language": "python",
   "name": "python3"
  },
  "language_info": {
   "codemirror_mode": {
    "name": "ipython",
    "version": 3
   },
   "file_extension": ".py",
   "mimetype": "text/x-python",
   "name": "python",
   "nbconvert_exporter": "python",
   "pygments_lexer": "ipython3",
   "version": "3.8.9"
  }
 },
 "nbformat": 4,
 "nbformat_minor": 4
}
