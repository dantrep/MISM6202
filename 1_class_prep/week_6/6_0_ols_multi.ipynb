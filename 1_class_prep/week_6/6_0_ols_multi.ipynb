{
 "cells": [
  {
   "attachments": {},
   "cell_type": "markdown",
   "metadata": {},
   "source": [
    "# OLS Multi Variate Regression\n",
    "\n",
    "We have a simple HR dataset where we are trying to predict salary from a number of variables:\n",
    "\n",
    "- Competence Rating  \n",
    "- Sex of the candidate  \n",
    "- Sex of the assessor  \n",
    "- Age of the assessor  \n",
    "- The department the candidate is looking to join: biology, chemistry, or physics  \n",
    "\n",
    "The task is to develop a multi variate regression model to help explain salary differences.\n",
    "\n",
    "## Load & Inspect The Data\n",
    "\n",
    "1. Load the data and transform to categorical ```dtypes```\n",
    "2. Inspect the data using plots against the salary\n",
    "\n",
    "## Run A Multi Variate Regression with All Regressors\n",
    "\n",
    "1. Assess the result  \n",
    "2. Do you notice anything strange?\n",
    "\n",
    "## Fix Issues\n",
    "\n",
    "1. If you notice strange effects, fix the issues and\n",
    "2. Re run the regression\n",
    "3. Provide another residual inspection"
   ]
  },
  {
   "cell_type": "code",
   "execution_count": 1,
   "metadata": {},
   "outputs": [],
   "source": [
    "import os\n",
    "import pandas as pd\n",
    "import numpy as np\n",
    "import statsmodels.api as sm\n",
    "import plotly.express as px\n",
    "import plotly.graph_objects as go"
   ]
  },
  {
   "cell_type": "code",
   "execution_count": 2,
   "metadata": {},
   "outputs": [
    {
     "data": {
      "text/plain": [
       "['CrossStats20150102.txt',\n",
       " 'multiple_choice.csv',\n",
       " 'iris_names.txt',\n",
       " 'state_codes.csv',\n",
       " 'iris.csv',\n",
       " 'nst-est2019-popchg2010-2019.pdf',\n",
       " 'mount_rainier_daily.csv',\n",
       " 'COVID_by_State.csv',\n",
       " 'Candidate Assessment.xlsx',\n",
       " 'nst-est2019-popchg2010_2019.csv']"
      ]
     },
     "execution_count": 2,
     "metadata": {},
     "output_type": "execute_result"
    }
   ],
   "source": [
    "location = '../data/'\n",
    "files = os.listdir(location)\n",
    "files"
   ]
  },
  {
   "cell_type": "markdown",
   "metadata": {},
   "source": [
    "# Load File\n",
    "\n",
    "The file is as follows:\n",
    "\n",
    "```\n",
    "Candidate Assessment.xlsx\n",
    "```"
   ]
  },
  {
   "cell_type": "code",
   "execution_count": null,
   "metadata": {},
   "outputs": [],
   "source": []
  }
 ],
 "metadata": {
  "kernelspec": {
   "display_name": "Python 3",
   "language": "python",
   "name": "python3"
  },
  "language_info": {
   "codemirror_mode": {
    "name": "ipython",
    "version": 3
   },
   "file_extension": ".py",
   "mimetype": "text/x-python",
   "name": "python",
   "nbconvert_exporter": "python",
   "pygments_lexer": "ipython3",
   "version": "3.8.9"
  }
 },
 "nbformat": 4,
 "nbformat_minor": 4
}
